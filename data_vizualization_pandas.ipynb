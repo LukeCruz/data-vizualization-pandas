{
  "nbformat": 4,
  "nbformat_minor": 0,
  "metadata": {
    "colab": {
      "provenance": [],
      "toc_visible": true,
      "authorship_tag": "ABX9TyNCOOp4a1HEr3JI9aLo8xpR",
      "include_colab_link": true
    },
    "kernelspec": {
      "name": "python3",
      "display_name": "Python 3"
    },
    "language_info": {
      "name": "python"
    }
  },
  "cells": [
    {
      "cell_type": "markdown",
      "metadata": {
        "id": "view-in-github",
        "colab_type": "text"
      },
      "source": [
        "<a href=\"https://colab.research.google.com/github/LukeCruz/data-vizualization-pandas/blob/master/data_vizualization_pandas.ipynb\" target=\"_parent\"><img src=\"https://colab.research.google.com/assets/colab-badge.svg\" alt=\"Open In Colab\"/></a>"
      ]
    },
    {
      "cell_type": "markdown",
      "source": [
        "#Pandas"
      ],
      "metadata": {
        "id": "RazCM2ejftnN"
      }
    },
    {
      "cell_type": "markdown",
      "source": [
        "O pandas é uma biblioteca amplamente utilizada para tratamento e vizualização de dados de diversas fontes.\n",
        "\n",
        "Para trabalharmos com o pandas , alguns conceitos são importantes."
      ],
      "metadata": {
        "id": "zTS8n4B3fwcT"
      }
    },
    {
      "cell_type": "markdown",
      "source": [
        "##biblioteca\n",
        "  Bibliotecas são aglomerados de código comumente utilizados na comunidade para determinado fim."
      ],
      "metadata": {
        "id": "soS2qWA7gDLJ"
      }
    },
    {
      "cell_type": "code",
      "execution_count": 1,
      "metadata": {
        "id": "n5z6r1NoDohS"
      },
      "outputs": [],
      "source": [
        "#importando a biblioteca pandas e colocando um ALIAS como pd\n",
        "import pandas as pd"
      ]
    },
    {
      "cell_type": "markdown",
      "source": [
        "##Dataframe"
      ],
      "metadata": {
        "id": "juRfXKxEgPCF"
      }
    },
    {
      "cell_type": "markdown",
      "source": [
        "![image.png](data:image/png;base64,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)"
      ],
      "metadata": {
        "id": "eu1oRsafgSyp"
      }
    },
    {
      "cell_type": "markdown",
      "source": [
        "Gerando um dataframe com valores aleatórios gerados pelo numpy"
      ],
      "metadata": {
        "id": "g1Jbaz0xmVSu"
      }
    },
    {
      "cell_type": "code",
      "source": [
        "import numpy"
      ],
      "metadata": {
        "id": "i63lxXJbl9vE"
      },
      "execution_count": null,
      "outputs": []
    },
    {
      "cell_type": "code",
      "source": [
        "data = pd.date_range('1/1/2000',periods=10)\n",
        "\n",
        "data_df = pd.DataFrame(numpy.random.randn(10,4),\n",
        "                       index=data, columns=['coluna A', 'coluna B', 'coluna C', 'coluna F'])"
      ],
      "metadata": {
        "id": "39pVtx_RkzZZ"
      },
      "execution_count": null,
      "outputs": []
    },
    {
      "cell_type": "code",
      "source": [
        "display(data)"
      ],
      "metadata": {
        "colab": {
          "base_uri": "https://localhost:8080/",
          "height": 69
        },
        "id": "R0L9WEZrmB1p",
        "outputId": "2756d1cd-d567-4bc4-bab1-4afca5602338"
      },
      "execution_count": null,
      "outputs": [
        {
          "output_type": "display_data",
          "data": {
            "text/plain": [
              "DatetimeIndex(['2000-01-01', '2000-01-02', '2000-01-03', '2000-01-04',\n",
              "               '2000-01-05', '2000-01-06', '2000-01-07', '2000-01-08'],\n",
              "              dtype='datetime64[ns]', freq='D')"
            ]
          },
          "metadata": {}
        }
      ]
    },
    {
      "cell_type": "code",
      "source": [
        "display(data_df)"
      ],
      "metadata": {
        "colab": {
          "base_uri": "https://localhost:8080/",
          "height": 363
        },
        "id": "9LGae6U7mHVB",
        "outputId": "2bf0b199-dd42-43bf-db55-10e36185e9fc"
      },
      "execution_count": null,
      "outputs": [
        {
          "output_type": "display_data",
          "data": {
            "text/plain": [
              "            coluna A  coluna B  coluna C  coluna F\n",
              "2000-01-01  1.148208  0.862417  0.618706 -0.996878\n",
              "2000-01-02 -0.214561  0.127479 -0.860292 -0.804047\n",
              "2000-01-03  1.077232  0.406549  0.419067 -0.974120\n",
              "2000-01-04  0.646721  0.671233 -0.763011 -1.000603\n",
              "2000-01-05 -0.434575  0.588520 -0.177855  1.175469\n",
              "2000-01-06  0.340177  1.046855 -1.198159  0.870704\n",
              "2000-01-07  0.742013 -2.476414  0.325582  0.531934\n",
              "2000-01-08 -0.120115  0.807638  0.169045 -2.466437\n",
              "2000-01-09 -0.271843  0.632693 -1.222299 -1.103042\n",
              "2000-01-10 -0.865443  0.212499 -0.577051  0.167672"
            ],
            "text/html": [
              "\n",
              "  <div id=\"df-e415b030-ccd7-4ae4-b7e1-9e29b5501216\">\n",
              "    <div class=\"colab-df-container\">\n",
              "      <div>\n",
              "<style scoped>\n",
              "    .dataframe tbody tr th:only-of-type {\n",
              "        vertical-align: middle;\n",
              "    }\n",
              "\n",
              "    .dataframe tbody tr th {\n",
              "        vertical-align: top;\n",
              "    }\n",
              "\n",
              "    .dataframe thead th {\n",
              "        text-align: right;\n",
              "    }\n",
              "</style>\n",
              "<table border=\"1\" class=\"dataframe\">\n",
              "  <thead>\n",
              "    <tr style=\"text-align: right;\">\n",
              "      <th></th>\n",
              "      <th>coluna A</th>\n",
              "      <th>coluna B</th>\n",
              "      <th>coluna C</th>\n",
              "      <th>coluna F</th>\n",
              "    </tr>\n",
              "  </thead>\n",
              "  <tbody>\n",
              "    <tr>\n",
              "      <th>2000-01-01</th>\n",
              "      <td>1.148208</td>\n",
              "      <td>0.862417</td>\n",
              "      <td>0.618706</td>\n",
              "      <td>-0.996878</td>\n",
              "    </tr>\n",
              "    <tr>\n",
              "      <th>2000-01-02</th>\n",
              "      <td>-0.214561</td>\n",
              "      <td>0.127479</td>\n",
              "      <td>-0.860292</td>\n",
              "      <td>-0.804047</td>\n",
              "    </tr>\n",
              "    <tr>\n",
              "      <th>2000-01-03</th>\n",
              "      <td>1.077232</td>\n",
              "      <td>0.406549</td>\n",
              "      <td>0.419067</td>\n",
              "      <td>-0.974120</td>\n",
              "    </tr>\n",
              "    <tr>\n",
              "      <th>2000-01-04</th>\n",
              "      <td>0.646721</td>\n",
              "      <td>0.671233</td>\n",
              "      <td>-0.763011</td>\n",
              "      <td>-1.000603</td>\n",
              "    </tr>\n",
              "    <tr>\n",
              "      <th>2000-01-05</th>\n",
              "      <td>-0.434575</td>\n",
              "      <td>0.588520</td>\n",
              "      <td>-0.177855</td>\n",
              "      <td>1.175469</td>\n",
              "    </tr>\n",
              "    <tr>\n",
              "      <th>2000-01-06</th>\n",
              "      <td>0.340177</td>\n",
              "      <td>1.046855</td>\n",
              "      <td>-1.198159</td>\n",
              "      <td>0.870704</td>\n",
              "    </tr>\n",
              "    <tr>\n",
              "      <th>2000-01-07</th>\n",
              "      <td>0.742013</td>\n",
              "      <td>-2.476414</td>\n",
              "      <td>0.325582</td>\n",
              "      <td>0.531934</td>\n",
              "    </tr>\n",
              "    <tr>\n",
              "      <th>2000-01-08</th>\n",
              "      <td>-0.120115</td>\n",
              "      <td>0.807638</td>\n",
              "      <td>0.169045</td>\n",
              "      <td>-2.466437</td>\n",
              "    </tr>\n",
              "    <tr>\n",
              "      <th>2000-01-09</th>\n",
              "      <td>-0.271843</td>\n",
              "      <td>0.632693</td>\n",
              "      <td>-1.222299</td>\n",
              "      <td>-1.103042</td>\n",
              "    </tr>\n",
              "    <tr>\n",
              "      <th>2000-01-10</th>\n",
              "      <td>-0.865443</td>\n",
              "      <td>0.212499</td>\n",
              "      <td>-0.577051</td>\n",
              "      <td>0.167672</td>\n",
              "    </tr>\n",
              "  </tbody>\n",
              "</table>\n",
              "</div>\n",
              "      <button class=\"colab-df-convert\" onclick=\"convertToInteractive('df-e415b030-ccd7-4ae4-b7e1-9e29b5501216')\"\n",
              "              title=\"Convert this dataframe to an interactive table.\"\n",
              "              style=\"display:none;\">\n",
              "        \n",
              "  <svg xmlns=\"http://www.w3.org/2000/svg\" height=\"24px\"viewBox=\"0 0 24 24\"\n",
              "       width=\"24px\">\n",
              "    <path d=\"M0 0h24v24H0V0z\" fill=\"none\"/>\n",
              "    <path d=\"M18.56 5.44l.94 2.06.94-2.06 2.06-.94-2.06-.94-.94-2.06-.94 2.06-2.06.94zm-11 1L8.5 8.5l.94-2.06 2.06-.94-2.06-.94L8.5 2.5l-.94 2.06-2.06.94zm10 10l.94 2.06.94-2.06 2.06-.94-2.06-.94-.94-2.06-.94 2.06-2.06.94z\"/><path d=\"M17.41 7.96l-1.37-1.37c-.4-.4-.92-.59-1.43-.59-.52 0-1.04.2-1.43.59L10.3 9.45l-7.72 7.72c-.78.78-.78 2.05 0 2.83L4 21.41c.39.39.9.59 1.41.59.51 0 1.02-.2 1.41-.59l7.78-7.78 2.81-2.81c.8-.78.8-2.07 0-2.86zM5.41 20L4 18.59l7.72-7.72 1.47 1.35L5.41 20z\"/>\n",
              "  </svg>\n",
              "      </button>\n",
              "      \n",
              "  <style>\n",
              "    .colab-df-container {\n",
              "      display:flex;\n",
              "      flex-wrap:wrap;\n",
              "      gap: 12px;\n",
              "    }\n",
              "\n",
              "    .colab-df-convert {\n",
              "      background-color: #E8F0FE;\n",
              "      border: none;\n",
              "      border-radius: 50%;\n",
              "      cursor: pointer;\n",
              "      display: none;\n",
              "      fill: #1967D2;\n",
              "      height: 32px;\n",
              "      padding: 0 0 0 0;\n",
              "      width: 32px;\n",
              "    }\n",
              "\n",
              "    .colab-df-convert:hover {\n",
              "      background-color: #E2EBFA;\n",
              "      box-shadow: 0px 1px 2px rgba(60, 64, 67, 0.3), 0px 1px 3px 1px rgba(60, 64, 67, 0.15);\n",
              "      fill: #174EA6;\n",
              "    }\n",
              "\n",
              "    [theme=dark] .colab-df-convert {\n",
              "      background-color: #3B4455;\n",
              "      fill: #D2E3FC;\n",
              "    }\n",
              "\n",
              "    [theme=dark] .colab-df-convert:hover {\n",
              "      background-color: #434B5C;\n",
              "      box-shadow: 0px 1px 3px 1px rgba(0, 0, 0, 0.15);\n",
              "      filter: drop-shadow(0px 1px 2px rgba(0, 0, 0, 0.3));\n",
              "      fill: #FFFFFF;\n",
              "    }\n",
              "  </style>\n",
              "\n",
              "      <script>\n",
              "        const buttonEl =\n",
              "          document.querySelector('#df-e415b030-ccd7-4ae4-b7e1-9e29b5501216 button.colab-df-convert');\n",
              "        buttonEl.style.display =\n",
              "          google.colab.kernel.accessAllowed ? 'block' : 'none';\n",
              "\n",
              "        async function convertToInteractive(key) {\n",
              "          const element = document.querySelector('#df-e415b030-ccd7-4ae4-b7e1-9e29b5501216');\n",
              "          const dataTable =\n",
              "            await google.colab.kernel.invokeFunction('convertToInteractive',\n",
              "                                                     [key], {});\n",
              "          if (!dataTable) return;\n",
              "\n",
              "          const docLinkHtml = 'Like what you see? Visit the ' +\n",
              "            '<a target=\"_blank\" href=https://colab.research.google.com/notebooks/data_table.ipynb>data table notebook</a>'\n",
              "            + ' to learn more about interactive tables.';\n",
              "          element.innerHTML = '';\n",
              "          dataTable['output_type'] = 'display_data';\n",
              "          await google.colab.output.renderOutput(dataTable, element);\n",
              "          const docLink = document.createElement('div');\n",
              "          docLink.innerHTML = docLinkHtml;\n",
              "          element.appendChild(docLink);\n",
              "        }\n",
              "      </script>\n",
              "    </div>\n",
              "  </div>\n",
              "  "
            ]
          },
          "metadata": {}
        }
      ]
    },
    {
      "cell_type": "markdown",
      "source": [
        "##Series"
      ],
      "metadata": {
        "id": "jQkiKJyht6X3"
      }
    },
    {
      "cell_type": "markdown",
      "source": [
        "###Criação de series"
      ],
      "metadata": {
        "id": "Lez_5usluK0j"
      }
    },
    {
      "cell_type": "code",
      "source": [
        "test = pd.Series([0,1,2,3,4])\n",
        "\n",
        "display(test)"
      ],
      "metadata": {
        "colab": {
          "base_uri": "https://localhost:8080/",
          "height": 121
        },
        "id": "WIkmaJ6VuCcu",
        "outputId": "efda8b1d-3f80-46b9-aa87-f5510ed21e77"
      },
      "execution_count": null,
      "outputs": [
        {
          "output_type": "display_data",
          "data": {
            "text/plain": [
              "0    0\n",
              "1    1\n",
              "2    2\n",
              "3    3\n",
              "4    4\n",
              "dtype: int64"
            ]
          },
          "metadata": {}
        }
      ]
    },
    {
      "cell_type": "markdown",
      "source": [
        "###Sample( )\n",
        "  Sample gera ordem aleatória de um conjunto de valores"
      ],
      "metadata": {
        "id": "ve-LbK3aumeA"
      }
    },
    {
      "cell_type": "code",
      "source": [],
      "metadata": {
        "id": "0TZzZk34vTKP"
      },
      "execution_count": null,
      "outputs": []
    },
    {
      "cell_type": "code",
      "source": [
        "test.sample(5)"
      ],
      "metadata": {
        "colab": {
          "base_uri": "https://localhost:8080/"
        },
        "id": "_Wb5a7KquL1q",
        "outputId": "c9ad5707-ee53-4626-f604-d15cf861add8"
      },
      "execution_count": null,
      "outputs": [
        {
          "output_type": "execute_result",
          "data": {
            "text/plain": [
              "2    2\n",
              "3    3\n",
              "0    0\n",
              "1    1\n",
              "4    4\n",
              "dtype: int64"
            ]
          },
          "metadata": {},
          "execution_count": 111
        }
      ]
    },
    {
      "cell_type": "markdown",
      "source": [
        "####Sample(n, replace)\n",
        "\n",
        " - Gera os valores aleatórios e pode usar substituição"
      ],
      "metadata": {
        "id": "p9KvhuCsvMeE"
      }
    },
    {
      "cell_type": "code",
      "source": [
        "test.sample(5, replace=True)"
      ],
      "metadata": {
        "colab": {
          "base_uri": "https://localhost:8080/"
        },
        "id": "j4sovCo2vcuD",
        "outputId": "90b0f19a-64c5-4a3a-efc4-77edab70ac12"
      },
      "execution_count": null,
      "outputs": [
        {
          "output_type": "execute_result",
          "data": {
            "text/plain": [
              "1    1\n",
              "4    4\n",
              "3    3\n",
              "2    2\n",
              "0    0\n",
              "dtype: int64"
            ]
          },
          "metadata": {},
          "execution_count": 117
        }
      ]
    },
    {
      "cell_type": "markdown",
      "source": [
        "####Sample(axis)"
      ],
      "metadata": {
        "id": "pojSYKBW4-x1"
      }
    },
    {
      "cell_type": "code",
      "source": [
        "test2 = pd.DataFrame({'col1': [1, 2, 3], 'col2': [1, 2, 3]})"
      ],
      "metadata": {
        "id": "YJy7JxTV4x-S"
      },
      "execution_count": null,
      "outputs": []
    },
    {
      "cell_type": "code",
      "source": [
        "test2.sample(1, axis=1)"
      ],
      "metadata": {
        "colab": {
          "base_uri": "https://localhost:8080/",
          "height": 143
        },
        "id": "sJZ_9Gg34Xfk",
        "outputId": "52261cdd-9184-4990-d0ca-870b986d9144"
      },
      "execution_count": null,
      "outputs": [
        {
          "output_type": "execute_result",
          "data": {
            "text/plain": [
              "   col2\n",
              "0     1\n",
              "1     2\n",
              "2     3"
            ],
            "text/html": [
              "\n",
              "  <div id=\"df-c5813be0-3cc9-44f9-9471-5ab5674caa6d\">\n",
              "    <div class=\"colab-df-container\">\n",
              "      <div>\n",
              "<style scoped>\n",
              "    .dataframe tbody tr th:only-of-type {\n",
              "        vertical-align: middle;\n",
              "    }\n",
              "\n",
              "    .dataframe tbody tr th {\n",
              "        vertical-align: top;\n",
              "    }\n",
              "\n",
              "    .dataframe thead th {\n",
              "        text-align: right;\n",
              "    }\n",
              "</style>\n",
              "<table border=\"1\" class=\"dataframe\">\n",
              "  <thead>\n",
              "    <tr style=\"text-align: right;\">\n",
              "      <th></th>\n",
              "      <th>col2</th>\n",
              "    </tr>\n",
              "  </thead>\n",
              "  <tbody>\n",
              "    <tr>\n",
              "      <th>0</th>\n",
              "      <td>1</td>\n",
              "    </tr>\n",
              "    <tr>\n",
              "      <th>1</th>\n",
              "      <td>2</td>\n",
              "    </tr>\n",
              "    <tr>\n",
              "      <th>2</th>\n",
              "      <td>3</td>\n",
              "    </tr>\n",
              "  </tbody>\n",
              "</table>\n",
              "</div>\n",
              "      <button class=\"colab-df-convert\" onclick=\"convertToInteractive('df-c5813be0-3cc9-44f9-9471-5ab5674caa6d')\"\n",
              "              title=\"Convert this dataframe to an interactive table.\"\n",
              "              style=\"display:none;\">\n",
              "        \n",
              "  <svg xmlns=\"http://www.w3.org/2000/svg\" height=\"24px\"viewBox=\"0 0 24 24\"\n",
              "       width=\"24px\">\n",
              "    <path d=\"M0 0h24v24H0V0z\" fill=\"none\"/>\n",
              "    <path d=\"M18.56 5.44l.94 2.06.94-2.06 2.06-.94-2.06-.94-.94-2.06-.94 2.06-2.06.94zm-11 1L8.5 8.5l.94-2.06 2.06-.94-2.06-.94L8.5 2.5l-.94 2.06-2.06.94zm10 10l.94 2.06.94-2.06 2.06-.94-2.06-.94-.94-2.06-.94 2.06-2.06.94z\"/><path d=\"M17.41 7.96l-1.37-1.37c-.4-.4-.92-.59-1.43-.59-.52 0-1.04.2-1.43.59L10.3 9.45l-7.72 7.72c-.78.78-.78 2.05 0 2.83L4 21.41c.39.39.9.59 1.41.59.51 0 1.02-.2 1.41-.59l7.78-7.78 2.81-2.81c.8-.78.8-2.07 0-2.86zM5.41 20L4 18.59l7.72-7.72 1.47 1.35L5.41 20z\"/>\n",
              "  </svg>\n",
              "      </button>\n",
              "      \n",
              "  <style>\n",
              "    .colab-df-container {\n",
              "      display:flex;\n",
              "      flex-wrap:wrap;\n",
              "      gap: 12px;\n",
              "    }\n",
              "\n",
              "    .colab-df-convert {\n",
              "      background-color: #E8F0FE;\n",
              "      border: none;\n",
              "      border-radius: 50%;\n",
              "      cursor: pointer;\n",
              "      display: none;\n",
              "      fill: #1967D2;\n",
              "      height: 32px;\n",
              "      padding: 0 0 0 0;\n",
              "      width: 32px;\n",
              "    }\n",
              "\n",
              "    .colab-df-convert:hover {\n",
              "      background-color: #E2EBFA;\n",
              "      box-shadow: 0px 1px 2px rgba(60, 64, 67, 0.3), 0px 1px 3px 1px rgba(60, 64, 67, 0.15);\n",
              "      fill: #174EA6;\n",
              "    }\n",
              "\n",
              "    [theme=dark] .colab-df-convert {\n",
              "      background-color: #3B4455;\n",
              "      fill: #D2E3FC;\n",
              "    }\n",
              "\n",
              "    [theme=dark] .colab-df-convert:hover {\n",
              "      background-color: #434B5C;\n",
              "      box-shadow: 0px 1px 3px 1px rgba(0, 0, 0, 0.15);\n",
              "      filter: drop-shadow(0px 1px 2px rgba(0, 0, 0, 0.3));\n",
              "      fill: #FFFFFF;\n",
              "    }\n",
              "  </style>\n",
              "\n",
              "      <script>\n",
              "        const buttonEl =\n",
              "          document.querySelector('#df-c5813be0-3cc9-44f9-9471-5ab5674caa6d button.colab-df-convert');\n",
              "        buttonEl.style.display =\n",
              "          google.colab.kernel.accessAllowed ? 'block' : 'none';\n",
              "\n",
              "        async function convertToInteractive(key) {\n",
              "          const element = document.querySelector('#df-c5813be0-3cc9-44f9-9471-5ab5674caa6d');\n",
              "          const dataTable =\n",
              "            await google.colab.kernel.invokeFunction('convertToInteractive',\n",
              "                                                     [key], {});\n",
              "          if (!dataTable) return;\n",
              "\n",
              "          const docLinkHtml = 'Like what you see? Visit the ' +\n",
              "            '<a target=\"_blank\" href=https://colab.research.google.com/notebooks/data_table.ipynb>data table notebook</a>'\n",
              "            + ' to learn more about interactive tables.';\n",
              "          element.innerHTML = '';\n",
              "          dataTable['output_type'] = 'display_data';\n",
              "          await google.colab.output.renderOutput(dataTable, element);\n",
              "          const docLink = document.createElement('div');\n",
              "          docLink.innerHTML = docLinkHtml;\n",
              "          element.appendChild(docLink);\n",
              "        }\n",
              "      </script>\n",
              "    </div>\n",
              "  </div>\n",
              "  "
            ]
          },
          "metadata": {},
          "execution_count": 137
        }
      ]
    },
    {
      "cell_type": "markdown",
      "source": [
        "#Metodos de vizualização simples "
      ],
      "metadata": {
        "id": "--EmV6CuLyOj"
      }
    },
    {
      "cell_type": "markdown",
      "source": [
        " O pandas suporta diversas fontes de dados e formatos de arquivos \n",
        " *  excel\n",
        " * sql\n",
        " * json\n",
        " * xml\n",
        " * csv\n",
        " * parquet\n",
        "\n",
        " ![image.png](data:image/png;base64,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)"
      ],
      "metadata": {
        "id": "gXFP70TPgvLl"
      }
    },
    {
      "cell_type": "code",
      "source": [
        "#Estes são as fontes de dados mais comuns utilizadas no dia a dia de um analista de dados\n",
        "data1 = pd.read_csv(local)\n",
        "data2 = pd.read_excel(local)\n",
        "data3 = pd.read_sql(database)\n",
        "data4 = pd.read_json(local)"
      ],
      "metadata": {
        "id": "dWAT_8edD43C"
      },
      "execution_count": null,
      "outputs": []
    },
    {
      "cell_type": "markdown",
      "source": [
        "Vamos utilizar como base de dados, um arquivo em XLXS ( excel ) neste conteúdo.\n",
        "\n",
        "Legenda:\n",
        "df : significa quando dataframe , básicamente dataframe é uma tabela dentro do pandas, vamos explicar mais a frente\n"
      ],
      "metadata": {
        "id": "um4cEb4OFFZn"
      }
    },
    {
      "cell_type": "code",
      "source": [
        "vendas_df = pd.read_excel('/content/Base Vendas.xlsx')"
      ],
      "metadata": {
        "id": "4TWjuOn-FQWj",
        "outputId": "024ef1a9-fd30-4a7b-f99d-43df01f88632",
        "colab": {
          "base_uri": "https://localhost:8080/",
          "height": 329
        }
      },
      "execution_count": 2,
      "outputs": [
        {
          "output_type": "error",
          "ename": "FileNotFoundError",
          "evalue": "ignored",
          "traceback": [
            "\u001b[0;31m---------------------------------------------------------------------------\u001b[0m",
            "\u001b[0;31mFileNotFoundError\u001b[0m                         Traceback (most recent call last)",
            "\u001b[0;32m<ipython-input-2-66bbb56abf28>\u001b[0m in \u001b[0;36m<cell line: 1>\u001b[0;34m()\u001b[0m\n\u001b[0;32m----> 1\u001b[0;31m \u001b[0mvendas_df\u001b[0m \u001b[0;34m=\u001b[0m \u001b[0mpd\u001b[0m\u001b[0;34m.\u001b[0m\u001b[0mread_excel\u001b[0m\u001b[0;34m(\u001b[0m\u001b[0;34m'/content/Base Vendas.xlsx'\u001b[0m\u001b[0;34m)\u001b[0m\u001b[0;34m\u001b[0m\u001b[0;34m\u001b[0m\u001b[0m\n\u001b[0m",
            "\u001b[0;32m/usr/local/lib/python3.9/dist-packages/pandas/util/_decorators.py\u001b[0m in \u001b[0;36mwrapper\u001b[0;34m(*args, **kwargs)\u001b[0m\n\u001b[1;32m    209\u001b[0m                 \u001b[0;32melse\u001b[0m\u001b[0;34m:\u001b[0m\u001b[0;34m\u001b[0m\u001b[0;34m\u001b[0m\u001b[0m\n\u001b[1;32m    210\u001b[0m                     \u001b[0mkwargs\u001b[0m\u001b[0;34m[\u001b[0m\u001b[0mnew_arg_name\u001b[0m\u001b[0;34m]\u001b[0m \u001b[0;34m=\u001b[0m \u001b[0mnew_arg_value\u001b[0m\u001b[0;34m\u001b[0m\u001b[0;34m\u001b[0m\u001b[0m\n\u001b[0;32m--> 211\u001b[0;31m             \u001b[0;32mreturn\u001b[0m \u001b[0mfunc\u001b[0m\u001b[0;34m(\u001b[0m\u001b[0;34m*\u001b[0m\u001b[0margs\u001b[0m\u001b[0;34m,\u001b[0m \u001b[0;34m**\u001b[0m\u001b[0mkwargs\u001b[0m\u001b[0;34m)\u001b[0m\u001b[0;34m\u001b[0m\u001b[0;34m\u001b[0m\u001b[0m\n\u001b[0m\u001b[1;32m    212\u001b[0m \u001b[0;34m\u001b[0m\u001b[0m\n\u001b[1;32m    213\u001b[0m         \u001b[0;32mreturn\u001b[0m \u001b[0mcast\u001b[0m\u001b[0;34m(\u001b[0m\u001b[0mF\u001b[0m\u001b[0;34m,\u001b[0m \u001b[0mwrapper\u001b[0m\u001b[0;34m)\u001b[0m\u001b[0;34m\u001b[0m\u001b[0;34m\u001b[0m\u001b[0m\n",
            "\u001b[0;32m/usr/local/lib/python3.9/dist-packages/pandas/util/_decorators.py\u001b[0m in \u001b[0;36mwrapper\u001b[0;34m(*args, **kwargs)\u001b[0m\n\u001b[1;32m    329\u001b[0m                     \u001b[0mstacklevel\u001b[0m\u001b[0;34m=\u001b[0m\u001b[0mfind_stack_level\u001b[0m\u001b[0;34m(\u001b[0m\u001b[0;34m)\u001b[0m\u001b[0;34m,\u001b[0m\u001b[0;34m\u001b[0m\u001b[0;34m\u001b[0m\u001b[0m\n\u001b[1;32m    330\u001b[0m                 )\n\u001b[0;32m--> 331\u001b[0;31m             \u001b[0;32mreturn\u001b[0m \u001b[0mfunc\u001b[0m\u001b[0;34m(\u001b[0m\u001b[0;34m*\u001b[0m\u001b[0margs\u001b[0m\u001b[0;34m,\u001b[0m \u001b[0;34m**\u001b[0m\u001b[0mkwargs\u001b[0m\u001b[0;34m)\u001b[0m\u001b[0;34m\u001b[0m\u001b[0;34m\u001b[0m\u001b[0m\n\u001b[0m\u001b[1;32m    332\u001b[0m \u001b[0;34m\u001b[0m\u001b[0m\n\u001b[1;32m    333\u001b[0m         \u001b[0;31m# error: \"Callable[[VarArg(Any), KwArg(Any)], Any]\" has no\u001b[0m\u001b[0;34m\u001b[0m\u001b[0;34m\u001b[0m\u001b[0m\n",
            "\u001b[0;32m/usr/local/lib/python3.9/dist-packages/pandas/io/excel/_base.py\u001b[0m in \u001b[0;36mread_excel\u001b[0;34m(io, sheet_name, header, names, index_col, usecols, squeeze, dtype, engine, converters, true_values, false_values, skiprows, nrows, na_values, keep_default_na, na_filter, verbose, parse_dates, date_parser, thousands, decimal, comment, skipfooter, convert_float, mangle_dupe_cols, storage_options)\u001b[0m\n\u001b[1;32m    480\u001b[0m     \u001b[0;32mif\u001b[0m \u001b[0;32mnot\u001b[0m \u001b[0misinstance\u001b[0m\u001b[0;34m(\u001b[0m\u001b[0mio\u001b[0m\u001b[0;34m,\u001b[0m \u001b[0mExcelFile\u001b[0m\u001b[0;34m)\u001b[0m\u001b[0;34m:\u001b[0m\u001b[0;34m\u001b[0m\u001b[0;34m\u001b[0m\u001b[0m\n\u001b[1;32m    481\u001b[0m         \u001b[0mshould_close\u001b[0m \u001b[0;34m=\u001b[0m \u001b[0;32mTrue\u001b[0m\u001b[0;34m\u001b[0m\u001b[0;34m\u001b[0m\u001b[0m\n\u001b[0;32m--> 482\u001b[0;31m         \u001b[0mio\u001b[0m \u001b[0;34m=\u001b[0m \u001b[0mExcelFile\u001b[0m\u001b[0;34m(\u001b[0m\u001b[0mio\u001b[0m\u001b[0;34m,\u001b[0m \u001b[0mstorage_options\u001b[0m\u001b[0;34m=\u001b[0m\u001b[0mstorage_options\u001b[0m\u001b[0;34m,\u001b[0m \u001b[0mengine\u001b[0m\u001b[0;34m=\u001b[0m\u001b[0mengine\u001b[0m\u001b[0;34m)\u001b[0m\u001b[0;34m\u001b[0m\u001b[0;34m\u001b[0m\u001b[0m\n\u001b[0m\u001b[1;32m    483\u001b[0m     \u001b[0;32melif\u001b[0m \u001b[0mengine\u001b[0m \u001b[0;32mand\u001b[0m \u001b[0mengine\u001b[0m \u001b[0;34m!=\u001b[0m \u001b[0mio\u001b[0m\u001b[0;34m.\u001b[0m\u001b[0mengine\u001b[0m\u001b[0;34m:\u001b[0m\u001b[0;34m\u001b[0m\u001b[0;34m\u001b[0m\u001b[0m\n\u001b[1;32m    484\u001b[0m         raise ValueError(\n",
            "\u001b[0;32m/usr/local/lib/python3.9/dist-packages/pandas/io/excel/_base.py\u001b[0m in \u001b[0;36m__init__\u001b[0;34m(self, path_or_buffer, engine, storage_options)\u001b[0m\n\u001b[1;32m   1650\u001b[0m                 \u001b[0mext\u001b[0m \u001b[0;34m=\u001b[0m \u001b[0;34m\"xls\"\u001b[0m\u001b[0;34m\u001b[0m\u001b[0;34m\u001b[0m\u001b[0m\n\u001b[1;32m   1651\u001b[0m             \u001b[0;32melse\u001b[0m\u001b[0;34m:\u001b[0m\u001b[0;34m\u001b[0m\u001b[0;34m\u001b[0m\u001b[0m\n\u001b[0;32m-> 1652\u001b[0;31m                 ext = inspect_excel_format(\n\u001b[0m\u001b[1;32m   1653\u001b[0m                     \u001b[0mcontent_or_path\u001b[0m\u001b[0;34m=\u001b[0m\u001b[0mpath_or_buffer\u001b[0m\u001b[0;34m,\u001b[0m \u001b[0mstorage_options\u001b[0m\u001b[0;34m=\u001b[0m\u001b[0mstorage_options\u001b[0m\u001b[0;34m\u001b[0m\u001b[0;34m\u001b[0m\u001b[0m\n\u001b[1;32m   1654\u001b[0m                 )\n",
            "\u001b[0;32m/usr/local/lib/python3.9/dist-packages/pandas/io/excel/_base.py\u001b[0m in \u001b[0;36minspect_excel_format\u001b[0;34m(content_or_path, storage_options)\u001b[0m\n\u001b[1;32m   1523\u001b[0m         \u001b[0mcontent_or_path\u001b[0m \u001b[0;34m=\u001b[0m \u001b[0mBytesIO\u001b[0m\u001b[0;34m(\u001b[0m\u001b[0mcontent_or_path\u001b[0m\u001b[0;34m)\u001b[0m\u001b[0;34m\u001b[0m\u001b[0;34m\u001b[0m\u001b[0m\n\u001b[1;32m   1524\u001b[0m \u001b[0;34m\u001b[0m\u001b[0m\n\u001b[0;32m-> 1525\u001b[0;31m     with get_handle(\n\u001b[0m\u001b[1;32m   1526\u001b[0m         \u001b[0mcontent_or_path\u001b[0m\u001b[0;34m,\u001b[0m \u001b[0;34m\"rb\"\u001b[0m\u001b[0;34m,\u001b[0m \u001b[0mstorage_options\u001b[0m\u001b[0;34m=\u001b[0m\u001b[0mstorage_options\u001b[0m\u001b[0;34m,\u001b[0m \u001b[0mis_text\u001b[0m\u001b[0;34m=\u001b[0m\u001b[0;32mFalse\u001b[0m\u001b[0;34m\u001b[0m\u001b[0;34m\u001b[0m\u001b[0m\n\u001b[1;32m   1527\u001b[0m     ) as handle:\n",
            "\u001b[0;32m/usr/local/lib/python3.9/dist-packages/pandas/io/common.py\u001b[0m in \u001b[0;36mget_handle\u001b[0;34m(path_or_buf, mode, encoding, compression, memory_map, is_text, errors, storage_options)\u001b[0m\n\u001b[1;32m    863\u001b[0m         \u001b[0;32melse\u001b[0m\u001b[0;34m:\u001b[0m\u001b[0;34m\u001b[0m\u001b[0;34m\u001b[0m\u001b[0m\n\u001b[1;32m    864\u001b[0m             \u001b[0;31m# Binary mode\u001b[0m\u001b[0;34m\u001b[0m\u001b[0;34m\u001b[0m\u001b[0m\n\u001b[0;32m--> 865\u001b[0;31m             \u001b[0mhandle\u001b[0m \u001b[0;34m=\u001b[0m \u001b[0mopen\u001b[0m\u001b[0;34m(\u001b[0m\u001b[0mhandle\u001b[0m\u001b[0;34m,\u001b[0m \u001b[0mioargs\u001b[0m\u001b[0;34m.\u001b[0m\u001b[0mmode\u001b[0m\u001b[0;34m)\u001b[0m\u001b[0;34m\u001b[0m\u001b[0;34m\u001b[0m\u001b[0m\n\u001b[0m\u001b[1;32m    866\u001b[0m         \u001b[0mhandles\u001b[0m\u001b[0;34m.\u001b[0m\u001b[0mappend\u001b[0m\u001b[0;34m(\u001b[0m\u001b[0mhandle\u001b[0m\u001b[0;34m)\u001b[0m\u001b[0;34m\u001b[0m\u001b[0;34m\u001b[0m\u001b[0m\n\u001b[1;32m    867\u001b[0m \u001b[0;34m\u001b[0m\u001b[0m\n",
            "\u001b[0;31mFileNotFoundError\u001b[0m: [Errno 2] No such file or directory: '/content/Base Vendas.xlsx'"
          ]
        }
      ]
    },
    {
      "cell_type": "code",
      "source": [
        "display(vendas_df)"
      ],
      "metadata": {
        "colab": {
          "base_uri": "https://localhost:8080/",
          "height": 424
        },
        "id": "C-jzJyDkF-eC",
        "outputId": "844ebbee-7378-43ca-81f1-033b7b5c7561"
      },
      "execution_count": null,
      "outputs": [
        {
          "output_type": "display_data",
          "data": {
            "text/plain": [
              "         SKU     Produto  Quantidade Vendida Primeiro Nome   Sobrenome  \\\n",
              "0     HL4379   Televisão                   5       Gabriel       Thoni   \n",
              "1     HL4379   Televisão                   3         Renan  Nascimento   \n",
              "2     HL1148      Câmera                   2        Camila      Sobral   \n",
              "3     HL1918      iPhone                   3         Clara       Bruno   \n",
              "4     HL9962     Android                   4       Eduardo     Pacheco   \n",
              "...      ...         ...                 ...           ...         ...   \n",
              "9994  HL4379   Televisão                   2          Caio    Ferreira   \n",
              "9995  HL1148      Câmera                   5           Kim    Ferreira   \n",
              "9996  HL4379   Televisão                   5          Caio      Moraes   \n",
              "9997  HL1918      iPhone                   4        Norman       Jimbo   \n",
              "9998  HL7348  SmartWatch                   1      Vinícius     Antunes   \n",
              "\n",
              "            Data          Loja  Preco Unitario  \n",
              "0      6/30/2018      Curitiba            2500  \n",
              "1      9/14/2018        Recife            2500  \n",
              "2     10/21/2018     Fortaleza            2100  \n",
              "3       7/8/2018     Fortaleza            5300  \n",
              "4     12/19/2018     Fortaleza            3400  \n",
              "...          ...           ...             ...  \n",
              "9994   5/18/2018     Fortaleza            2500  \n",
              "9995    3/6/2018     Fortaleza            2100  \n",
              "9996   1/22/2018     São Paulo            2500  \n",
              "9997   6/13/2018  Porto Alegre            5300  \n",
              "9998  12/10/2018      Curitiba            1400  \n",
              "\n",
              "[9999 rows x 8 columns]"
            ],
            "text/html": [
              "\n",
              "  <div id=\"df-f77a31d1-a49f-43aa-bc10-00fe30dc12ee\">\n",
              "    <div class=\"colab-df-container\">\n",
              "      <div>\n",
              "<style scoped>\n",
              "    .dataframe tbody tr th:only-of-type {\n",
              "        vertical-align: middle;\n",
              "    }\n",
              "\n",
              "    .dataframe tbody tr th {\n",
              "        vertical-align: top;\n",
              "    }\n",
              "\n",
              "    .dataframe thead th {\n",
              "        text-align: right;\n",
              "    }\n",
              "</style>\n",
              "<table border=\"1\" class=\"dataframe\">\n",
              "  <thead>\n",
              "    <tr style=\"text-align: right;\">\n",
              "      <th></th>\n",
              "      <th>SKU</th>\n",
              "      <th>Produto</th>\n",
              "      <th>Quantidade Vendida</th>\n",
              "      <th>Primeiro Nome</th>\n",
              "      <th>Sobrenome</th>\n",
              "      <th>Data</th>\n",
              "      <th>Loja</th>\n",
              "      <th>Preco Unitario</th>\n",
              "    </tr>\n",
              "  </thead>\n",
              "  <tbody>\n",
              "    <tr>\n",
              "      <th>0</th>\n",
              "      <td>HL4379</td>\n",
              "      <td>Televisão</td>\n",
              "      <td>5</td>\n",
              "      <td>Gabriel</td>\n",
              "      <td>Thoni</td>\n",
              "      <td>6/30/2018</td>\n",
              "      <td>Curitiba</td>\n",
              "      <td>2500</td>\n",
              "    </tr>\n",
              "    <tr>\n",
              "      <th>1</th>\n",
              "      <td>HL4379</td>\n",
              "      <td>Televisão</td>\n",
              "      <td>3</td>\n",
              "      <td>Renan</td>\n",
              "      <td>Nascimento</td>\n",
              "      <td>9/14/2018</td>\n",
              "      <td>Recife</td>\n",
              "      <td>2500</td>\n",
              "    </tr>\n",
              "    <tr>\n",
              "      <th>2</th>\n",
              "      <td>HL1148</td>\n",
              "      <td>Câmera</td>\n",
              "      <td>2</td>\n",
              "      <td>Camila</td>\n",
              "      <td>Sobral</td>\n",
              "      <td>10/21/2018</td>\n",
              "      <td>Fortaleza</td>\n",
              "      <td>2100</td>\n",
              "    </tr>\n",
              "    <tr>\n",
              "      <th>3</th>\n",
              "      <td>HL1918</td>\n",
              "      <td>iPhone</td>\n",
              "      <td>3</td>\n",
              "      <td>Clara</td>\n",
              "      <td>Bruno</td>\n",
              "      <td>7/8/2018</td>\n",
              "      <td>Fortaleza</td>\n",
              "      <td>5300</td>\n",
              "    </tr>\n",
              "    <tr>\n",
              "      <th>4</th>\n",
              "      <td>HL9962</td>\n",
              "      <td>Android</td>\n",
              "      <td>4</td>\n",
              "      <td>Eduardo</td>\n",
              "      <td>Pacheco</td>\n",
              "      <td>12/19/2018</td>\n",
              "      <td>Fortaleza</td>\n",
              "      <td>3400</td>\n",
              "    </tr>\n",
              "    <tr>\n",
              "      <th>...</th>\n",
              "      <td>...</td>\n",
              "      <td>...</td>\n",
              "      <td>...</td>\n",
              "      <td>...</td>\n",
              "      <td>...</td>\n",
              "      <td>...</td>\n",
              "      <td>...</td>\n",
              "      <td>...</td>\n",
              "    </tr>\n",
              "    <tr>\n",
              "      <th>9994</th>\n",
              "      <td>HL4379</td>\n",
              "      <td>Televisão</td>\n",
              "      <td>2</td>\n",
              "      <td>Caio</td>\n",
              "      <td>Ferreira</td>\n",
              "      <td>5/18/2018</td>\n",
              "      <td>Fortaleza</td>\n",
              "      <td>2500</td>\n",
              "    </tr>\n",
              "    <tr>\n",
              "      <th>9995</th>\n",
              "      <td>HL1148</td>\n",
              "      <td>Câmera</td>\n",
              "      <td>5</td>\n",
              "      <td>Kim</td>\n",
              "      <td>Ferreira</td>\n",
              "      <td>3/6/2018</td>\n",
              "      <td>Fortaleza</td>\n",
              "      <td>2100</td>\n",
              "    </tr>\n",
              "    <tr>\n",
              "      <th>9996</th>\n",
              "      <td>HL4379</td>\n",
              "      <td>Televisão</td>\n",
              "      <td>5</td>\n",
              "      <td>Caio</td>\n",
              "      <td>Moraes</td>\n",
              "      <td>1/22/2018</td>\n",
              "      <td>São Paulo</td>\n",
              "      <td>2500</td>\n",
              "    </tr>\n",
              "    <tr>\n",
              "      <th>9997</th>\n",
              "      <td>HL1918</td>\n",
              "      <td>iPhone</td>\n",
              "      <td>4</td>\n",
              "      <td>Norman</td>\n",
              "      <td>Jimbo</td>\n",
              "      <td>6/13/2018</td>\n",
              "      <td>Porto Alegre</td>\n",
              "      <td>5300</td>\n",
              "    </tr>\n",
              "    <tr>\n",
              "      <th>9998</th>\n",
              "      <td>HL7348</td>\n",
              "      <td>SmartWatch</td>\n",
              "      <td>1</td>\n",
              "      <td>Vinícius</td>\n",
              "      <td>Antunes</td>\n",
              "      <td>12/10/2018</td>\n",
              "      <td>Curitiba</td>\n",
              "      <td>1400</td>\n",
              "    </tr>\n",
              "  </tbody>\n",
              "</table>\n",
              "<p>9999 rows × 8 columns</p>\n",
              "</div>\n",
              "      <button class=\"colab-df-convert\" onclick=\"convertToInteractive('df-f77a31d1-a49f-43aa-bc10-00fe30dc12ee')\"\n",
              "              title=\"Convert this dataframe to an interactive table.\"\n",
              "              style=\"display:none;\">\n",
              "        \n",
              "  <svg xmlns=\"http://www.w3.org/2000/svg\" height=\"24px\"viewBox=\"0 0 24 24\"\n",
              "       width=\"24px\">\n",
              "    <path d=\"M0 0h24v24H0V0z\" fill=\"none\"/>\n",
              "    <path d=\"M18.56 5.44l.94 2.06.94-2.06 2.06-.94-2.06-.94-.94-2.06-.94 2.06-2.06.94zm-11 1L8.5 8.5l.94-2.06 2.06-.94-2.06-.94L8.5 2.5l-.94 2.06-2.06.94zm10 10l.94 2.06.94-2.06 2.06-.94-2.06-.94-.94-2.06-.94 2.06-2.06.94z\"/><path d=\"M17.41 7.96l-1.37-1.37c-.4-.4-.92-.59-1.43-.59-.52 0-1.04.2-1.43.59L10.3 9.45l-7.72 7.72c-.78.78-.78 2.05 0 2.83L4 21.41c.39.39.9.59 1.41.59.51 0 1.02-.2 1.41-.59l7.78-7.78 2.81-2.81c.8-.78.8-2.07 0-2.86zM5.41 20L4 18.59l7.72-7.72 1.47 1.35L5.41 20z\"/>\n",
              "  </svg>\n",
              "      </button>\n",
              "      \n",
              "  <style>\n",
              "    .colab-df-container {\n",
              "      display:flex;\n",
              "      flex-wrap:wrap;\n",
              "      gap: 12px;\n",
              "    }\n",
              "\n",
              "    .colab-df-convert {\n",
              "      background-color: #E8F0FE;\n",
              "      border: none;\n",
              "      border-radius: 50%;\n",
              "      cursor: pointer;\n",
              "      display: none;\n",
              "      fill: #1967D2;\n",
              "      height: 32px;\n",
              "      padding: 0 0 0 0;\n",
              "      width: 32px;\n",
              "    }\n",
              "\n",
              "    .colab-df-convert:hover {\n",
              "      background-color: #E2EBFA;\n",
              "      box-shadow: 0px 1px 2px rgba(60, 64, 67, 0.3), 0px 1px 3px 1px rgba(60, 64, 67, 0.15);\n",
              "      fill: #174EA6;\n",
              "    }\n",
              "\n",
              "    [theme=dark] .colab-df-convert {\n",
              "      background-color: #3B4455;\n",
              "      fill: #D2E3FC;\n",
              "    }\n",
              "\n",
              "    [theme=dark] .colab-df-convert:hover {\n",
              "      background-color: #434B5C;\n",
              "      box-shadow: 0px 1px 3px 1px rgba(0, 0, 0, 0.15);\n",
              "      filter: drop-shadow(0px 1px 2px rgba(0, 0, 0, 0.3));\n",
              "      fill: #FFFFFF;\n",
              "    }\n",
              "  </style>\n",
              "\n",
              "      <script>\n",
              "        const buttonEl =\n",
              "          document.querySelector('#df-f77a31d1-a49f-43aa-bc10-00fe30dc12ee button.colab-df-convert');\n",
              "        buttonEl.style.display =\n",
              "          google.colab.kernel.accessAllowed ? 'block' : 'none';\n",
              "\n",
              "        async function convertToInteractive(key) {\n",
              "          const element = document.querySelector('#df-f77a31d1-a49f-43aa-bc10-00fe30dc12ee');\n",
              "          const dataTable =\n",
              "            await google.colab.kernel.invokeFunction('convertToInteractive',\n",
              "                                                     [key], {});\n",
              "          if (!dataTable) return;\n",
              "\n",
              "          const docLinkHtml = 'Like what you see? Visit the ' +\n",
              "            '<a target=\"_blank\" href=https://colab.research.google.com/notebooks/data_table.ipynb>data table notebook</a>'\n",
              "            + ' to learn more about interactive tables.';\n",
              "          element.innerHTML = '';\n",
              "          dataTable['output_type'] = 'display_data';\n",
              "          await google.colab.output.renderOutput(dataTable, element);\n",
              "          const docLink = document.createElement('div');\n",
              "          docLink.innerHTML = docLinkHtml;\n",
              "          element.appendChild(docLink);\n",
              "        }\n",
              "      </script>\n",
              "    </div>\n",
              "  </div>\n",
              "  "
            ]
          },
          "metadata": {}
        }
      ]
    },
    {
      "cell_type": "markdown",
      "source": [
        "Metodos de vizualização simples\n",
        "\n",
        " * head() - primeiras linhas\n",
        " * shape - mostra total de linhas e colunas \n",
        " * describe() - Descreve os itens da tabela \n",
        "\n",
        " ![image.png](data:image/png;base64,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)"
      ],
      "metadata": {
        "id": "uDxN-2whGy5M"
      }
    },
    {
      "cell_type": "markdown",
      "source": [
        "##head( )"
      ],
      "metadata": {
        "id": "Zk6xl496LlLy"
      }
    },
    {
      "cell_type": "code",
      "source": [
        "display(vendas_df.head(4))"
      ],
      "metadata": {
        "colab": {
          "base_uri": "https://localhost:8080/",
          "height": 175
        },
        "id": "REY03Dx0GmTz",
        "outputId": "fc09a0ba-7cb7-41f5-a1f4-242c28edce44"
      },
      "execution_count": null,
      "outputs": [
        {
          "output_type": "display_data",
          "data": {
            "text/plain": [
              "      SKU    Produto  Quantidade Vendida Primeiro Nome   Sobrenome  \\\n",
              "0  HL4379  Televisão                   5       Gabriel       Thoni   \n",
              "1  HL4379  Televisão                   3         Renan  Nascimento   \n",
              "2  HL1148     Câmera                   2        Camila      Sobral   \n",
              "3  HL1918     iPhone                   3         Clara       Bruno   \n",
              "\n",
              "         Data       Loja  Preco Unitario  \n",
              "0   6/30/2018   Curitiba            2500  \n",
              "1   9/14/2018     Recife            2500  \n",
              "2  10/21/2018  Fortaleza            2100  \n",
              "3    7/8/2018  Fortaleza            5300  "
            ],
            "text/html": [
              "\n",
              "  <div id=\"df-df4bf785-f370-4207-89a7-1ceb60d9b716\">\n",
              "    <div class=\"colab-df-container\">\n",
              "      <div>\n",
              "<style scoped>\n",
              "    .dataframe tbody tr th:only-of-type {\n",
              "        vertical-align: middle;\n",
              "    }\n",
              "\n",
              "    .dataframe tbody tr th {\n",
              "        vertical-align: top;\n",
              "    }\n",
              "\n",
              "    .dataframe thead th {\n",
              "        text-align: right;\n",
              "    }\n",
              "</style>\n",
              "<table border=\"1\" class=\"dataframe\">\n",
              "  <thead>\n",
              "    <tr style=\"text-align: right;\">\n",
              "      <th></th>\n",
              "      <th>SKU</th>\n",
              "      <th>Produto</th>\n",
              "      <th>Quantidade Vendida</th>\n",
              "      <th>Primeiro Nome</th>\n",
              "      <th>Sobrenome</th>\n",
              "      <th>Data</th>\n",
              "      <th>Loja</th>\n",
              "      <th>Preco Unitario</th>\n",
              "    </tr>\n",
              "  </thead>\n",
              "  <tbody>\n",
              "    <tr>\n",
              "      <th>0</th>\n",
              "      <td>HL4379</td>\n",
              "      <td>Televisão</td>\n",
              "      <td>5</td>\n",
              "      <td>Gabriel</td>\n",
              "      <td>Thoni</td>\n",
              "      <td>6/30/2018</td>\n",
              "      <td>Curitiba</td>\n",
              "      <td>2500</td>\n",
              "    </tr>\n",
              "    <tr>\n",
              "      <th>1</th>\n",
              "      <td>HL4379</td>\n",
              "      <td>Televisão</td>\n",
              "      <td>3</td>\n",
              "      <td>Renan</td>\n",
              "      <td>Nascimento</td>\n",
              "      <td>9/14/2018</td>\n",
              "      <td>Recife</td>\n",
              "      <td>2500</td>\n",
              "    </tr>\n",
              "    <tr>\n",
              "      <th>2</th>\n",
              "      <td>HL1148</td>\n",
              "      <td>Câmera</td>\n",
              "      <td>2</td>\n",
              "      <td>Camila</td>\n",
              "      <td>Sobral</td>\n",
              "      <td>10/21/2018</td>\n",
              "      <td>Fortaleza</td>\n",
              "      <td>2100</td>\n",
              "    </tr>\n",
              "    <tr>\n",
              "      <th>3</th>\n",
              "      <td>HL1918</td>\n",
              "      <td>iPhone</td>\n",
              "      <td>3</td>\n",
              "      <td>Clara</td>\n",
              "      <td>Bruno</td>\n",
              "      <td>7/8/2018</td>\n",
              "      <td>Fortaleza</td>\n",
              "      <td>5300</td>\n",
              "    </tr>\n",
              "  </tbody>\n",
              "</table>\n",
              "</div>\n",
              "      <button class=\"colab-df-convert\" onclick=\"convertToInteractive('df-df4bf785-f370-4207-89a7-1ceb60d9b716')\"\n",
              "              title=\"Convert this dataframe to an interactive table.\"\n",
              "              style=\"display:none;\">\n",
              "        \n",
              "  <svg xmlns=\"http://www.w3.org/2000/svg\" height=\"24px\"viewBox=\"0 0 24 24\"\n",
              "       width=\"24px\">\n",
              "    <path d=\"M0 0h24v24H0V0z\" fill=\"none\"/>\n",
              "    <path d=\"M18.56 5.44l.94 2.06.94-2.06 2.06-.94-2.06-.94-.94-2.06-.94 2.06-2.06.94zm-11 1L8.5 8.5l.94-2.06 2.06-.94-2.06-.94L8.5 2.5l-.94 2.06-2.06.94zm10 10l.94 2.06.94-2.06 2.06-.94-2.06-.94-.94-2.06-.94 2.06-2.06.94z\"/><path d=\"M17.41 7.96l-1.37-1.37c-.4-.4-.92-.59-1.43-.59-.52 0-1.04.2-1.43.59L10.3 9.45l-7.72 7.72c-.78.78-.78 2.05 0 2.83L4 21.41c.39.39.9.59 1.41.59.51 0 1.02-.2 1.41-.59l7.78-7.78 2.81-2.81c.8-.78.8-2.07 0-2.86zM5.41 20L4 18.59l7.72-7.72 1.47 1.35L5.41 20z\"/>\n",
              "  </svg>\n",
              "      </button>\n",
              "      \n",
              "  <style>\n",
              "    .colab-df-container {\n",
              "      display:flex;\n",
              "      flex-wrap:wrap;\n",
              "      gap: 12px;\n",
              "    }\n",
              "\n",
              "    .colab-df-convert {\n",
              "      background-color: #E8F0FE;\n",
              "      border: none;\n",
              "      border-radius: 50%;\n",
              "      cursor: pointer;\n",
              "      display: none;\n",
              "      fill: #1967D2;\n",
              "      height: 32px;\n",
              "      padding: 0 0 0 0;\n",
              "      width: 32px;\n",
              "    }\n",
              "\n",
              "    .colab-df-convert:hover {\n",
              "      background-color: #E2EBFA;\n",
              "      box-shadow: 0px 1px 2px rgba(60, 64, 67, 0.3), 0px 1px 3px 1px rgba(60, 64, 67, 0.15);\n",
              "      fill: #174EA6;\n",
              "    }\n",
              "\n",
              "    [theme=dark] .colab-df-convert {\n",
              "      background-color: #3B4455;\n",
              "      fill: #D2E3FC;\n",
              "    }\n",
              "\n",
              "    [theme=dark] .colab-df-convert:hover {\n",
              "      background-color: #434B5C;\n",
              "      box-shadow: 0px 1px 3px 1px rgba(0, 0, 0, 0.15);\n",
              "      filter: drop-shadow(0px 1px 2px rgba(0, 0, 0, 0.3));\n",
              "      fill: #FFFFFF;\n",
              "    }\n",
              "  </style>\n",
              "\n",
              "      <script>\n",
              "        const buttonEl =\n",
              "          document.querySelector('#df-df4bf785-f370-4207-89a7-1ceb60d9b716 button.colab-df-convert');\n",
              "        buttonEl.style.display =\n",
              "          google.colab.kernel.accessAllowed ? 'block' : 'none';\n",
              "\n",
              "        async function convertToInteractive(key) {\n",
              "          const element = document.querySelector('#df-df4bf785-f370-4207-89a7-1ceb60d9b716');\n",
              "          const dataTable =\n",
              "            await google.colab.kernel.invokeFunction('convertToInteractive',\n",
              "                                                     [key], {});\n",
              "          if (!dataTable) return;\n",
              "\n",
              "          const docLinkHtml = 'Like what you see? Visit the ' +\n",
              "            '<a target=\"_blank\" href=https://colab.research.google.com/notebooks/data_table.ipynb>data table notebook</a>'\n",
              "            + ' to learn more about interactive tables.';\n",
              "          element.innerHTML = '';\n",
              "          dataTable['output_type'] = 'display_data';\n",
              "          await google.colab.output.renderOutput(dataTable, element);\n",
              "          const docLink = document.createElement('div');\n",
              "          docLink.innerHTML = docLinkHtml;\n",
              "          element.appendChild(docLink);\n",
              "        }\n",
              "      </script>\n",
              "    </div>\n",
              "  </div>\n",
              "  "
            ]
          },
          "metadata": {}
        }
      ]
    },
    {
      "cell_type": "markdown",
      "source": [
        "##shape"
      ],
      "metadata": {
        "id": "YbKaDIqsLn2A"
      }
    },
    {
      "cell_type": "code",
      "source": [
        "display(vendas_df.shape)"
      ],
      "metadata": {
        "colab": {
          "base_uri": "https://localhost:8080/",
          "height": 34
        },
        "id": "zPriEr7jG98e",
        "outputId": "77881fb7-333d-41bb-f412-c71d9d77ae59"
      },
      "execution_count": null,
      "outputs": [
        {
          "output_type": "display_data",
          "data": {
            "text/plain": [
              "(9999, 8)"
            ]
          },
          "metadata": {}
        }
      ]
    },
    {
      "cell_type": "markdown",
      "source": [
        "##describe( )"
      ],
      "metadata": {
        "id": "PQF4BHXzLrAI"
      }
    },
    {
      "cell_type": "code",
      "source": [
        "display(vendas_df.describe())"
      ],
      "metadata": {
        "colab": {
          "base_uri": "https://localhost:8080/",
          "height": 300
        },
        "id": "qmCrCkUoHK2q",
        "outputId": "9d412320-4a52-4e7e-95b6-36c68a2b4970"
      },
      "execution_count": null,
      "outputs": [
        {
          "output_type": "display_data",
          "data": {
            "text/plain": [
              "       Quantidade Vendida  Preco Unitario\n",
              "count         9999.000000     9999.000000\n",
              "mean             3.004600     3300.460046\n",
              "std              1.405409     1449.490943\n",
              "min              1.000000     1400.000000\n",
              "25%              2.000000     2100.000000\n",
              "50%              3.000000     3400.000000\n",
              "75%              4.000000     5300.000000\n",
              "max              5.000000     5300.000000"
            ],
            "text/html": [
              "\n",
              "  <div id=\"df-6235aef7-a571-4d37-a39a-5b5910268687\">\n",
              "    <div class=\"colab-df-container\">\n",
              "      <div>\n",
              "<style scoped>\n",
              "    .dataframe tbody tr th:only-of-type {\n",
              "        vertical-align: middle;\n",
              "    }\n",
              "\n",
              "    .dataframe tbody tr th {\n",
              "        vertical-align: top;\n",
              "    }\n",
              "\n",
              "    .dataframe thead th {\n",
              "        text-align: right;\n",
              "    }\n",
              "</style>\n",
              "<table border=\"1\" class=\"dataframe\">\n",
              "  <thead>\n",
              "    <tr style=\"text-align: right;\">\n",
              "      <th></th>\n",
              "      <th>Quantidade Vendida</th>\n",
              "      <th>Preco Unitario</th>\n",
              "    </tr>\n",
              "  </thead>\n",
              "  <tbody>\n",
              "    <tr>\n",
              "      <th>count</th>\n",
              "      <td>9999.000000</td>\n",
              "      <td>9999.000000</td>\n",
              "    </tr>\n",
              "    <tr>\n",
              "      <th>mean</th>\n",
              "      <td>3.004600</td>\n",
              "      <td>3300.460046</td>\n",
              "    </tr>\n",
              "    <tr>\n",
              "      <th>std</th>\n",
              "      <td>1.405409</td>\n",
              "      <td>1449.490943</td>\n",
              "    </tr>\n",
              "    <tr>\n",
              "      <th>min</th>\n",
              "      <td>1.000000</td>\n",
              "      <td>1400.000000</td>\n",
              "    </tr>\n",
              "    <tr>\n",
              "      <th>25%</th>\n",
              "      <td>2.000000</td>\n",
              "      <td>2100.000000</td>\n",
              "    </tr>\n",
              "    <tr>\n",
              "      <th>50%</th>\n",
              "      <td>3.000000</td>\n",
              "      <td>3400.000000</td>\n",
              "    </tr>\n",
              "    <tr>\n",
              "      <th>75%</th>\n",
              "      <td>4.000000</td>\n",
              "      <td>5300.000000</td>\n",
              "    </tr>\n",
              "    <tr>\n",
              "      <th>max</th>\n",
              "      <td>5.000000</td>\n",
              "      <td>5300.000000</td>\n",
              "    </tr>\n",
              "  </tbody>\n",
              "</table>\n",
              "</div>\n",
              "      <button class=\"colab-df-convert\" onclick=\"convertToInteractive('df-6235aef7-a571-4d37-a39a-5b5910268687')\"\n",
              "              title=\"Convert this dataframe to an interactive table.\"\n",
              "              style=\"display:none;\">\n",
              "        \n",
              "  <svg xmlns=\"http://www.w3.org/2000/svg\" height=\"24px\"viewBox=\"0 0 24 24\"\n",
              "       width=\"24px\">\n",
              "    <path d=\"M0 0h24v24H0V0z\" fill=\"none\"/>\n",
              "    <path d=\"M18.56 5.44l.94 2.06.94-2.06 2.06-.94-2.06-.94-.94-2.06-.94 2.06-2.06.94zm-11 1L8.5 8.5l.94-2.06 2.06-.94-2.06-.94L8.5 2.5l-.94 2.06-2.06.94zm10 10l.94 2.06.94-2.06 2.06-.94-2.06-.94-.94-2.06-.94 2.06-2.06.94z\"/><path d=\"M17.41 7.96l-1.37-1.37c-.4-.4-.92-.59-1.43-.59-.52 0-1.04.2-1.43.59L10.3 9.45l-7.72 7.72c-.78.78-.78 2.05 0 2.83L4 21.41c.39.39.9.59 1.41.59.51 0 1.02-.2 1.41-.59l7.78-7.78 2.81-2.81c.8-.78.8-2.07 0-2.86zM5.41 20L4 18.59l7.72-7.72 1.47 1.35L5.41 20z\"/>\n",
              "  </svg>\n",
              "      </button>\n",
              "      \n",
              "  <style>\n",
              "    .colab-df-container {\n",
              "      display:flex;\n",
              "      flex-wrap:wrap;\n",
              "      gap: 12px;\n",
              "    }\n",
              "\n",
              "    .colab-df-convert {\n",
              "      background-color: #E8F0FE;\n",
              "      border: none;\n",
              "      border-radius: 50%;\n",
              "      cursor: pointer;\n",
              "      display: none;\n",
              "      fill: #1967D2;\n",
              "      height: 32px;\n",
              "      padding: 0 0 0 0;\n",
              "      width: 32px;\n",
              "    }\n",
              "\n",
              "    .colab-df-convert:hover {\n",
              "      background-color: #E2EBFA;\n",
              "      box-shadow: 0px 1px 2px rgba(60, 64, 67, 0.3), 0px 1px 3px 1px rgba(60, 64, 67, 0.15);\n",
              "      fill: #174EA6;\n",
              "    }\n",
              "\n",
              "    [theme=dark] .colab-df-convert {\n",
              "      background-color: #3B4455;\n",
              "      fill: #D2E3FC;\n",
              "    }\n",
              "\n",
              "    [theme=dark] .colab-df-convert:hover {\n",
              "      background-color: #434B5C;\n",
              "      box-shadow: 0px 1px 3px 1px rgba(0, 0, 0, 0.15);\n",
              "      filter: drop-shadow(0px 1px 2px rgba(0, 0, 0, 0.3));\n",
              "      fill: #FFFFFF;\n",
              "    }\n",
              "  </style>\n",
              "\n",
              "      <script>\n",
              "        const buttonEl =\n",
              "          document.querySelector('#df-6235aef7-a571-4d37-a39a-5b5910268687 button.colab-df-convert');\n",
              "        buttonEl.style.display =\n",
              "          google.colab.kernel.accessAllowed ? 'block' : 'none';\n",
              "\n",
              "        async function convertToInteractive(key) {\n",
              "          const element = document.querySelector('#df-6235aef7-a571-4d37-a39a-5b5910268687');\n",
              "          const dataTable =\n",
              "            await google.colab.kernel.invokeFunction('convertToInteractive',\n",
              "                                                     [key], {});\n",
              "          if (!dataTable) return;\n",
              "\n",
              "          const docLinkHtml = 'Like what you see? Visit the ' +\n",
              "            '<a target=\"_blank\" href=https://colab.research.google.com/notebooks/data_table.ipynb>data table notebook</a>'\n",
              "            + ' to learn more about interactive tables.';\n",
              "          element.innerHTML = '';\n",
              "          dataTable['output_type'] = 'display_data';\n",
              "          await google.colab.output.renderOutput(dataTable, element);\n",
              "          const docLink = document.createElement('div');\n",
              "          docLink.innerHTML = docLinkHtml;\n",
              "          element.appendChild(docLink);\n",
              "        }\n",
              "      </script>\n",
              "    </div>\n",
              "  </div>\n",
              "  "
            ]
          },
          "metadata": {}
        }
      ]
    },
    {
      "cell_type": "markdown",
      "source": [
        "##Buscando colunas e linhas"
      ],
      "metadata": {
        "id": "VhsRsSzcMDTd"
      }
    },
    {
      "cell_type": "markdown",
      "source": [
        "Pegar os 5 primeiros produtos"
      ],
      "metadata": {
        "id": "dZWVRKUZIcG2"
      }
    },
    {
      "cell_type": "code",
      "source": [
        "produtos = vendas_df[ 'Produto'].head(5)\n",
        "display(produtos)"
      ],
      "metadata": {
        "colab": {
          "base_uri": "https://localhost:8080/",
          "height": 121
        },
        "id": "edzmACh-IbJP",
        "outputId": "e0ad0393-30fb-4b04-d76e-57310fdfb211"
      },
      "execution_count": null,
      "outputs": [
        {
          "output_type": "display_data",
          "data": {
            "text/plain": [
              "0    Televisão\n",
              "1    Televisão\n",
              "2       Câmera\n",
              "3       iPhone\n",
              "4      Android\n",
              "Name: Produto, dtype: object"
            ]
          },
          "metadata": {}
        }
      ]
    },
    {
      "cell_type": "markdown",
      "source": [
        "Pegar mais de uma coluna\n",
        "* ✅ Quantidade vendida em cada Loja"
      ],
      "metadata": {
        "id": "4Fn-92qkJLMP"
      }
    },
    {
      "cell_type": "code",
      "source": [
        "vendas_loja = vendas_df[[ 'Loja', 'Quantidade Vendida']]\n",
        "display(vendas_loja)"
      ],
      "metadata": {
        "colab": {
          "base_uri": "https://localhost:8080/",
          "height": 424
        },
        "id": "QL42_6VuJPOl",
        "outputId": "9f83b449-4176-4196-a6fa-a24fe5616082"
      },
      "execution_count": null,
      "outputs": [
        {
          "output_type": "display_data",
          "data": {
            "text/plain": [
              "              Loja  Quantidade Vendida\n",
              "0         Curitiba                   5\n",
              "1           Recife                   3\n",
              "2        Fortaleza                   2\n",
              "3        Fortaleza                   3\n",
              "4        Fortaleza                   4\n",
              "...            ...                 ...\n",
              "9994     Fortaleza                   2\n",
              "9995     Fortaleza                   5\n",
              "9996     São Paulo                   5\n",
              "9997  Porto Alegre                   4\n",
              "9998      Curitiba                   1\n",
              "\n",
              "[9999 rows x 2 columns]"
            ],
            "text/html": [
              "\n",
              "  <div id=\"df-c681a87d-4a08-4b4d-b79b-2d595f5658a7\">\n",
              "    <div class=\"colab-df-container\">\n",
              "      <div>\n",
              "<style scoped>\n",
              "    .dataframe tbody tr th:only-of-type {\n",
              "        vertical-align: middle;\n",
              "    }\n",
              "\n",
              "    .dataframe tbody tr th {\n",
              "        vertical-align: top;\n",
              "    }\n",
              "\n",
              "    .dataframe thead th {\n",
              "        text-align: right;\n",
              "    }\n",
              "</style>\n",
              "<table border=\"1\" class=\"dataframe\">\n",
              "  <thead>\n",
              "    <tr style=\"text-align: right;\">\n",
              "      <th></th>\n",
              "      <th>Loja</th>\n",
              "      <th>Quantidade Vendida</th>\n",
              "    </tr>\n",
              "  </thead>\n",
              "  <tbody>\n",
              "    <tr>\n",
              "      <th>0</th>\n",
              "      <td>Curitiba</td>\n",
              "      <td>5</td>\n",
              "    </tr>\n",
              "    <tr>\n",
              "      <th>1</th>\n",
              "      <td>Recife</td>\n",
              "      <td>3</td>\n",
              "    </tr>\n",
              "    <tr>\n",
              "      <th>2</th>\n",
              "      <td>Fortaleza</td>\n",
              "      <td>2</td>\n",
              "    </tr>\n",
              "    <tr>\n",
              "      <th>3</th>\n",
              "      <td>Fortaleza</td>\n",
              "      <td>3</td>\n",
              "    </tr>\n",
              "    <tr>\n",
              "      <th>4</th>\n",
              "      <td>Fortaleza</td>\n",
              "      <td>4</td>\n",
              "    </tr>\n",
              "    <tr>\n",
              "      <th>...</th>\n",
              "      <td>...</td>\n",
              "      <td>...</td>\n",
              "    </tr>\n",
              "    <tr>\n",
              "      <th>9994</th>\n",
              "      <td>Fortaleza</td>\n",
              "      <td>2</td>\n",
              "    </tr>\n",
              "    <tr>\n",
              "      <th>9995</th>\n",
              "      <td>Fortaleza</td>\n",
              "      <td>5</td>\n",
              "    </tr>\n",
              "    <tr>\n",
              "      <th>9996</th>\n",
              "      <td>São Paulo</td>\n",
              "      <td>5</td>\n",
              "    </tr>\n",
              "    <tr>\n",
              "      <th>9997</th>\n",
              "      <td>Porto Alegre</td>\n",
              "      <td>4</td>\n",
              "    </tr>\n",
              "    <tr>\n",
              "      <th>9998</th>\n",
              "      <td>Curitiba</td>\n",
              "      <td>1</td>\n",
              "    </tr>\n",
              "  </tbody>\n",
              "</table>\n",
              "<p>9999 rows × 2 columns</p>\n",
              "</div>\n",
              "      <button class=\"colab-df-convert\" onclick=\"convertToInteractive('df-c681a87d-4a08-4b4d-b79b-2d595f5658a7')\"\n",
              "              title=\"Convert this dataframe to an interactive table.\"\n",
              "              style=\"display:none;\">\n",
              "        \n",
              "  <svg xmlns=\"http://www.w3.org/2000/svg\" height=\"24px\"viewBox=\"0 0 24 24\"\n",
              "       width=\"24px\">\n",
              "    <path d=\"M0 0h24v24H0V0z\" fill=\"none\"/>\n",
              "    <path d=\"M18.56 5.44l.94 2.06.94-2.06 2.06-.94-2.06-.94-.94-2.06-.94 2.06-2.06.94zm-11 1L8.5 8.5l.94-2.06 2.06-.94-2.06-.94L8.5 2.5l-.94 2.06-2.06.94zm10 10l.94 2.06.94-2.06 2.06-.94-2.06-.94-.94-2.06-.94 2.06-2.06.94z\"/><path d=\"M17.41 7.96l-1.37-1.37c-.4-.4-.92-.59-1.43-.59-.52 0-1.04.2-1.43.59L10.3 9.45l-7.72 7.72c-.78.78-.78 2.05 0 2.83L4 21.41c.39.39.9.59 1.41.59.51 0 1.02-.2 1.41-.59l7.78-7.78 2.81-2.81c.8-.78.8-2.07 0-2.86zM5.41 20L4 18.59l7.72-7.72 1.47 1.35L5.41 20z\"/>\n",
              "  </svg>\n",
              "      </button>\n",
              "      \n",
              "  <style>\n",
              "    .colab-df-container {\n",
              "      display:flex;\n",
              "      flex-wrap:wrap;\n",
              "      gap: 12px;\n",
              "    }\n",
              "\n",
              "    .colab-df-convert {\n",
              "      background-color: #E8F0FE;\n",
              "      border: none;\n",
              "      border-radius: 50%;\n",
              "      cursor: pointer;\n",
              "      display: none;\n",
              "      fill: #1967D2;\n",
              "      height: 32px;\n",
              "      padding: 0 0 0 0;\n",
              "      width: 32px;\n",
              "    }\n",
              "\n",
              "    .colab-df-convert:hover {\n",
              "      background-color: #E2EBFA;\n",
              "      box-shadow: 0px 1px 2px rgba(60, 64, 67, 0.3), 0px 1px 3px 1px rgba(60, 64, 67, 0.15);\n",
              "      fill: #174EA6;\n",
              "    }\n",
              "\n",
              "    [theme=dark] .colab-df-convert {\n",
              "      background-color: #3B4455;\n",
              "      fill: #D2E3FC;\n",
              "    }\n",
              "\n",
              "    [theme=dark] .colab-df-convert:hover {\n",
              "      background-color: #434B5C;\n",
              "      box-shadow: 0px 1px 3px 1px rgba(0, 0, 0, 0.15);\n",
              "      filter: drop-shadow(0px 1px 2px rgba(0, 0, 0, 0.3));\n",
              "      fill: #FFFFFF;\n",
              "    }\n",
              "  </style>\n",
              "\n",
              "      <script>\n",
              "        const buttonEl =\n",
              "          document.querySelector('#df-c681a87d-4a08-4b4d-b79b-2d595f5658a7 button.colab-df-convert');\n",
              "        buttonEl.style.display =\n",
              "          google.colab.kernel.accessAllowed ? 'block' : 'none';\n",
              "\n",
              "        async function convertToInteractive(key) {\n",
              "          const element = document.querySelector('#df-c681a87d-4a08-4b4d-b79b-2d595f5658a7');\n",
              "          const dataTable =\n",
              "            await google.colab.kernel.invokeFunction('convertToInteractive',\n",
              "                                                     [key], {});\n",
              "          if (!dataTable) return;\n",
              "\n",
              "          const docLinkHtml = 'Like what you see? Visit the ' +\n",
              "            '<a target=\"_blank\" href=https://colab.research.google.com/notebooks/data_table.ipynb>data table notebook</a>'\n",
              "            + ' to learn more about interactive tables.';\n",
              "          element.innerHTML = '';\n",
              "          dataTable['output_type'] = 'display_data';\n",
              "          await google.colab.output.renderOutput(dataTable, element);\n",
              "          const docLink = document.createElement('div');\n",
              "          docLink.innerHTML = docLinkHtml;\n",
              "          element.appendChild(docLink);\n",
              "        }\n",
              "      </script>\n",
              "    </div>\n",
              "  </div>\n",
              "  "
            ]
          },
          "metadata": {}
        }
      ]
    },
    {
      "cell_type": "markdown",
      "source": [
        "##Loc e Iloc\n",
        "\n",
        "  * loc , que permitem buscar uma linha com algum nome de índice específico\n",
        "  \n",
        "  * iloc que busca uma linha em uma posição específica."
      ],
      "metadata": {
        "id": "-2Mp6yAarrxP"
      }
    },
    {
      "cell_type": "markdown",
      "source": [
        "###.loc[ ]"
      ],
      "metadata": {
        "id": "o4WkdZaULbBC"
      }
    },
    {
      "cell_type": "markdown",
      "source": [
        "✅ Pegar um intervalo especifico, linha ou linhas especificas"
      ],
      "metadata": {
        "id": "cn6CHPCaK-a_"
      }
    },
    {
      "cell_type": "code",
      "source": [
        "linha = vendas_df.loc[:5]\n",
        "display(linha)"
      ],
      "metadata": {
        "colab": {
          "base_uri": "https://localhost:8080/",
          "height": 282
        },
        "id": "42qCf5cELDpW",
        "outputId": "4326d842-b691-4269-cc7f-35ba83e58aa2"
      },
      "execution_count": null,
      "outputs": [
        {
          "output_type": "display_data",
          "data": {
            "text/plain": [
              "      SKU    Produto  Quantidade Vendida Primeiro Nome   Sobrenome  \\\n",
              "0  HL4379  Televisão                   5       Gabriel       Thoni   \n",
              "1  HL4379  Televisão                   3         Renan  Nascimento   \n",
              "2  HL1148     Câmera                   2        Camila      Sobral   \n",
              "3  HL1918     iPhone                   3         Clara       Bruno   \n",
              "4  HL9962    Android                   4       Eduardo     Pacheco   \n",
              "5  HL1918     iPhone                   4         Sarah       Souza   \n",
              "\n",
              "         Data       Loja  Preco Unitario  Preco Total  \n",
              "0   6/30/2018   Curitiba            2500        12500  \n",
              "1   9/14/2018     Recife            2500         7500  \n",
              "2  10/21/2018  Fortaleza            2100         4200  \n",
              "3    7/8/2018  Fortaleza            5300        15900  \n",
              "4  12/19/2018  Fortaleza            3400        13600  \n",
              "5   2/14/2018  São Paulo            5300        21200  "
            ],
            "text/html": [
              "\n",
              "  <div id=\"df-e482d79c-7e55-4eeb-a575-4f8e05b5fccf\">\n",
              "    <div class=\"colab-df-container\">\n",
              "      <div>\n",
              "<style scoped>\n",
              "    .dataframe tbody tr th:only-of-type {\n",
              "        vertical-align: middle;\n",
              "    }\n",
              "\n",
              "    .dataframe tbody tr th {\n",
              "        vertical-align: top;\n",
              "    }\n",
              "\n",
              "    .dataframe thead th {\n",
              "        text-align: right;\n",
              "    }\n",
              "</style>\n",
              "<table border=\"1\" class=\"dataframe\">\n",
              "  <thead>\n",
              "    <tr style=\"text-align: right;\">\n",
              "      <th></th>\n",
              "      <th>SKU</th>\n",
              "      <th>Produto</th>\n",
              "      <th>Quantidade Vendida</th>\n",
              "      <th>Primeiro Nome</th>\n",
              "      <th>Sobrenome</th>\n",
              "      <th>Data</th>\n",
              "      <th>Loja</th>\n",
              "      <th>Preco Unitario</th>\n",
              "      <th>Preco Total</th>\n",
              "    </tr>\n",
              "  </thead>\n",
              "  <tbody>\n",
              "    <tr>\n",
              "      <th>0</th>\n",
              "      <td>HL4379</td>\n",
              "      <td>Televisão</td>\n",
              "      <td>5</td>\n",
              "      <td>Gabriel</td>\n",
              "      <td>Thoni</td>\n",
              "      <td>6/30/2018</td>\n",
              "      <td>Curitiba</td>\n",
              "      <td>2500</td>\n",
              "      <td>12500</td>\n",
              "    </tr>\n",
              "    <tr>\n",
              "      <th>1</th>\n",
              "      <td>HL4379</td>\n",
              "      <td>Televisão</td>\n",
              "      <td>3</td>\n",
              "      <td>Renan</td>\n",
              "      <td>Nascimento</td>\n",
              "      <td>9/14/2018</td>\n",
              "      <td>Recife</td>\n",
              "      <td>2500</td>\n",
              "      <td>7500</td>\n",
              "    </tr>\n",
              "    <tr>\n",
              "      <th>2</th>\n",
              "      <td>HL1148</td>\n",
              "      <td>Câmera</td>\n",
              "      <td>2</td>\n",
              "      <td>Camila</td>\n",
              "      <td>Sobral</td>\n",
              "      <td>10/21/2018</td>\n",
              "      <td>Fortaleza</td>\n",
              "      <td>2100</td>\n",
              "      <td>4200</td>\n",
              "    </tr>\n",
              "    <tr>\n",
              "      <th>3</th>\n",
              "      <td>HL1918</td>\n",
              "      <td>iPhone</td>\n",
              "      <td>3</td>\n",
              "      <td>Clara</td>\n",
              "      <td>Bruno</td>\n",
              "      <td>7/8/2018</td>\n",
              "      <td>Fortaleza</td>\n",
              "      <td>5300</td>\n",
              "      <td>15900</td>\n",
              "    </tr>\n",
              "    <tr>\n",
              "      <th>4</th>\n",
              "      <td>HL9962</td>\n",
              "      <td>Android</td>\n",
              "      <td>4</td>\n",
              "      <td>Eduardo</td>\n",
              "      <td>Pacheco</td>\n",
              "      <td>12/19/2018</td>\n",
              "      <td>Fortaleza</td>\n",
              "      <td>3400</td>\n",
              "      <td>13600</td>\n",
              "    </tr>\n",
              "    <tr>\n",
              "      <th>5</th>\n",
              "      <td>HL1918</td>\n",
              "      <td>iPhone</td>\n",
              "      <td>4</td>\n",
              "      <td>Sarah</td>\n",
              "      <td>Souza</td>\n",
              "      <td>2/14/2018</td>\n",
              "      <td>São Paulo</td>\n",
              "      <td>5300</td>\n",
              "      <td>21200</td>\n",
              "    </tr>\n",
              "  </tbody>\n",
              "</table>\n",
              "</div>\n",
              "      <button class=\"colab-df-convert\" onclick=\"convertToInteractive('df-e482d79c-7e55-4eeb-a575-4f8e05b5fccf')\"\n",
              "              title=\"Convert this dataframe to an interactive table.\"\n",
              "              style=\"display:none;\">\n",
              "        \n",
              "  <svg xmlns=\"http://www.w3.org/2000/svg\" height=\"24px\"viewBox=\"0 0 24 24\"\n",
              "       width=\"24px\">\n",
              "    <path d=\"M0 0h24v24H0V0z\" fill=\"none\"/>\n",
              "    <path d=\"M18.56 5.44l.94 2.06.94-2.06 2.06-.94-2.06-.94-.94-2.06-.94 2.06-2.06.94zm-11 1L8.5 8.5l.94-2.06 2.06-.94-2.06-.94L8.5 2.5l-.94 2.06-2.06.94zm10 10l.94 2.06.94-2.06 2.06-.94-2.06-.94-.94-2.06-.94 2.06-2.06.94z\"/><path d=\"M17.41 7.96l-1.37-1.37c-.4-.4-.92-.59-1.43-.59-.52 0-1.04.2-1.43.59L10.3 9.45l-7.72 7.72c-.78.78-.78 2.05 0 2.83L4 21.41c.39.39.9.59 1.41.59.51 0 1.02-.2 1.41-.59l7.78-7.78 2.81-2.81c.8-.78.8-2.07 0-2.86zM5.41 20L4 18.59l7.72-7.72 1.47 1.35L5.41 20z\"/>\n",
              "  </svg>\n",
              "      </button>\n",
              "      \n",
              "  <style>\n",
              "    .colab-df-container {\n",
              "      display:flex;\n",
              "      flex-wrap:wrap;\n",
              "      gap: 12px;\n",
              "    }\n",
              "\n",
              "    .colab-df-convert {\n",
              "      background-color: #E8F0FE;\n",
              "      border: none;\n",
              "      border-radius: 50%;\n",
              "      cursor: pointer;\n",
              "      display: none;\n",
              "      fill: #1967D2;\n",
              "      height: 32px;\n",
              "      padding: 0 0 0 0;\n",
              "      width: 32px;\n",
              "    }\n",
              "\n",
              "    .colab-df-convert:hover {\n",
              "      background-color: #E2EBFA;\n",
              "      box-shadow: 0px 1px 2px rgba(60, 64, 67, 0.3), 0px 1px 3px 1px rgba(60, 64, 67, 0.15);\n",
              "      fill: #174EA6;\n",
              "    }\n",
              "\n",
              "    [theme=dark] .colab-df-convert {\n",
              "      background-color: #3B4455;\n",
              "      fill: #D2E3FC;\n",
              "    }\n",
              "\n",
              "    [theme=dark] .colab-df-convert:hover {\n",
              "      background-color: #434B5C;\n",
              "      box-shadow: 0px 1px 3px 1px rgba(0, 0, 0, 0.15);\n",
              "      filter: drop-shadow(0px 1px 2px rgba(0, 0, 0, 0.3));\n",
              "      fill: #FFFFFF;\n",
              "    }\n",
              "  </style>\n",
              "\n",
              "      <script>\n",
              "        const buttonEl =\n",
              "          document.querySelector('#df-e482d79c-7e55-4eeb-a575-4f8e05b5fccf button.colab-df-convert');\n",
              "        buttonEl.style.display =\n",
              "          google.colab.kernel.accessAllowed ? 'block' : 'none';\n",
              "\n",
              "        async function convertToInteractive(key) {\n",
              "          const element = document.querySelector('#df-e482d79c-7e55-4eeb-a575-4f8e05b5fccf');\n",
              "          const dataTable =\n",
              "            await google.colab.kernel.invokeFunction('convertToInteractive',\n",
              "                                                     [key], {});\n",
              "          if (!dataTable) return;\n",
              "\n",
              "          const docLinkHtml = 'Like what you see? Visit the ' +\n",
              "            '<a target=\"_blank\" href=https://colab.research.google.com/notebooks/data_table.ipynb>data table notebook</a>'\n",
              "            + ' to learn more about interactive tables.';\n",
              "          element.innerHTML = '';\n",
              "          dataTable['output_type'] = 'display_data';\n",
              "          await google.colab.output.renderOutput(dataTable, element);\n",
              "          const docLink = document.createElement('div');\n",
              "          docLink.innerHTML = docLinkHtml;\n",
              "          element.appendChild(docLink);\n",
              "        }\n",
              "      </script>\n",
              "    </div>\n",
              "  </div>\n",
              "  "
            ]
          },
          "metadata": {}
        }
      ]
    },
    {
      "cell_type": "markdown",
      "source": [
        "###iloc[ ]"
      ],
      "metadata": {
        "id": "50go-912pKvw"
      }
    },
    {
      "cell_type": "code",
      "source": [
        "linha2 = vendas_df.iloc[:5,2]\n",
        "display(linha2)"
      ],
      "metadata": {
        "colab": {
          "base_uri": "https://localhost:8080/",
          "height": 121
        },
        "id": "SrmYwAARowql",
        "outputId": "d7ffc4f4-b707-4bd9-e43c-fad56b7d67fb"
      },
      "execution_count": null,
      "outputs": [
        {
          "output_type": "display_data",
          "data": {
            "text/plain": [
              "0    5\n",
              "1    3\n",
              "2    2\n",
              "3    3\n",
              "4    4\n",
              "Name: Quantidade Vendida, dtype: int64"
            ]
          },
          "metadata": {}
        }
      ]
    },
    {
      "cell_type": "markdown",
      "source": [
        "✅ Selecionando da linha 5 a 10 da tabela"
      ],
      "metadata": {
        "id": "qUYbacYJW-jt"
      }
    },
    {
      "cell_type": "code",
      "source": [
        "linha = vendas_df.loc[5:10]\n",
        "display(linha)"
      ],
      "metadata": {
        "colab": {
          "base_uri": "https://localhost:8080/",
          "height": 238
        },
        "id": "KA-Kd7HYMQcr",
        "outputId": "0d058527-664c-418b-c2f4-f2287b110912"
      },
      "execution_count": null,
      "outputs": [
        {
          "output_type": "display_data",
          "data": {
            "text/plain": [
              "       SKU     Produto  Quantidade Vendida Primeiro Nome  Sobrenome  \\\n",
              "5   HL1918      iPhone                   4         Sarah      Souza   \n",
              "6   HL7348  SmartWatch                   3     Alexandre  Rodriguez   \n",
              "7   HL2714      Tablet                   2         Thays     Castro   \n",
              "8   HL4379   Televisão                   4       Jessica   Cordovil   \n",
              "9   HL1148      Câmera                   3       Camille      Silva   \n",
              "10  HL1918      iPhone                   3          Alon   Palmeira   \n",
              "\n",
              "         Data            Loja  Preco Unitario  \n",
              "5   2/14/2018       São Paulo            5300  \n",
              "6   5/20/2018       São Paulo            1400  \n",
              "7    3/7/2018        Curitiba            1600  \n",
              "8   2/11/2018  Rio de Janeiro            2500  \n",
              "9   3/26/2018       São Paulo            2100  \n",
              "10  11/6/2018       São Paulo            5300  "
            ],
            "text/html": [
              "\n",
              "  <div id=\"df-a4a5944f-9ca1-49e4-be1a-672de9f940ee\">\n",
              "    <div class=\"colab-df-container\">\n",
              "      <div>\n",
              "<style scoped>\n",
              "    .dataframe tbody tr th:only-of-type {\n",
              "        vertical-align: middle;\n",
              "    }\n",
              "\n",
              "    .dataframe tbody tr th {\n",
              "        vertical-align: top;\n",
              "    }\n",
              "\n",
              "    .dataframe thead th {\n",
              "        text-align: right;\n",
              "    }\n",
              "</style>\n",
              "<table border=\"1\" class=\"dataframe\">\n",
              "  <thead>\n",
              "    <tr style=\"text-align: right;\">\n",
              "      <th></th>\n",
              "      <th>SKU</th>\n",
              "      <th>Produto</th>\n",
              "      <th>Quantidade Vendida</th>\n",
              "      <th>Primeiro Nome</th>\n",
              "      <th>Sobrenome</th>\n",
              "      <th>Data</th>\n",
              "      <th>Loja</th>\n",
              "      <th>Preco Unitario</th>\n",
              "    </tr>\n",
              "  </thead>\n",
              "  <tbody>\n",
              "    <tr>\n",
              "      <th>5</th>\n",
              "      <td>HL1918</td>\n",
              "      <td>iPhone</td>\n",
              "      <td>4</td>\n",
              "      <td>Sarah</td>\n",
              "      <td>Souza</td>\n",
              "      <td>2/14/2018</td>\n",
              "      <td>São Paulo</td>\n",
              "      <td>5300</td>\n",
              "    </tr>\n",
              "    <tr>\n",
              "      <th>6</th>\n",
              "      <td>HL7348</td>\n",
              "      <td>SmartWatch</td>\n",
              "      <td>3</td>\n",
              "      <td>Alexandre</td>\n",
              "      <td>Rodriguez</td>\n",
              "      <td>5/20/2018</td>\n",
              "      <td>São Paulo</td>\n",
              "      <td>1400</td>\n",
              "    </tr>\n",
              "    <tr>\n",
              "      <th>7</th>\n",
              "      <td>HL2714</td>\n",
              "      <td>Tablet</td>\n",
              "      <td>2</td>\n",
              "      <td>Thays</td>\n",
              "      <td>Castro</td>\n",
              "      <td>3/7/2018</td>\n",
              "      <td>Curitiba</td>\n",
              "      <td>1600</td>\n",
              "    </tr>\n",
              "    <tr>\n",
              "      <th>8</th>\n",
              "      <td>HL4379</td>\n",
              "      <td>Televisão</td>\n",
              "      <td>4</td>\n",
              "      <td>Jessica</td>\n",
              "      <td>Cordovil</td>\n",
              "      <td>2/11/2018</td>\n",
              "      <td>Rio de Janeiro</td>\n",
              "      <td>2500</td>\n",
              "    </tr>\n",
              "    <tr>\n",
              "      <th>9</th>\n",
              "      <td>HL1148</td>\n",
              "      <td>Câmera</td>\n",
              "      <td>3</td>\n",
              "      <td>Camille</td>\n",
              "      <td>Silva</td>\n",
              "      <td>3/26/2018</td>\n",
              "      <td>São Paulo</td>\n",
              "      <td>2100</td>\n",
              "    </tr>\n",
              "    <tr>\n",
              "      <th>10</th>\n",
              "      <td>HL1918</td>\n",
              "      <td>iPhone</td>\n",
              "      <td>3</td>\n",
              "      <td>Alon</td>\n",
              "      <td>Palmeira</td>\n",
              "      <td>11/6/2018</td>\n",
              "      <td>São Paulo</td>\n",
              "      <td>5300</td>\n",
              "    </tr>\n",
              "  </tbody>\n",
              "</table>\n",
              "</div>\n",
              "      <button class=\"colab-df-convert\" onclick=\"convertToInteractive('df-a4a5944f-9ca1-49e4-be1a-672de9f940ee')\"\n",
              "              title=\"Convert this dataframe to an interactive table.\"\n",
              "              style=\"display:none;\">\n",
              "        \n",
              "  <svg xmlns=\"http://www.w3.org/2000/svg\" height=\"24px\"viewBox=\"0 0 24 24\"\n",
              "       width=\"24px\">\n",
              "    <path d=\"M0 0h24v24H0V0z\" fill=\"none\"/>\n",
              "    <path d=\"M18.56 5.44l.94 2.06.94-2.06 2.06-.94-2.06-.94-.94-2.06-.94 2.06-2.06.94zm-11 1L8.5 8.5l.94-2.06 2.06-.94-2.06-.94L8.5 2.5l-.94 2.06-2.06.94zm10 10l.94 2.06.94-2.06 2.06-.94-2.06-.94-.94-2.06-.94 2.06-2.06.94z\"/><path d=\"M17.41 7.96l-1.37-1.37c-.4-.4-.92-.59-1.43-.59-.52 0-1.04.2-1.43.59L10.3 9.45l-7.72 7.72c-.78.78-.78 2.05 0 2.83L4 21.41c.39.39.9.59 1.41.59.51 0 1.02-.2 1.41-.59l7.78-7.78 2.81-2.81c.8-.78.8-2.07 0-2.86zM5.41 20L4 18.59l7.72-7.72 1.47 1.35L5.41 20z\"/>\n",
              "  </svg>\n",
              "      </button>\n",
              "      \n",
              "  <style>\n",
              "    .colab-df-container {\n",
              "      display:flex;\n",
              "      flex-wrap:wrap;\n",
              "      gap: 12px;\n",
              "    }\n",
              "\n",
              "    .colab-df-convert {\n",
              "      background-color: #E8F0FE;\n",
              "      border: none;\n",
              "      border-radius: 50%;\n",
              "      cursor: pointer;\n",
              "      display: none;\n",
              "      fill: #1967D2;\n",
              "      height: 32px;\n",
              "      padding: 0 0 0 0;\n",
              "      width: 32px;\n",
              "    }\n",
              "\n",
              "    .colab-df-convert:hover {\n",
              "      background-color: #E2EBFA;\n",
              "      box-shadow: 0px 1px 2px rgba(60, 64, 67, 0.3), 0px 1px 3px 1px rgba(60, 64, 67, 0.15);\n",
              "      fill: #174EA6;\n",
              "    }\n",
              "\n",
              "    [theme=dark] .colab-df-convert {\n",
              "      background-color: #3B4455;\n",
              "      fill: #D2E3FC;\n",
              "    }\n",
              "\n",
              "    [theme=dark] .colab-df-convert:hover {\n",
              "      background-color: #434B5C;\n",
              "      box-shadow: 0px 1px 3px 1px rgba(0, 0, 0, 0.15);\n",
              "      filter: drop-shadow(0px 1px 2px rgba(0, 0, 0, 0.3));\n",
              "      fill: #FFFFFF;\n",
              "    }\n",
              "  </style>\n",
              "\n",
              "      <script>\n",
              "        const buttonEl =\n",
              "          document.querySelector('#df-a4a5944f-9ca1-49e4-be1a-672de9f940ee button.colab-df-convert');\n",
              "        buttonEl.style.display =\n",
              "          google.colab.kernel.accessAllowed ? 'block' : 'none';\n",
              "\n",
              "        async function convertToInteractive(key) {\n",
              "          const element = document.querySelector('#df-a4a5944f-9ca1-49e4-be1a-672de9f940ee');\n",
              "          const dataTable =\n",
              "            await google.colab.kernel.invokeFunction('convertToInteractive',\n",
              "                                                     [key], {});\n",
              "          if (!dataTable) return;\n",
              "\n",
              "          const docLinkHtml = 'Like what you see? Visit the ' +\n",
              "            '<a target=\"_blank\" href=https://colab.research.google.com/notebooks/data_table.ipynb>data table notebook</a>'\n",
              "            + ' to learn more about interactive tables.';\n",
              "          element.innerHTML = '';\n",
              "          dataTable['output_type'] = 'display_data';\n",
              "          await google.colab.output.renderOutput(dataTable, element);\n",
              "          const docLink = document.createElement('div');\n",
              "          docLink.innerHTML = docLinkHtml;\n",
              "          element.appendChild(docLink);\n",
              "        }\n",
              "      </script>\n",
              "    </div>\n",
              "  </div>\n",
              "  "
            ]
          },
          "metadata": {}
        }
      ]
    },
    {
      "cell_type": "markdown",
      "source": [
        "✅ Selecionando a linha 2 da coluna Produto"
      ],
      "metadata": {
        "id": "7AvMPpHOWt7H"
      }
    },
    {
      "cell_type": "code",
      "source": [
        "linha = vendas_df.loc[2,'Produto']\n",
        "display(linha)"
      ],
      "metadata": {
        "colab": {
          "base_uri": "https://localhost:8080/",
          "height": 35
        },
        "id": "vMKWpdb4Mu-Z",
        "outputId": "c8754c13-9332-4302-909d-989f85c83a1a"
      },
      "execution_count": null,
      "outputs": [
        {
          "output_type": "display_data",
          "data": {
            "text/plain": [
              "'Câmera'"
            ],
            "application/vnd.google.colaboratory.intrinsic+json": {
              "type": "string"
            }
          },
          "metadata": {}
        }
      ]
    },
    {
      "cell_type": "markdown",
      "source": [
        "✅ Selecionando da linha 1 a 5 da coluna Produto"
      ],
      "metadata": {
        "id": "q14mzjWVW50J"
      }
    },
    {
      "cell_type": "code",
      "source": [
        "linha = vendas_df.loc[1:5 , 'Produto']\n",
        "display(linha)"
      ],
      "metadata": {
        "colab": {
          "base_uri": "https://localhost:8080/",
          "height": 121
        },
        "id": "hgexDMk0M44t",
        "outputId": "1d6d8bb8-6ed1-43c4-942d-31fc11bee3e6"
      },
      "execution_count": null,
      "outputs": [
        {
          "output_type": "display_data",
          "data": {
            "text/plain": [
              "1    Televisão\n",
              "2       Câmera\n",
              "3       iPhone\n",
              "4      Android\n",
              "5       iPhone\n",
              "Name: Produto, dtype: object"
            ]
          },
          "metadata": {}
        }
      ]
    },
    {
      "cell_type": "markdown",
      "source": [
        "✅ Selecionando as linhas da tabela onde uma condição obdece"
      ],
      "metadata": {
        "id": "qM9OqRAHXLcd"
      }
    },
    {
      "cell_type": "code",
      "source": [
        "vendas_SP = vendas_df.loc[vendas_df['Loja'] == 'São Paulo']\n",
        "display(vendas_SP)"
      ],
      "metadata": {
        "colab": {
          "base_uri": "https://localhost:8080/",
          "height": 424
        },
        "id": "t_3sjqvUNSvT",
        "outputId": "055e53df-dec0-4fed-9552-24fb5106e7a2"
      },
      "execution_count": null,
      "outputs": [
        {
          "output_type": "display_data",
          "data": {
            "text/plain": [
              "         SKU     Produto  Quantidade Vendida Primeiro Nome  Sobrenome  \\\n",
              "5     HL1918      iPhone                   4         Sarah      Souza   \n",
              "6     HL7348  SmartWatch                   3     Alexandre  Rodriguez   \n",
              "9     HL1148      Câmera                   3       Camille      Silva   \n",
              "10    HL1918      iPhone                   3          Alon   Palmeira   \n",
              "18    HL8851    Notebook                   4       Leandro  Rodrigues   \n",
              "...      ...         ...                 ...           ...        ...   \n",
              "9981  HL7348  SmartWatch                   4          João     Junior   \n",
              "9984  HL1918      iPhone                   4          Itai     Puntel   \n",
              "9985  HL1918      iPhone                   1     Guilherme     Vianna   \n",
              "9991  HL7348  SmartWatch                   5       Antônio     Soares   \n",
              "9996  HL4379   Televisão                   5          Caio     Moraes   \n",
              "\n",
              "            Data       Loja  Preco Unitario  \n",
              "5      2/14/2018  São Paulo            5300  \n",
              "6      5/20/2018  São Paulo            1400  \n",
              "9      3/26/2018  São Paulo            2100  \n",
              "10     11/6/2018  São Paulo            5300  \n",
              "18      8/6/2018  São Paulo            3500  \n",
              "...          ...        ...             ...  \n",
              "9981   4/14/2018  São Paulo            1400  \n",
              "9984    5/2/2018  São Paulo            5300  \n",
              "9985   3/18/2018  São Paulo            5300  \n",
              "9991  11/21/2018  São Paulo            1400  \n",
              "9996   1/22/2018  São Paulo            2500  \n",
              "\n",
              "[2226 rows x 8 columns]"
            ],
            "text/html": [
              "\n",
              "  <div id=\"df-f1ea729d-7515-4d45-bbda-564e8d356df9\">\n",
              "    <div class=\"colab-df-container\">\n",
              "      <div>\n",
              "<style scoped>\n",
              "    .dataframe tbody tr th:only-of-type {\n",
              "        vertical-align: middle;\n",
              "    }\n",
              "\n",
              "    .dataframe tbody tr th {\n",
              "        vertical-align: top;\n",
              "    }\n",
              "\n",
              "    .dataframe thead th {\n",
              "        text-align: right;\n",
              "    }\n",
              "</style>\n",
              "<table border=\"1\" class=\"dataframe\">\n",
              "  <thead>\n",
              "    <tr style=\"text-align: right;\">\n",
              "      <th></th>\n",
              "      <th>SKU</th>\n",
              "      <th>Produto</th>\n",
              "      <th>Quantidade Vendida</th>\n",
              "      <th>Primeiro Nome</th>\n",
              "      <th>Sobrenome</th>\n",
              "      <th>Data</th>\n",
              "      <th>Loja</th>\n",
              "      <th>Preco Unitario</th>\n",
              "    </tr>\n",
              "  </thead>\n",
              "  <tbody>\n",
              "    <tr>\n",
              "      <th>5</th>\n",
              "      <td>HL1918</td>\n",
              "      <td>iPhone</td>\n",
              "      <td>4</td>\n",
              "      <td>Sarah</td>\n",
              "      <td>Souza</td>\n",
              "      <td>2/14/2018</td>\n",
              "      <td>São Paulo</td>\n",
              "      <td>5300</td>\n",
              "    </tr>\n",
              "    <tr>\n",
              "      <th>6</th>\n",
              "      <td>HL7348</td>\n",
              "      <td>SmartWatch</td>\n",
              "      <td>3</td>\n",
              "      <td>Alexandre</td>\n",
              "      <td>Rodriguez</td>\n",
              "      <td>5/20/2018</td>\n",
              "      <td>São Paulo</td>\n",
              "      <td>1400</td>\n",
              "    </tr>\n",
              "    <tr>\n",
              "      <th>9</th>\n",
              "      <td>HL1148</td>\n",
              "      <td>Câmera</td>\n",
              "      <td>3</td>\n",
              "      <td>Camille</td>\n",
              "      <td>Silva</td>\n",
              "      <td>3/26/2018</td>\n",
              "      <td>São Paulo</td>\n",
              "      <td>2100</td>\n",
              "    </tr>\n",
              "    <tr>\n",
              "      <th>10</th>\n",
              "      <td>HL1918</td>\n",
              "      <td>iPhone</td>\n",
              "      <td>3</td>\n",
              "      <td>Alon</td>\n",
              "      <td>Palmeira</td>\n",
              "      <td>11/6/2018</td>\n",
              "      <td>São Paulo</td>\n",
              "      <td>5300</td>\n",
              "    </tr>\n",
              "    <tr>\n",
              "      <th>18</th>\n",
              "      <td>HL8851</td>\n",
              "      <td>Notebook</td>\n",
              "      <td>4</td>\n",
              "      <td>Leandro</td>\n",
              "      <td>Rodrigues</td>\n",
              "      <td>8/6/2018</td>\n",
              "      <td>São Paulo</td>\n",
              "      <td>3500</td>\n",
              "    </tr>\n",
              "    <tr>\n",
              "      <th>...</th>\n",
              "      <td>...</td>\n",
              "      <td>...</td>\n",
              "      <td>...</td>\n",
              "      <td>...</td>\n",
              "      <td>...</td>\n",
              "      <td>...</td>\n",
              "      <td>...</td>\n",
              "      <td>...</td>\n",
              "    </tr>\n",
              "    <tr>\n",
              "      <th>9981</th>\n",
              "      <td>HL7348</td>\n",
              "      <td>SmartWatch</td>\n",
              "      <td>4</td>\n",
              "      <td>João</td>\n",
              "      <td>Junior</td>\n",
              "      <td>4/14/2018</td>\n",
              "      <td>São Paulo</td>\n",
              "      <td>1400</td>\n",
              "    </tr>\n",
              "    <tr>\n",
              "      <th>9984</th>\n",
              "      <td>HL1918</td>\n",
              "      <td>iPhone</td>\n",
              "      <td>4</td>\n",
              "      <td>Itai</td>\n",
              "      <td>Puntel</td>\n",
              "      <td>5/2/2018</td>\n",
              "      <td>São Paulo</td>\n",
              "      <td>5300</td>\n",
              "    </tr>\n",
              "    <tr>\n",
              "      <th>9985</th>\n",
              "      <td>HL1918</td>\n",
              "      <td>iPhone</td>\n",
              "      <td>1</td>\n",
              "      <td>Guilherme</td>\n",
              "      <td>Vianna</td>\n",
              "      <td>3/18/2018</td>\n",
              "      <td>São Paulo</td>\n",
              "      <td>5300</td>\n",
              "    </tr>\n",
              "    <tr>\n",
              "      <th>9991</th>\n",
              "      <td>HL7348</td>\n",
              "      <td>SmartWatch</td>\n",
              "      <td>5</td>\n",
              "      <td>Antônio</td>\n",
              "      <td>Soares</td>\n",
              "      <td>11/21/2018</td>\n",
              "      <td>São Paulo</td>\n",
              "      <td>1400</td>\n",
              "    </tr>\n",
              "    <tr>\n",
              "      <th>9996</th>\n",
              "      <td>HL4379</td>\n",
              "      <td>Televisão</td>\n",
              "      <td>5</td>\n",
              "      <td>Caio</td>\n",
              "      <td>Moraes</td>\n",
              "      <td>1/22/2018</td>\n",
              "      <td>São Paulo</td>\n",
              "      <td>2500</td>\n",
              "    </tr>\n",
              "  </tbody>\n",
              "</table>\n",
              "<p>2226 rows × 8 columns</p>\n",
              "</div>\n",
              "      <button class=\"colab-df-convert\" onclick=\"convertToInteractive('df-f1ea729d-7515-4d45-bbda-564e8d356df9')\"\n",
              "              title=\"Convert this dataframe to an interactive table.\"\n",
              "              style=\"display:none;\">\n",
              "        \n",
              "  <svg xmlns=\"http://www.w3.org/2000/svg\" height=\"24px\"viewBox=\"0 0 24 24\"\n",
              "       width=\"24px\">\n",
              "    <path d=\"M0 0h24v24H0V0z\" fill=\"none\"/>\n",
              "    <path d=\"M18.56 5.44l.94 2.06.94-2.06 2.06-.94-2.06-.94-.94-2.06-.94 2.06-2.06.94zm-11 1L8.5 8.5l.94-2.06 2.06-.94-2.06-.94L8.5 2.5l-.94 2.06-2.06.94zm10 10l.94 2.06.94-2.06 2.06-.94-2.06-.94-.94-2.06-.94 2.06-2.06.94z\"/><path d=\"M17.41 7.96l-1.37-1.37c-.4-.4-.92-.59-1.43-.59-.52 0-1.04.2-1.43.59L10.3 9.45l-7.72 7.72c-.78.78-.78 2.05 0 2.83L4 21.41c.39.39.9.59 1.41.59.51 0 1.02-.2 1.41-.59l7.78-7.78 2.81-2.81c.8-.78.8-2.07 0-2.86zM5.41 20L4 18.59l7.72-7.72 1.47 1.35L5.41 20z\"/>\n",
              "  </svg>\n",
              "      </button>\n",
              "      \n",
              "  <style>\n",
              "    .colab-df-container {\n",
              "      display:flex;\n",
              "      flex-wrap:wrap;\n",
              "      gap: 12px;\n",
              "    }\n",
              "\n",
              "    .colab-df-convert {\n",
              "      background-color: #E8F0FE;\n",
              "      border: none;\n",
              "      border-radius: 50%;\n",
              "      cursor: pointer;\n",
              "      display: none;\n",
              "      fill: #1967D2;\n",
              "      height: 32px;\n",
              "      padding: 0 0 0 0;\n",
              "      width: 32px;\n",
              "    }\n",
              "\n",
              "    .colab-df-convert:hover {\n",
              "      background-color: #E2EBFA;\n",
              "      box-shadow: 0px 1px 2px rgba(60, 64, 67, 0.3), 0px 1px 3px 1px rgba(60, 64, 67, 0.15);\n",
              "      fill: #174EA6;\n",
              "    }\n",
              "\n",
              "    [theme=dark] .colab-df-convert {\n",
              "      background-color: #3B4455;\n",
              "      fill: #D2E3FC;\n",
              "    }\n",
              "\n",
              "    [theme=dark] .colab-df-convert:hover {\n",
              "      background-color: #434B5C;\n",
              "      box-shadow: 0px 1px 3px 1px rgba(0, 0, 0, 0.15);\n",
              "      filter: drop-shadow(0px 1px 2px rgba(0, 0, 0, 0.3));\n",
              "      fill: #FFFFFF;\n",
              "    }\n",
              "  </style>\n",
              "\n",
              "      <script>\n",
              "        const buttonEl =\n",
              "          document.querySelector('#df-f1ea729d-7515-4d45-bbda-564e8d356df9 button.colab-df-convert');\n",
              "        buttonEl.style.display =\n",
              "          google.colab.kernel.accessAllowed ? 'block' : 'none';\n",
              "\n",
              "        async function convertToInteractive(key) {\n",
              "          const element = document.querySelector('#df-f1ea729d-7515-4d45-bbda-564e8d356df9');\n",
              "          const dataTable =\n",
              "            await google.colab.kernel.invokeFunction('convertToInteractive',\n",
              "                                                     [key], {});\n",
              "          if (!dataTable) return;\n",
              "\n",
              "          const docLinkHtml = 'Like what you see? Visit the ' +\n",
              "            '<a target=\"_blank\" href=https://colab.research.google.com/notebooks/data_table.ipynb>data table notebook</a>'\n",
              "            + ' to learn more about interactive tables.';\n",
              "          element.innerHTML = '';\n",
              "          dataTable['output_type'] = 'display_data';\n",
              "          await google.colab.output.renderOutput(dataTable, element);\n",
              "          const docLink = document.createElement('div');\n",
              "          docLink.innerHTML = docLinkHtml;\n",
              "          element.appendChild(docLink);\n",
              "        }\n",
              "      </script>\n",
              "    </div>\n",
              "  </div>\n",
              "  "
            ]
          },
          "metadata": {}
        }
      ]
    },
    {
      "cell_type": "markdown",
      "source": [
        "##Att e Iat"
      ],
      "metadata": {
        "id": "eXsn7HFY8umS"
      }
    },
    {
      "cell_type": "markdown",
      "source": [
        "###At( )"
      ],
      "metadata": {
        "id": "25A4SDza8oLb"
      }
    },
    {
      "cell_type": "code",
      "source": [
        "number = pd.Series([0,22,7,3,12])\n",
        "display(number)\n"
      ],
      "metadata": {
        "colab": {
          "base_uri": "https://localhost:8080/",
          "height": 121
        },
        "id": "ORHcRyJ08FvD",
        "outputId": "3dcce896-3ee7-4dbe-d408-72bc99ff712f"
      },
      "execution_count": null,
      "outputs": [
        {
          "output_type": "display_data",
          "data": {
            "text/plain": [
              "0     0\n",
              "1    22\n",
              "2     7\n",
              "3     3\n",
              "4    12\n",
              "dtype: int64"
            ]
          },
          "metadata": {}
        }
      ]
    },
    {
      "cell_type": "code",
      "source": [
        "num = number.at[1]\n",
        "display(num)"
      ],
      "metadata": {
        "colab": {
          "base_uri": "https://localhost:8080/",
          "height": 34
        },
        "id": "p7ReaPkK6XuZ",
        "outputId": "82285bf7-eeda-447c-c49a-bf5490550d23"
      },
      "execution_count": null,
      "outputs": [
        {
          "output_type": "display_data",
          "data": {
            "text/plain": [
              "22"
            ]
          },
          "metadata": {}
        }
      ]
    },
    {
      "cell_type": "code",
      "source": [
        "vendas_df.head(2)"
      ],
      "metadata": {
        "colab": {
          "base_uri": "https://localhost:8080/",
          "height": 156
        },
        "id": "LbAxEkvU83pr",
        "outputId": "001d70a7-ef9e-4126-e0e7-eeaba030561f"
      },
      "execution_count": null,
      "outputs": [
        {
          "output_type": "execute_result",
          "data": {
            "text/plain": [
              "      SKU    Produto  Quantidade Vendida Primeiro Nome   Sobrenome       Data  \\\n",
              "0  HL4379  Televisão                   5       Gabriel       Thoni  6/30/2018   \n",
              "1  HL4379  Televisão                   3         Renan  Nascimento  9/14/2018   \n",
              "\n",
              "       Loja  Preco Unitario  Preco Total  \n",
              "0  Curitiba            2500        12500  \n",
              "1    Recife            2500         7500  "
            ],
            "text/html": [
              "\n",
              "  <div id=\"df-a8cd278f-0a2e-4155-b9e7-7efde3f842b5\">\n",
              "    <div class=\"colab-df-container\">\n",
              "      <div>\n",
              "<style scoped>\n",
              "    .dataframe tbody tr th:only-of-type {\n",
              "        vertical-align: middle;\n",
              "    }\n",
              "\n",
              "    .dataframe tbody tr th {\n",
              "        vertical-align: top;\n",
              "    }\n",
              "\n",
              "    .dataframe thead th {\n",
              "        text-align: right;\n",
              "    }\n",
              "</style>\n",
              "<table border=\"1\" class=\"dataframe\">\n",
              "  <thead>\n",
              "    <tr style=\"text-align: right;\">\n",
              "      <th></th>\n",
              "      <th>SKU</th>\n",
              "      <th>Produto</th>\n",
              "      <th>Quantidade Vendida</th>\n",
              "      <th>Primeiro Nome</th>\n",
              "      <th>Sobrenome</th>\n",
              "      <th>Data</th>\n",
              "      <th>Loja</th>\n",
              "      <th>Preco Unitario</th>\n",
              "      <th>Preco Total</th>\n",
              "    </tr>\n",
              "  </thead>\n",
              "  <tbody>\n",
              "    <tr>\n",
              "      <th>0</th>\n",
              "      <td>HL4379</td>\n",
              "      <td>Televisão</td>\n",
              "      <td>5</td>\n",
              "      <td>Gabriel</td>\n",
              "      <td>Thoni</td>\n",
              "      <td>6/30/2018</td>\n",
              "      <td>Curitiba</td>\n",
              "      <td>2500</td>\n",
              "      <td>12500</td>\n",
              "    </tr>\n",
              "    <tr>\n",
              "      <th>1</th>\n",
              "      <td>HL4379</td>\n",
              "      <td>Televisão</td>\n",
              "      <td>3</td>\n",
              "      <td>Renan</td>\n",
              "      <td>Nascimento</td>\n",
              "      <td>9/14/2018</td>\n",
              "      <td>Recife</td>\n",
              "      <td>2500</td>\n",
              "      <td>7500</td>\n",
              "    </tr>\n",
              "  </tbody>\n",
              "</table>\n",
              "</div>\n",
              "      <button class=\"colab-df-convert\" onclick=\"convertToInteractive('df-a8cd278f-0a2e-4155-b9e7-7efde3f842b5')\"\n",
              "              title=\"Convert this dataframe to an interactive table.\"\n",
              "              style=\"display:none;\">\n",
              "        \n",
              "  <svg xmlns=\"http://www.w3.org/2000/svg\" height=\"24px\"viewBox=\"0 0 24 24\"\n",
              "       width=\"24px\">\n",
              "    <path d=\"M0 0h24v24H0V0z\" fill=\"none\"/>\n",
              "    <path d=\"M18.56 5.44l.94 2.06.94-2.06 2.06-.94-2.06-.94-.94-2.06-.94 2.06-2.06.94zm-11 1L8.5 8.5l.94-2.06 2.06-.94-2.06-.94L8.5 2.5l-.94 2.06-2.06.94zm10 10l.94 2.06.94-2.06 2.06-.94-2.06-.94-.94-2.06-.94 2.06-2.06.94z\"/><path d=\"M17.41 7.96l-1.37-1.37c-.4-.4-.92-.59-1.43-.59-.52 0-1.04.2-1.43.59L10.3 9.45l-7.72 7.72c-.78.78-.78 2.05 0 2.83L4 21.41c.39.39.9.59 1.41.59.51 0 1.02-.2 1.41-.59l7.78-7.78 2.81-2.81c.8-.78.8-2.07 0-2.86zM5.41 20L4 18.59l7.72-7.72 1.47 1.35L5.41 20z\"/>\n",
              "  </svg>\n",
              "      </button>\n",
              "      \n",
              "  <style>\n",
              "    .colab-df-container {\n",
              "      display:flex;\n",
              "      flex-wrap:wrap;\n",
              "      gap: 12px;\n",
              "    }\n",
              "\n",
              "    .colab-df-convert {\n",
              "      background-color: #E8F0FE;\n",
              "      border: none;\n",
              "      border-radius: 50%;\n",
              "      cursor: pointer;\n",
              "      display: none;\n",
              "      fill: #1967D2;\n",
              "      height: 32px;\n",
              "      padding: 0 0 0 0;\n",
              "      width: 32px;\n",
              "    }\n",
              "\n",
              "    .colab-df-convert:hover {\n",
              "      background-color: #E2EBFA;\n",
              "      box-shadow: 0px 1px 2px rgba(60, 64, 67, 0.3), 0px 1px 3px 1px rgba(60, 64, 67, 0.15);\n",
              "      fill: #174EA6;\n",
              "    }\n",
              "\n",
              "    [theme=dark] .colab-df-convert {\n",
              "      background-color: #3B4455;\n",
              "      fill: #D2E3FC;\n",
              "    }\n",
              "\n",
              "    [theme=dark] .colab-df-convert:hover {\n",
              "      background-color: #434B5C;\n",
              "      box-shadow: 0px 1px 3px 1px rgba(0, 0, 0, 0.15);\n",
              "      filter: drop-shadow(0px 1px 2px rgba(0, 0, 0, 0.3));\n",
              "      fill: #FFFFFF;\n",
              "    }\n",
              "  </style>\n",
              "\n",
              "      <script>\n",
              "        const buttonEl =\n",
              "          document.querySelector('#df-a8cd278f-0a2e-4155-b9e7-7efde3f842b5 button.colab-df-convert');\n",
              "        buttonEl.style.display =\n",
              "          google.colab.kernel.accessAllowed ? 'block' : 'none';\n",
              "\n",
              "        async function convertToInteractive(key) {\n",
              "          const element = document.querySelector('#df-a8cd278f-0a2e-4155-b9e7-7efde3f842b5');\n",
              "          const dataTable =\n",
              "            await google.colab.kernel.invokeFunction('convertToInteractive',\n",
              "                                                     [key], {});\n",
              "          if (!dataTable) return;\n",
              "\n",
              "          const docLinkHtml = 'Like what you see? Visit the ' +\n",
              "            '<a target=\"_blank\" href=https://colab.research.google.com/notebooks/data_table.ipynb>data table notebook</a>'\n",
              "            + ' to learn more about interactive tables.';\n",
              "          element.innerHTML = '';\n",
              "          dataTable['output_type'] = 'display_data';\n",
              "          await google.colab.output.renderOutput(dataTable, element);\n",
              "          const docLink = document.createElement('div');\n",
              "          docLink.innerHTML = docLinkHtml;\n",
              "          element.appendChild(docLink);\n",
              "        }\n",
              "      </script>\n",
              "    </div>\n",
              "  </div>\n",
              "  "
            ]
          },
          "metadata": {},
          "execution_count": 173
        }
      ]
    },
    {
      "cell_type": "code",
      "source": [
        "number_test_at = vendas_df.at[vendas_df['Quantidade Vendida'] == 5]\n",
        "display(number_test_at)"
      ],
      "metadata": {
        "colab": {
          "base_uri": "https://localhost:8080/",
          "height": 329
        },
        "id": "hulCQ0GI9A4C",
        "outputId": "ea00d3c9-82c6-49cb-e0cd-1caf0e4da9c0"
      },
      "execution_count": null,
      "outputs": [
        {
          "output_type": "error",
          "ename": "ValueError",
          "evalue": "ignored",
          "traceback": [
            "\u001b[0;31m---------------------------------------------------------------------------\u001b[0m",
            "\u001b[0;31mValueError\u001b[0m                                Traceback (most recent call last)",
            "\u001b[0;32m<ipython-input-176-7f5ba7b7c116>\u001b[0m in \u001b[0;36m<cell line: 1>\u001b[0;34m()\u001b[0m\n\u001b[0;32m----> 1\u001b[0;31m \u001b[0mnumber_test_at\u001b[0m \u001b[0;34m=\u001b[0m \u001b[0mvendas_df\u001b[0m\u001b[0;34m.\u001b[0m\u001b[0mat\u001b[0m\u001b[0;34m[\u001b[0m\u001b[0mvendas_df\u001b[0m\u001b[0;34m[\u001b[0m\u001b[0;34m'Quantidade Vendida'\u001b[0m\u001b[0;34m]\u001b[0m \u001b[0;34m==\u001b[0m \u001b[0;36m5\u001b[0m\u001b[0;34m]\u001b[0m\u001b[0;34m\u001b[0m\u001b[0;34m\u001b[0m\u001b[0m\n\u001b[0m\u001b[1;32m      2\u001b[0m \u001b[0mdisplay\u001b[0m\u001b[0;34m(\u001b[0m\u001b[0mnumber_test_at\u001b[0m\u001b[0;34m)\u001b[0m\u001b[0;34m\u001b[0m\u001b[0;34m\u001b[0m\u001b[0m\n",
            "\u001b[0;32m/usr/local/lib/python3.9/dist-packages/pandas/core/indexing.py\u001b[0m in \u001b[0;36m__getitem__\u001b[0;34m(self, key)\u001b[0m\n\u001b[1;32m   2429\u001b[0m             \u001b[0;32mreturn\u001b[0m \u001b[0mself\u001b[0m\u001b[0;34m.\u001b[0m\u001b[0mobj\u001b[0m\u001b[0;34m.\u001b[0m\u001b[0mloc\u001b[0m\u001b[0;34m[\u001b[0m\u001b[0mkey\u001b[0m\u001b[0;34m]\u001b[0m\u001b[0;34m\u001b[0m\u001b[0;34m\u001b[0m\u001b[0m\n\u001b[1;32m   2430\u001b[0m \u001b[0;34m\u001b[0m\u001b[0m\n\u001b[0;32m-> 2431\u001b[0;31m         \u001b[0;32mreturn\u001b[0m \u001b[0msuper\u001b[0m\u001b[0;34m(\u001b[0m\u001b[0;34m)\u001b[0m\u001b[0;34m.\u001b[0m\u001b[0m__getitem__\u001b[0m\u001b[0;34m(\u001b[0m\u001b[0mkey\u001b[0m\u001b[0;34m)\u001b[0m\u001b[0;34m\u001b[0m\u001b[0;34m\u001b[0m\u001b[0m\n\u001b[0m\u001b[1;32m   2432\u001b[0m \u001b[0;34m\u001b[0m\u001b[0m\n\u001b[1;32m   2433\u001b[0m     \u001b[0;32mdef\u001b[0m \u001b[0m__setitem__\u001b[0m\u001b[0;34m(\u001b[0m\u001b[0mself\u001b[0m\u001b[0;34m,\u001b[0m \u001b[0mkey\u001b[0m\u001b[0;34m,\u001b[0m \u001b[0mvalue\u001b[0m\u001b[0;34m)\u001b[0m\u001b[0;34m:\u001b[0m\u001b[0;34m\u001b[0m\u001b[0;34m\u001b[0m\u001b[0m\n",
            "\u001b[0;32m/usr/local/lib/python3.9/dist-packages/pandas/core/indexing.py\u001b[0m in \u001b[0;36m__getitem__\u001b[0;34m(self, key)\u001b[0m\n\u001b[1;32m   2377\u001b[0m                 \u001b[0mkey\u001b[0m \u001b[0;34m=\u001b[0m \u001b[0;34m(\u001b[0m\u001b[0mkey\u001b[0m\u001b[0;34m,\u001b[0m\u001b[0;34m)\u001b[0m\u001b[0;34m\u001b[0m\u001b[0;34m\u001b[0m\u001b[0m\n\u001b[1;32m   2378\u001b[0m             \u001b[0;32melse\u001b[0m\u001b[0;34m:\u001b[0m\u001b[0;34m\u001b[0m\u001b[0;34m\u001b[0m\u001b[0m\n\u001b[0;32m-> 2379\u001b[0;31m                 \u001b[0;32mraise\u001b[0m \u001b[0mValueError\u001b[0m\u001b[0;34m(\u001b[0m\u001b[0;34m\"Invalid call for scalar access (getting)!\"\u001b[0m\u001b[0;34m)\u001b[0m\u001b[0;34m\u001b[0m\u001b[0;34m\u001b[0m\u001b[0m\n\u001b[0m\u001b[1;32m   2380\u001b[0m \u001b[0;34m\u001b[0m\u001b[0m\n\u001b[1;32m   2381\u001b[0m         \u001b[0mkey\u001b[0m \u001b[0;34m=\u001b[0m \u001b[0mself\u001b[0m\u001b[0;34m.\u001b[0m\u001b[0m_convert_key\u001b[0m\u001b[0;34m(\u001b[0m\u001b[0mkey\u001b[0m\u001b[0;34m)\u001b[0m\u001b[0;34m\u001b[0m\u001b[0;34m\u001b[0m\u001b[0m\n",
            "\u001b[0;31mValueError\u001b[0m: Invalid call for scalar access (getting)!"
          ]
        }
      ]
    },
    {
      "cell_type": "markdown",
      "source": [
        "##isin( )"
      ],
      "metadata": {
        "id": "t575ZpY7AoI-"
      }
    },
    {
      "cell_type": "code",
      "source": [
        "series_bool = pd.Series(numpy.arange(5), index=numpy.arange(5)[::-1], dtype='int64')\n",
        "display(series_bool)\n"
      ],
      "metadata": {
        "colab": {
          "base_uri": "https://localhost:8080/",
          "height": 121
        },
        "id": "s5In5UiEAqoF",
        "outputId": "0d40c5ad-20e6-450e-a75e-70e84bd3fa77"
      },
      "execution_count": null,
      "outputs": [
        {
          "output_type": "display_data",
          "data": {
            "text/plain": [
              "4    0\n",
              "3    1\n",
              "2    2\n",
              "1    3\n",
              "0    4\n",
              "dtype: int64"
            ]
          },
          "metadata": {}
        }
      ]
    },
    {
      "cell_type": "code",
      "source": [
        "series_bool.isin([1,2,3])"
      ],
      "metadata": {
        "colab": {
          "base_uri": "https://localhost:8080/"
        },
        "id": "BE2K-sFsBVWr",
        "outputId": "329d7ad4-e3a7-4b7e-ad28-24505331c3f3"
      },
      "execution_count": null,
      "outputs": [
        {
          "output_type": "execute_result",
          "data": {
            "text/plain": [
              "4    False\n",
              "3     True\n",
              "2     True\n",
              "1     True\n",
              "0    False\n",
              "dtype: bool"
            ]
          },
          "metadata": {},
          "execution_count": 187
        }
      ]
    },
    {
      "cell_type": "code",
      "source": [
        "vendas_SP = vendas_df.loc[vendas_df['Loja'] == 'São Paulo']\n",
        "display(vendas_SP)"
      ],
      "metadata": {
        "id": "2AC0cnUk9nxm"
      },
      "execution_count": null,
      "outputs": []
    },
    {
      "cell_type": "markdown",
      "source": [
        "#Manipulação de DataFrame"
      ],
      "metadata": {
        "id": "MJ1mVPPpUJT7"
      }
    },
    {
      "cell_type": "markdown",
      "source": [
        "##Adicionar coluna"
      ],
      "metadata": {
        "id": "cLfB9yExOAXJ"
      }
    },
    {
      "cell_type": "markdown",
      "source": [
        "Apartir de uma coluna existente"
      ],
      "metadata": {
        "id": "LXMMpQ3HOFQ8"
      }
    },
    {
      "cell_type": "code",
      "source": [
        "vendas_df['Preco Total'] = vendas_df['Preco Unitario'] * vendas_df['Quantidade Vendida']\n",
        "\n",
        "vendas_df.head(1)"
      ],
      "metadata": {
        "colab": {
          "base_uri": "https://localhost:8080/",
          "height": 125
        },
        "id": "zb5IwtRFODRL",
        "outputId": "ece20cdc-8d3a-4bb1-91f0-af226ffccb39"
      },
      "execution_count": null,
      "outputs": [
        {
          "output_type": "execute_result",
          "data": {
            "text/plain": [
              "      SKU    Produto  Quantidade Vendida Primeiro Nome Sobrenome       Data  \\\n",
              "0  HL4379  Televisão                   5       Gabriel     Thoni  6/30/2018   \n",
              "\n",
              "       Loja  Preco Unitario  Preco Total  \n",
              "0  Curitiba            2500        12500  "
            ],
            "text/html": [
              "\n",
              "  <div id=\"df-51c83a26-2977-4bef-ac62-15491d739442\">\n",
              "    <div class=\"colab-df-container\">\n",
              "      <div>\n",
              "<style scoped>\n",
              "    .dataframe tbody tr th:only-of-type {\n",
              "        vertical-align: middle;\n",
              "    }\n",
              "\n",
              "    .dataframe tbody tr th {\n",
              "        vertical-align: top;\n",
              "    }\n",
              "\n",
              "    .dataframe thead th {\n",
              "        text-align: right;\n",
              "    }\n",
              "</style>\n",
              "<table border=\"1\" class=\"dataframe\">\n",
              "  <thead>\n",
              "    <tr style=\"text-align: right;\">\n",
              "      <th></th>\n",
              "      <th>SKU</th>\n",
              "      <th>Produto</th>\n",
              "      <th>Quantidade Vendida</th>\n",
              "      <th>Primeiro Nome</th>\n",
              "      <th>Sobrenome</th>\n",
              "      <th>Data</th>\n",
              "      <th>Loja</th>\n",
              "      <th>Preco Unitario</th>\n",
              "      <th>Preco Total</th>\n",
              "    </tr>\n",
              "  </thead>\n",
              "  <tbody>\n",
              "    <tr>\n",
              "      <th>0</th>\n",
              "      <td>HL4379</td>\n",
              "      <td>Televisão</td>\n",
              "      <td>5</td>\n",
              "      <td>Gabriel</td>\n",
              "      <td>Thoni</td>\n",
              "      <td>6/30/2018</td>\n",
              "      <td>Curitiba</td>\n",
              "      <td>2500</td>\n",
              "      <td>12500</td>\n",
              "    </tr>\n",
              "  </tbody>\n",
              "</table>\n",
              "</div>\n",
              "      <button class=\"colab-df-convert\" onclick=\"convertToInteractive('df-51c83a26-2977-4bef-ac62-15491d739442')\"\n",
              "              title=\"Convert this dataframe to an interactive table.\"\n",
              "              style=\"display:none;\">\n",
              "        \n",
              "  <svg xmlns=\"http://www.w3.org/2000/svg\" height=\"24px\"viewBox=\"0 0 24 24\"\n",
              "       width=\"24px\">\n",
              "    <path d=\"M0 0h24v24H0V0z\" fill=\"none\"/>\n",
              "    <path d=\"M18.56 5.44l.94 2.06.94-2.06 2.06-.94-2.06-.94-.94-2.06-.94 2.06-2.06.94zm-11 1L8.5 8.5l.94-2.06 2.06-.94-2.06-.94L8.5 2.5l-.94 2.06-2.06.94zm10 10l.94 2.06.94-2.06 2.06-.94-2.06-.94-.94-2.06-.94 2.06-2.06.94z\"/><path d=\"M17.41 7.96l-1.37-1.37c-.4-.4-.92-.59-1.43-.59-.52 0-1.04.2-1.43.59L10.3 9.45l-7.72 7.72c-.78.78-.78 2.05 0 2.83L4 21.41c.39.39.9.59 1.41.59.51 0 1.02-.2 1.41-.59l7.78-7.78 2.81-2.81c.8-.78.8-2.07 0-2.86zM5.41 20L4 18.59l7.72-7.72 1.47 1.35L5.41 20z\"/>\n",
              "  </svg>\n",
              "      </button>\n",
              "      \n",
              "  <style>\n",
              "    .colab-df-container {\n",
              "      display:flex;\n",
              "      flex-wrap:wrap;\n",
              "      gap: 12px;\n",
              "    }\n",
              "\n",
              "    .colab-df-convert {\n",
              "      background-color: #E8F0FE;\n",
              "      border: none;\n",
              "      border-radius: 50%;\n",
              "      cursor: pointer;\n",
              "      display: none;\n",
              "      fill: #1967D2;\n",
              "      height: 32px;\n",
              "      padding: 0 0 0 0;\n",
              "      width: 32px;\n",
              "    }\n",
              "\n",
              "    .colab-df-convert:hover {\n",
              "      background-color: #E2EBFA;\n",
              "      box-shadow: 0px 1px 2px rgba(60, 64, 67, 0.3), 0px 1px 3px 1px rgba(60, 64, 67, 0.15);\n",
              "      fill: #174EA6;\n",
              "    }\n",
              "\n",
              "    [theme=dark] .colab-df-convert {\n",
              "      background-color: #3B4455;\n",
              "      fill: #D2E3FC;\n",
              "    }\n",
              "\n",
              "    [theme=dark] .colab-df-convert:hover {\n",
              "      background-color: #434B5C;\n",
              "      box-shadow: 0px 1px 3px 1px rgba(0, 0, 0, 0.15);\n",
              "      filter: drop-shadow(0px 1px 2px rgba(0, 0, 0, 0.3));\n",
              "      fill: #FFFFFF;\n",
              "    }\n",
              "  </style>\n",
              "\n",
              "      <script>\n",
              "        const buttonEl =\n",
              "          document.querySelector('#df-51c83a26-2977-4bef-ac62-15491d739442 button.colab-df-convert');\n",
              "        buttonEl.style.display =\n",
              "          google.colab.kernel.accessAllowed ? 'block' : 'none';\n",
              "\n",
              "        async function convertToInteractive(key) {\n",
              "          const element = document.querySelector('#df-51c83a26-2977-4bef-ac62-15491d739442');\n",
              "          const dataTable =\n",
              "            await google.colab.kernel.invokeFunction('convertToInteractive',\n",
              "                                                     [key], {});\n",
              "          if (!dataTable) return;\n",
              "\n",
              "          const docLinkHtml = 'Like what you see? Visit the ' +\n",
              "            '<a target=\"_blank\" href=https://colab.research.google.com/notebooks/data_table.ipynb>data table notebook</a>'\n",
              "            + ' to learn more about interactive tables.';\n",
              "          element.innerHTML = '';\n",
              "          dataTable['output_type'] = 'display_data';\n",
              "          await google.colab.output.renderOutput(dataTable, element);\n",
              "          const docLink = document.createElement('div');\n",
              "          docLink.innerHTML = docLinkHtml;\n",
              "          element.appendChild(docLink);\n",
              "        }\n",
              "      </script>\n",
              "    </div>\n",
              "  </div>\n",
              "  "
            ]
          },
          "metadata": {},
          "execution_count": 44
        }
      ]
    },
    {
      "cell_type": "markdown",
      "source": [
        "Nova coluna existente"
      ],
      "metadata": {
        "id": "cS40L9bNVEU0"
      }
    },
    {
      "cell_type": "code",
      "source": [
        "vendas_df.loc[:, 'Imposto'] = 0\n"
      ],
      "metadata": {
        "id": "z2cvw5CBOmid"
      },
      "execution_count": null,
      "outputs": []
    },
    {
      "cell_type": "code",
      "source": [
        "vendas_df.head(1)"
      ],
      "metadata": {
        "colab": {
          "base_uri": "https://localhost:8080/",
          "height": 142
        },
        "id": "Gc0s5qnTVnAZ",
        "outputId": "94315bd9-5184-42ac-9f47-2f48e326b363"
      },
      "execution_count": null,
      "outputs": [
        {
          "output_type": "execute_result",
          "data": {
            "text/plain": [
              "      SKU    Produto  Quantidade Vendida Primeiro Nome Sobrenome       Data  \\\n",
              "0  HL4379  Televisão                   5       Gabriel     Thoni  6/30/2018   \n",
              "\n",
              "       Loja  Preco Unitario  Preco Total  Imposto  \n",
              "0  Curitiba            2500        12500        0  "
            ],
            "text/html": [
              "\n",
              "  <div id=\"df-e89d17c8-b777-4ee0-8491-f575bb1a98d1\">\n",
              "    <div class=\"colab-df-container\">\n",
              "      <div>\n",
              "<style scoped>\n",
              "    .dataframe tbody tr th:only-of-type {\n",
              "        vertical-align: middle;\n",
              "    }\n",
              "\n",
              "    .dataframe tbody tr th {\n",
              "        vertical-align: top;\n",
              "    }\n",
              "\n",
              "    .dataframe thead th {\n",
              "        text-align: right;\n",
              "    }\n",
              "</style>\n",
              "<table border=\"1\" class=\"dataframe\">\n",
              "  <thead>\n",
              "    <tr style=\"text-align: right;\">\n",
              "      <th></th>\n",
              "      <th>SKU</th>\n",
              "      <th>Produto</th>\n",
              "      <th>Quantidade Vendida</th>\n",
              "      <th>Primeiro Nome</th>\n",
              "      <th>Sobrenome</th>\n",
              "      <th>Data</th>\n",
              "      <th>Loja</th>\n",
              "      <th>Preco Unitario</th>\n",
              "      <th>Preco Total</th>\n",
              "      <th>Imposto</th>\n",
              "    </tr>\n",
              "  </thead>\n",
              "  <tbody>\n",
              "    <tr>\n",
              "      <th>0</th>\n",
              "      <td>HL4379</td>\n",
              "      <td>Televisão</td>\n",
              "      <td>5</td>\n",
              "      <td>Gabriel</td>\n",
              "      <td>Thoni</td>\n",
              "      <td>6/30/2018</td>\n",
              "      <td>Curitiba</td>\n",
              "      <td>2500</td>\n",
              "      <td>12500</td>\n",
              "      <td>0</td>\n",
              "    </tr>\n",
              "  </tbody>\n",
              "</table>\n",
              "</div>\n",
              "      <button class=\"colab-df-convert\" onclick=\"convertToInteractive('df-e89d17c8-b777-4ee0-8491-f575bb1a98d1')\"\n",
              "              title=\"Convert this dataframe to an interactive table.\"\n",
              "              style=\"display:none;\">\n",
              "        \n",
              "  <svg xmlns=\"http://www.w3.org/2000/svg\" height=\"24px\"viewBox=\"0 0 24 24\"\n",
              "       width=\"24px\">\n",
              "    <path d=\"M0 0h24v24H0V0z\" fill=\"none\"/>\n",
              "    <path d=\"M18.56 5.44l.94 2.06.94-2.06 2.06-.94-2.06-.94-.94-2.06-.94 2.06-2.06.94zm-11 1L8.5 8.5l.94-2.06 2.06-.94-2.06-.94L8.5 2.5l-.94 2.06-2.06.94zm10 10l.94 2.06.94-2.06 2.06-.94-2.06-.94-.94-2.06-.94 2.06-2.06.94z\"/><path d=\"M17.41 7.96l-1.37-1.37c-.4-.4-.92-.59-1.43-.59-.52 0-1.04.2-1.43.59L10.3 9.45l-7.72 7.72c-.78.78-.78 2.05 0 2.83L4 21.41c.39.39.9.59 1.41.59.51 0 1.02-.2 1.41-.59l7.78-7.78 2.81-2.81c.8-.78.8-2.07 0-2.86zM5.41 20L4 18.59l7.72-7.72 1.47 1.35L5.41 20z\"/>\n",
              "  </svg>\n",
              "      </button>\n",
              "      \n",
              "  <style>\n",
              "    .colab-df-container {\n",
              "      display:flex;\n",
              "      flex-wrap:wrap;\n",
              "      gap: 12px;\n",
              "    }\n",
              "\n",
              "    .colab-df-convert {\n",
              "      background-color: #E8F0FE;\n",
              "      border: none;\n",
              "      border-radius: 50%;\n",
              "      cursor: pointer;\n",
              "      display: none;\n",
              "      fill: #1967D2;\n",
              "      height: 32px;\n",
              "      padding: 0 0 0 0;\n",
              "      width: 32px;\n",
              "    }\n",
              "\n",
              "    .colab-df-convert:hover {\n",
              "      background-color: #E2EBFA;\n",
              "      box-shadow: 0px 1px 2px rgba(60, 64, 67, 0.3), 0px 1px 3px 1px rgba(60, 64, 67, 0.15);\n",
              "      fill: #174EA6;\n",
              "    }\n",
              "\n",
              "    [theme=dark] .colab-df-convert {\n",
              "      background-color: #3B4455;\n",
              "      fill: #D2E3FC;\n",
              "    }\n",
              "\n",
              "    [theme=dark] .colab-df-convert:hover {\n",
              "      background-color: #434B5C;\n",
              "      box-shadow: 0px 1px 3px 1px rgba(0, 0, 0, 0.15);\n",
              "      filter: drop-shadow(0px 1px 2px rgba(0, 0, 0, 0.3));\n",
              "      fill: #FFFFFF;\n",
              "    }\n",
              "  </style>\n",
              "\n",
              "      <script>\n",
              "        const buttonEl =\n",
              "          document.querySelector('#df-e89d17c8-b777-4ee0-8491-f575bb1a98d1 button.colab-df-convert');\n",
              "        buttonEl.style.display =\n",
              "          google.colab.kernel.accessAllowed ? 'block' : 'none';\n",
              "\n",
              "        async function convertToInteractive(key) {\n",
              "          const element = document.querySelector('#df-e89d17c8-b777-4ee0-8491-f575bb1a98d1');\n",
              "          const dataTable =\n",
              "            await google.colab.kernel.invokeFunction('convertToInteractive',\n",
              "                                                     [key], {});\n",
              "          if (!dataTable) return;\n",
              "\n",
              "          const docLinkHtml = 'Like what you see? Visit the ' +\n",
              "            '<a target=\"_blank\" href=https://colab.research.google.com/notebooks/data_table.ipynb>data table notebook</a>'\n",
              "            + ' to learn more about interactive tables.';\n",
              "          element.innerHTML = '';\n",
              "          dataTable['output_type'] = 'display_data';\n",
              "          await google.colab.output.renderOutput(dataTable, element);\n",
              "          const docLink = document.createElement('div');\n",
              "          docLink.innerHTML = docLinkHtml;\n",
              "          element.appendChild(docLink);\n",
              "        }\n",
              "      </script>\n",
              "    </div>\n",
              "  </div>\n",
              "  "
            ]
          },
          "metadata": {},
          "execution_count": 47
        }
      ]
    },
    {
      "cell_type": "markdown",
      "source": [
        "###Extrair ano de uma coluna e criar uma nova "
      ],
      "metadata": {
        "id": "WQ4afuAqUeEE"
      }
    },
    {
      "cell_type": "code",
      "source": [
        "#primeiro usamos o meto DatetimeIndex\n",
        "data_coluna = pd.DatetimeIndex(dataframe['data'])\n",
        "\n",
        "# extraimos o ano da váriavel data_coluna\n",
        "ano - data_coluna.year\n",
        "\n",
        "\n",
        "#adiciona a nova coluna com valor de ano\n",
        "dataframe['ano'] = ano"
      ],
      "metadata": {
        "id": "-K9k_sYyUlck"
      },
      "execution_count": null,
      "outputs": []
    },
    {
      "cell_type": "markdown",
      "source": [
        "##Adicionar Linha"
      ],
      "metadata": {
        "id": "58qhlv3nXz8h"
      }
    },
    {
      "cell_type": "markdown",
      "source": [
        "✅ Adicionando linhas de outra tabela"
      ],
      "metadata": {
        "id": "DFBFclHhX5_f"
      }
    },
    {
      "cell_type": "code",
      "source": [
        "novo_df = pd.read_excel(local)\n",
        "vendas_df = vendas_df.append(novo_df)"
      ],
      "metadata": {
        "colab": {
          "base_uri": "https://localhost:8080/"
        },
        "id": "zLFcpSR0WGo3",
        "outputId": "d6ddfff3-d3c8-4dcc-9551-1aaa752a5b2c"
      },
      "execution_count": null,
      "outputs": [
        {
          "output_type": "execute_result",
          "data": {
            "text/plain": [
              "<bound method DataFrame.notna of          SKU     Produto  Quantidade Vendida Primeiro Nome  Sobrenome  \\\n",
              "5     HL1918      iPhone                   4         Sarah      Souza   \n",
              "6     HL7348  SmartWatch                   3     Alexandre  Rodriguez   \n",
              "9     HL1148      Câmera                   3       Camille      Silva   \n",
              "10    HL1918      iPhone                   3          Alon   Palmeira   \n",
              "18    HL8851    Notebook                   4       Leandro  Rodrigues   \n",
              "...      ...         ...                 ...           ...        ...   \n",
              "9981  HL7348  SmartWatch                   4          João     Junior   \n",
              "9984  HL1918      iPhone                   4          Itai     Puntel   \n",
              "9985  HL1918      iPhone                   1     Guilherme     Vianna   \n",
              "9991  HL7348  SmartWatch                   5       Antônio     Soares   \n",
              "9996  HL4379   Televisão                   5          Caio     Moraes   \n",
              "\n",
              "            Data       Loja  Preco Unitario  \n",
              "5      2/14/2018  São Paulo            5300  \n",
              "6      5/20/2018  São Paulo            1400  \n",
              "9      3/26/2018  São Paulo            2100  \n",
              "10     11/6/2018  São Paulo            5300  \n",
              "18      8/6/2018  São Paulo            3500  \n",
              "...          ...        ...             ...  \n",
              "9981   4/14/2018  São Paulo            1400  \n",
              "9984    5/2/2018  São Paulo            5300  \n",
              "9985   3/18/2018  São Paulo            5300  \n",
              "9991  11/21/2018  São Paulo            1400  \n",
              "9996   1/22/2018  São Paulo            2500  \n",
              "\n",
              "[2226 rows x 8 columns]>"
            ]
          },
          "metadata": {},
          "execution_count": 50
        }
      ]
    },
    {
      "cell_type": "markdown",
      "source": [
        "##Drop( )"
      ],
      "metadata": {
        "id": "1maXoPaBal8W"
      }
    },
    {
      "cell_type": "markdown",
      "source": [
        "Drop() é utilizado para excluir linhas ou colunas inteiras"
      ],
      "metadata": {
        "id": "YEq_Hzrna2S9"
      }
    },
    {
      "cell_type": "markdown",
      "source": [
        "###Excluindo linhas"
      ],
      "metadata": {
        "id": "bXfgHcHZYWHJ"
      }
    },
    {
      "cell_type": "code",
      "source": [
        "vendas_df = vendas_df.drop(0, axis=0)\n",
        "\n",
        "#axis = 0 - Eixo x , eixo da linha \n",
        "#axis = 1 - Eixo y , eixo da coluna"
      ],
      "metadata": {
        "id": "TMlcm-LzYaiN"
      },
      "execution_count": null,
      "outputs": []
    },
    {
      "cell_type": "markdown",
      "source": [
        "###Excluindo Colunas"
      ],
      "metadata": {
        "id": "61R6rvJ7ZAaM"
      }
    },
    {
      "cell_type": "code",
      "source": [
        "vendas_df = vendas_df.drop('Imposto', axis=1)\n"
      ],
      "metadata": {
        "id": "mTb5W-rYYwKI"
      },
      "execution_count": null,
      "outputs": []
    },
    {
      "cell_type": "code",
      "source": [
        "display(vendas_df.head(1))"
      ],
      "metadata": {
        "colab": {
          "base_uri": "https://localhost:8080/",
          "height": 125
        },
        "id": "Olu33eCYY6BR",
        "outputId": "8fa7f4e9-3b8a-4471-a9ac-1d1de03897cb"
      },
      "execution_count": null,
      "outputs": [
        {
          "output_type": "display_data",
          "data": {
            "text/plain": [
              "      SKU    Produto  Quantidade Vendida Primeiro Nome Sobrenome       Data  \\\n",
              "0  HL4379  Televisão                   5       Gabriel     Thoni  6/30/2018   \n",
              "\n",
              "       Loja  Preco Unitario  Preco Total  \n",
              "0  Curitiba            2500        12500  "
            ],
            "text/html": [
              "\n",
              "  <div id=\"df-82d0dcbd-95b1-4e09-bc95-0bea6447f138\">\n",
              "    <div class=\"colab-df-container\">\n",
              "      <div>\n",
              "<style scoped>\n",
              "    .dataframe tbody tr th:only-of-type {\n",
              "        vertical-align: middle;\n",
              "    }\n",
              "\n",
              "    .dataframe tbody tr th {\n",
              "        vertical-align: top;\n",
              "    }\n",
              "\n",
              "    .dataframe thead th {\n",
              "        text-align: right;\n",
              "    }\n",
              "</style>\n",
              "<table border=\"1\" class=\"dataframe\">\n",
              "  <thead>\n",
              "    <tr style=\"text-align: right;\">\n",
              "      <th></th>\n",
              "      <th>SKU</th>\n",
              "      <th>Produto</th>\n",
              "      <th>Quantidade Vendida</th>\n",
              "      <th>Primeiro Nome</th>\n",
              "      <th>Sobrenome</th>\n",
              "      <th>Data</th>\n",
              "      <th>Loja</th>\n",
              "      <th>Preco Unitario</th>\n",
              "      <th>Preco Total</th>\n",
              "    </tr>\n",
              "  </thead>\n",
              "  <tbody>\n",
              "    <tr>\n",
              "      <th>0</th>\n",
              "      <td>HL4379</td>\n",
              "      <td>Televisão</td>\n",
              "      <td>5</td>\n",
              "      <td>Gabriel</td>\n",
              "      <td>Thoni</td>\n",
              "      <td>6/30/2018</td>\n",
              "      <td>Curitiba</td>\n",
              "      <td>2500</td>\n",
              "      <td>12500</td>\n",
              "    </tr>\n",
              "  </tbody>\n",
              "</table>\n",
              "</div>\n",
              "      <button class=\"colab-df-convert\" onclick=\"convertToInteractive('df-82d0dcbd-95b1-4e09-bc95-0bea6447f138')\"\n",
              "              title=\"Convert this dataframe to an interactive table.\"\n",
              "              style=\"display:none;\">\n",
              "        \n",
              "  <svg xmlns=\"http://www.w3.org/2000/svg\" height=\"24px\"viewBox=\"0 0 24 24\"\n",
              "       width=\"24px\">\n",
              "    <path d=\"M0 0h24v24H0V0z\" fill=\"none\"/>\n",
              "    <path d=\"M18.56 5.44l.94 2.06.94-2.06 2.06-.94-2.06-.94-.94-2.06-.94 2.06-2.06.94zm-11 1L8.5 8.5l.94-2.06 2.06-.94-2.06-.94L8.5 2.5l-.94 2.06-2.06.94zm10 10l.94 2.06.94-2.06 2.06-.94-2.06-.94-.94-2.06-.94 2.06-2.06.94z\"/><path d=\"M17.41 7.96l-1.37-1.37c-.4-.4-.92-.59-1.43-.59-.52 0-1.04.2-1.43.59L10.3 9.45l-7.72 7.72c-.78.78-.78 2.05 0 2.83L4 21.41c.39.39.9.59 1.41.59.51 0 1.02-.2 1.41-.59l7.78-7.78 2.81-2.81c.8-.78.8-2.07 0-2.86zM5.41 20L4 18.59l7.72-7.72 1.47 1.35L5.41 20z\"/>\n",
              "  </svg>\n",
              "      </button>\n",
              "      \n",
              "  <style>\n",
              "    .colab-df-container {\n",
              "      display:flex;\n",
              "      flex-wrap:wrap;\n",
              "      gap: 12px;\n",
              "    }\n",
              "\n",
              "    .colab-df-convert {\n",
              "      background-color: #E8F0FE;\n",
              "      border: none;\n",
              "      border-radius: 50%;\n",
              "      cursor: pointer;\n",
              "      display: none;\n",
              "      fill: #1967D2;\n",
              "      height: 32px;\n",
              "      padding: 0 0 0 0;\n",
              "      width: 32px;\n",
              "    }\n",
              "\n",
              "    .colab-df-convert:hover {\n",
              "      background-color: #E2EBFA;\n",
              "      box-shadow: 0px 1px 2px rgba(60, 64, 67, 0.3), 0px 1px 3px 1px rgba(60, 64, 67, 0.15);\n",
              "      fill: #174EA6;\n",
              "    }\n",
              "\n",
              "    [theme=dark] .colab-df-convert {\n",
              "      background-color: #3B4455;\n",
              "      fill: #D2E3FC;\n",
              "    }\n",
              "\n",
              "    [theme=dark] .colab-df-convert:hover {\n",
              "      background-color: #434B5C;\n",
              "      box-shadow: 0px 1px 3px 1px rgba(0, 0, 0, 0.15);\n",
              "      filter: drop-shadow(0px 1px 2px rgba(0, 0, 0, 0.3));\n",
              "      fill: #FFFFFF;\n",
              "    }\n",
              "  </style>\n",
              "\n",
              "      <script>\n",
              "        const buttonEl =\n",
              "          document.querySelector('#df-82d0dcbd-95b1-4e09-bc95-0bea6447f138 button.colab-df-convert');\n",
              "        buttonEl.style.display =\n",
              "          google.colab.kernel.accessAllowed ? 'block' : 'none';\n",
              "\n",
              "        async function convertToInteractive(key) {\n",
              "          const element = document.querySelector('#df-82d0dcbd-95b1-4e09-bc95-0bea6447f138');\n",
              "          const dataTable =\n",
              "            await google.colab.kernel.invokeFunction('convertToInteractive',\n",
              "                                                     [key], {});\n",
              "          if (!dataTable) return;\n",
              "\n",
              "          const docLinkHtml = 'Like what you see? Visit the ' +\n",
              "            '<a target=\"_blank\" href=https://colab.research.google.com/notebooks/data_table.ipynb>data table notebook</a>'\n",
              "            + ' to learn more about interactive tables.';\n",
              "          element.innerHTML = '';\n",
              "          dataTable['output_type'] = 'display_data';\n",
              "          await google.colab.output.renderOutput(dataTable, element);\n",
              "          const docLink = document.createElement('div');\n",
              "          docLink.innerHTML = docLinkHtml;\n",
              "          element.appendChild(docLink);\n",
              "        }\n",
              "      </script>\n",
              "    </div>\n",
              "  </div>\n",
              "  "
            ]
          },
          "metadata": {}
        }
      ]
    },
    {
      "cell_type": "markdown",
      "source": [
        "##Dropna( )"
      ],
      "metadata": {
        "id": "7cxYS4kXahlc"
      }
    },
    {
      "cell_type": "markdown",
      "source": [
        "###Excluindo valores vazios"
      ],
      "metadata": {
        "id": "eYDYdqIIZXft"
      }
    },
    {
      "cell_type": "markdown",
      "source": [
        "✅ Excluindo linhas onde todos os valores são vazios"
      ],
      "metadata": {
        "id": "izvQMxAxZ41_"
      }
    },
    {
      "cell_type": "code",
      "source": [
        "vendas_df = vendas_df.dropna(how='all', axis=1)"
      ],
      "metadata": {
        "id": "UoAP6XB4ZjRT"
      },
      "execution_count": null,
      "outputs": []
    },
    {
      "cell_type": "markdown",
      "source": [
        "✅ Excluindo linhas onde pelo menos um item é vazio"
      ],
      "metadata": {
        "id": "zyULv1riZ-_m"
      }
    },
    {
      "cell_type": "code",
      "source": [
        "vendas_df = vendas_df.dropna()"
      ],
      "metadata": {
        "id": "3E-mPCf1Zy60"
      },
      "execution_count": null,
      "outputs": []
    },
    {
      "cell_type": "markdown",
      "source": [
        "##Substituindo valores vazios"
      ],
      "metadata": {
        "id": "NmDZa2QBbKhB"
      }
    },
    {
      "cell_type": "markdown",
      "source": [
        "###Fill( )"
      ],
      "metadata": {
        "id": "QPt56m2qbVRn"
      }
    },
    {
      "cell_type": "markdown",
      "source": [
        "O metodo fill() , preenche valores vazios com um valor passado"
      ],
      "metadata": {
        "id": "0ZCMyGWebPOv"
      }
    },
    {
      "cell_type": "code",
      "source": [
        "vendas_df = vendas_df.fill()"
      ],
      "metadata": {
        "id": "guvmH4Z4bZW4"
      },
      "execution_count": null,
      "outputs": []
    },
    {
      "cell_type": "markdown",
      "source": [
        "O metodo fillna busca todos os valores vazios na coluna 'comissao' , e o metodo mean() substitui todos os valores vazios pela media dos valores existendes na coluna comissão"
      ],
      "metadata": {
        "id": "d46VsZ-mcH69"
      }
    },
    {
      "cell_type": "code",
      "source": [
        "vendas_df = vendas_df['Comissao'].fillna(vendas_df['Comissao'].mean())"
      ],
      "metadata": {
        "id": "o8VYTj1hblay"
      },
      "execution_count": null,
      "outputs": []
    },
    {
      "cell_type": "markdown",
      "source": [
        "#Indicadores\n",
        "\n",
        "  indicadores : \n",
        "    * groupby\n",
        "    * value counts"
      ],
      "metadata": {
        "id": "TKuqSlWachXo"
      }
    },
    {
      "cell_type": "markdown",
      "source": [
        "##GroupBy( )"
      ],
      "metadata": {
        "id": "lP0Hy5Rgcllk"
      }
    },
    {
      "cell_type": "markdown",
      "source": [
        "A sintaxe do groupby é simples e lógica\n",
        "\n",
        "variavel = dataframe[[ item somado, coluna de referencia]].groupby(dataframe(item somado).soma\n",
        "\n",
        "\n",
        "A função do groupby é agrupar valores de acordo com um referencial"
      ],
      "metadata": {
        "id": "5dRFuBmKdglF"
      }
    },
    {
      "cell_type": "code",
      "source": [
        "faturamento_produto = vendas_df[['Preco Total', 'Produto']].groupby('Produto').sum()\n",
        "display(faturamento_produto)"
      ],
      "metadata": {
        "colab": {
          "base_uri": "https://localhost:8080/",
          "height": 300
        },
        "id": "ZOXcFCkXc07m",
        "outputId": "f78087ec-714f-437c-b464-8b9235bd793c"
      },
      "execution_count": null,
      "outputs": [
        {
          "output_type": "display_data",
          "data": {
            "text/plain": [
              "            Preco Total\n",
              "Produto                \n",
              "Android        10822200\n",
              "Câmera          5890500\n",
              "Notebook       11371500\n",
              "SmartWatch      4172000\n",
              "Tablet          4673600\n",
              "Televisão      14827500\n",
              "iPhone         47562200"
            ],
            "text/html": [
              "\n",
              "  <div id=\"df-ba13f6c3-948f-4d66-8087-f946051aa442\">\n",
              "    <div class=\"colab-df-container\">\n",
              "      <div>\n",
              "<style scoped>\n",
              "    .dataframe tbody tr th:only-of-type {\n",
              "        vertical-align: middle;\n",
              "    }\n",
              "\n",
              "    .dataframe tbody tr th {\n",
              "        vertical-align: top;\n",
              "    }\n",
              "\n",
              "    .dataframe thead th {\n",
              "        text-align: right;\n",
              "    }\n",
              "</style>\n",
              "<table border=\"1\" class=\"dataframe\">\n",
              "  <thead>\n",
              "    <tr style=\"text-align: right;\">\n",
              "      <th></th>\n",
              "      <th>Preco Total</th>\n",
              "    </tr>\n",
              "    <tr>\n",
              "      <th>Produto</th>\n",
              "      <th></th>\n",
              "    </tr>\n",
              "  </thead>\n",
              "  <tbody>\n",
              "    <tr>\n",
              "      <th>Android</th>\n",
              "      <td>10822200</td>\n",
              "    </tr>\n",
              "    <tr>\n",
              "      <th>Câmera</th>\n",
              "      <td>5890500</td>\n",
              "    </tr>\n",
              "    <tr>\n",
              "      <th>Notebook</th>\n",
              "      <td>11371500</td>\n",
              "    </tr>\n",
              "    <tr>\n",
              "      <th>SmartWatch</th>\n",
              "      <td>4172000</td>\n",
              "    </tr>\n",
              "    <tr>\n",
              "      <th>Tablet</th>\n",
              "      <td>4673600</td>\n",
              "    </tr>\n",
              "    <tr>\n",
              "      <th>Televisão</th>\n",
              "      <td>14827500</td>\n",
              "    </tr>\n",
              "    <tr>\n",
              "      <th>iPhone</th>\n",
              "      <td>47562200</td>\n",
              "    </tr>\n",
              "  </tbody>\n",
              "</table>\n",
              "</div>\n",
              "      <button class=\"colab-df-convert\" onclick=\"convertToInteractive('df-ba13f6c3-948f-4d66-8087-f946051aa442')\"\n",
              "              title=\"Convert this dataframe to an interactive table.\"\n",
              "              style=\"display:none;\">\n",
              "        \n",
              "  <svg xmlns=\"http://www.w3.org/2000/svg\" height=\"24px\"viewBox=\"0 0 24 24\"\n",
              "       width=\"24px\">\n",
              "    <path d=\"M0 0h24v24H0V0z\" fill=\"none\"/>\n",
              "    <path d=\"M18.56 5.44l.94 2.06.94-2.06 2.06-.94-2.06-.94-.94-2.06-.94 2.06-2.06.94zm-11 1L8.5 8.5l.94-2.06 2.06-.94-2.06-.94L8.5 2.5l-.94 2.06-2.06.94zm10 10l.94 2.06.94-2.06 2.06-.94-2.06-.94-.94-2.06-.94 2.06-2.06.94z\"/><path d=\"M17.41 7.96l-1.37-1.37c-.4-.4-.92-.59-1.43-.59-.52 0-1.04.2-1.43.59L10.3 9.45l-7.72 7.72c-.78.78-.78 2.05 0 2.83L4 21.41c.39.39.9.59 1.41.59.51 0 1.02-.2 1.41-.59l7.78-7.78 2.81-2.81c.8-.78.8-2.07 0-2.86zM5.41 20L4 18.59l7.72-7.72 1.47 1.35L5.41 20z\"/>\n",
              "  </svg>\n",
              "      </button>\n",
              "      \n",
              "  <style>\n",
              "    .colab-df-container {\n",
              "      display:flex;\n",
              "      flex-wrap:wrap;\n",
              "      gap: 12px;\n",
              "    }\n",
              "\n",
              "    .colab-df-convert {\n",
              "      background-color: #E8F0FE;\n",
              "      border: none;\n",
              "      border-radius: 50%;\n",
              "      cursor: pointer;\n",
              "      display: none;\n",
              "      fill: #1967D2;\n",
              "      height: 32px;\n",
              "      padding: 0 0 0 0;\n",
              "      width: 32px;\n",
              "    }\n",
              "\n",
              "    .colab-df-convert:hover {\n",
              "      background-color: #E2EBFA;\n",
              "      box-shadow: 0px 1px 2px rgba(60, 64, 67, 0.3), 0px 1px 3px 1px rgba(60, 64, 67, 0.15);\n",
              "      fill: #174EA6;\n",
              "    }\n",
              "\n",
              "    [theme=dark] .colab-df-convert {\n",
              "      background-color: #3B4455;\n",
              "      fill: #D2E3FC;\n",
              "    }\n",
              "\n",
              "    [theme=dark] .colab-df-convert:hover {\n",
              "      background-color: #434B5C;\n",
              "      box-shadow: 0px 1px 3px 1px rgba(0, 0, 0, 0.15);\n",
              "      filter: drop-shadow(0px 1px 2px rgba(0, 0, 0, 0.3));\n",
              "      fill: #FFFFFF;\n",
              "    }\n",
              "  </style>\n",
              "\n",
              "      <script>\n",
              "        const buttonEl =\n",
              "          document.querySelector('#df-ba13f6c3-948f-4d66-8087-f946051aa442 button.colab-df-convert');\n",
              "        buttonEl.style.display =\n",
              "          google.colab.kernel.accessAllowed ? 'block' : 'none';\n",
              "\n",
              "        async function convertToInteractive(key) {\n",
              "          const element = document.querySelector('#df-ba13f6c3-948f-4d66-8087-f946051aa442');\n",
              "          const dataTable =\n",
              "            await google.colab.kernel.invokeFunction('convertToInteractive',\n",
              "                                                     [key], {});\n",
              "          if (!dataTable) return;\n",
              "\n",
              "          const docLinkHtml = 'Like what you see? Visit the ' +\n",
              "            '<a target=\"_blank\" href=https://colab.research.google.com/notebooks/data_table.ipynb>data table notebook</a>'\n",
              "            + ' to learn more about interactive tables.';\n",
              "          element.innerHTML = '';\n",
              "          dataTable['output_type'] = 'display_data';\n",
              "          await google.colab.output.renderOutput(dataTable, element);\n",
              "          const docLink = document.createElement('div');\n",
              "          docLink.innerHTML = docLinkHtml;\n",
              "          element.appendChild(docLink);\n",
              "        }\n",
              "      </script>\n",
              "    </div>\n",
              "  </div>\n",
              "  "
            ]
          },
          "metadata": {}
        }
      ]
    },
    {
      "cell_type": "markdown",
      "source": [
        "##Value_counts( )\n",
        "\n",
        "  -Value counts conta a frequencia de itens com mesmo nome ou especificação passada"
      ],
      "metadata": {
        "id": "EIZotSB_evU9"
      }
    },
    {
      "cell_type": "code",
      "source": [
        "transacoes = vendas_df[['Produto']].value_counts()\n",
        "display(transacoes)"
      ],
      "metadata": {
        "colab": {
          "base_uri": "https://localhost:8080/",
          "height": 173
        },
        "id": "gHqzDKPXdfng",
        "outputId": "65d51063-8360-4d67-bf3e-af4d29353a6f"
      },
      "execution_count": null,
      "outputs": [
        {
          "output_type": "display_data",
          "data": {
            "text/plain": [
              "Produto   \n",
              "iPhone        2977\n",
              "Televisão     1962\n",
              "Android       1068\n",
              "Notebook      1062\n",
              "SmartWatch     995\n",
              "Tablet         973\n",
              "Câmera         962\n",
              "dtype: int64"
            ]
          },
          "metadata": {}
        }
      ]
    },
    {
      "cell_type": "markdown",
      "source": [
        "#Plotagem de gráficos"
      ],
      "metadata": {
        "id": "IciIlv8MKOCl"
      }
    },
    {
      "cell_type": "code",
      "source": [
        "import matplotlib.pyplot as plt"
      ],
      "metadata": {
        "id": "iTcra24RDoER"
      },
      "execution_count": null,
      "outputs": []
    },
    {
      "cell_type": "code",
      "source": [
        "ts = pd.Series(numpy.random.randn(1000), index=pd.date_range(\"1/1/2000\", periods=1000))\n",
        "ts = ts.cumsum()"
      ],
      "metadata": {
        "id": "gt8heXDgDwjY"
      },
      "execution_count": null,
      "outputs": []
    },
    {
      "cell_type": "markdown",
      "source": [
        "##Plot( )"
      ],
      "metadata": {
        "id": "4BZY47asKZoM"
      }
    },
    {
      "cell_type": "code",
      "source": [
        "ts.plot()"
      ],
      "metadata": {
        "colab": {
          "base_uri": "https://localhost:8080/",
          "height": 465
        },
        "id": "6UmaUXp1D6V2",
        "outputId": "3c21967b-148d-480e-9eda-5afe400a4410"
      },
      "execution_count": null,
      "outputs": [
        {
          "output_type": "execute_result",
          "data": {
            "text/plain": [
              "<Axes: >"
            ]
          },
          "metadata": {},
          "execution_count": 198
        },
        {
          "output_type": "display_data",
          "data": {
            "text/plain": [
              "<Figure size 640x480 with 1 Axes>"
            ],
            "image/png": "[encoded data removed]"
          },
          "metadata": {}
        }
      ]
    },
    {
      "cell_type": "code",
      "source": [
        "df = pd.DataFrame(numpy.random.randn(1000, 4), index=ts.index, columns=list(\"ABCD\"))\n"
      ],
      "metadata": {
        "id": "k9U3BIRDEyxw"
      },
      "execution_count": null,
      "outputs": []
    },
    {
      "cell_type": "code",
      "source": [
        "df = df.cumsum()\n",
        "plt.figure()\n",
        "df.plot()"
      ],
      "metadata": {
        "colab": {
          "base_uri": "https://localhost:8080/",
          "height": 481
        },
        "id": "I2g6Geq_EUoB",
        "outputId": "4e2abfbc-dde9-4e04-9857-8d1f4605dcda"
      },
      "execution_count": null,
      "outputs": [
        {
          "output_type": "execute_result",
          "data": {
            "text/plain": [
              "<Axes: >"
            ]
          },
          "metadata": {},
          "execution_count": 210
        },
        {
          "output_type": "display_data",
          "data": {
            "text/plain": [
              "<Figure size 640x480 with 0 Axes>"
            ]
          },
          "metadata": {}
        },
        {
          "output_type": "display_data",
          "data": {
            "text/plain": [
              "<Figure size 640x480 with 1 Axes>"
            ],
            "image/png": "[encoded data removed]"
          },
          "metadata": {}
        }
      ]
    },
    {
      "cell_type": "code",
      "source": [
        "vendas_df.head(2)"
      ],
      "metadata": {
        "colab": {
          "base_uri": "https://localhost:8080/",
          "height": 156
        },
        "id": "Hx7NUNViFZrR",
        "outputId": "d8dd1bdc-e1bd-4653-9de1-147fb60f68d7"
      },
      "execution_count": null,
      "outputs": [
        {
          "output_type": "execute_result",
          "data": {
            "text/plain": [
              "      SKU    Produto  Quantidade Vendida Primeiro Nome   Sobrenome       Data  \\\n",
              "0  HL4379  Televisão                   5       Gabriel       Thoni  6/30/2018   \n",
              "1  HL4379  Televisão                   3         Renan  Nascimento  9/14/2018   \n",
              "\n",
              "       Loja  Preco Unitario  Preco Total  \n",
              "0  Curitiba            2500        12500  \n",
              "1    Recife            2500         7500  "
            ],
            "text/html": [
              "\n",
              "  <div id=\"df-c1c37bcc-be5b-493e-833c-d5883bc1c678\">\n",
              "    <div class=\"colab-df-container\">\n",
              "      <div>\n",
              "<style scoped>\n",
              "    .dataframe tbody tr th:only-of-type {\n",
              "        vertical-align: middle;\n",
              "    }\n",
              "\n",
              "    .dataframe tbody tr th {\n",
              "        vertical-align: top;\n",
              "    }\n",
              "\n",
              "    .dataframe thead th {\n",
              "        text-align: right;\n",
              "    }\n",
              "</style>\n",
              "<table border=\"1\" class=\"dataframe\">\n",
              "  <thead>\n",
              "    <tr style=\"text-align: right;\">\n",
              "      <th></th>\n",
              "      <th>SKU</th>\n",
              "      <th>Produto</th>\n",
              "      <th>Quantidade Vendida</th>\n",
              "      <th>Primeiro Nome</th>\n",
              "      <th>Sobrenome</th>\n",
              "      <th>Data</th>\n",
              "      <th>Loja</th>\n",
              "      <th>Preco Unitario</th>\n",
              "      <th>Preco Total</th>\n",
              "    </tr>\n",
              "  </thead>\n",
              "  <tbody>\n",
              "    <tr>\n",
              "      <th>0</th>\n",
              "      <td>HL4379</td>\n",
              "      <td>Televisão</td>\n",
              "      <td>5</td>\n",
              "      <td>Gabriel</td>\n",
              "      <td>Thoni</td>\n",
              "      <td>6/30/2018</td>\n",
              "      <td>Curitiba</td>\n",
              "      <td>2500</td>\n",
              "      <td>12500</td>\n",
              "    </tr>\n",
              "    <tr>\n",
              "      <th>1</th>\n",
              "      <td>HL4379</td>\n",
              "      <td>Televisão</td>\n",
              "      <td>3</td>\n",
              "      <td>Renan</td>\n",
              "      <td>Nascimento</td>\n",
              "      <td>9/14/2018</td>\n",
              "      <td>Recife</td>\n",
              "      <td>2500</td>\n",
              "      <td>7500</td>\n",
              "    </tr>\n",
              "  </tbody>\n",
              "</table>\n",
              "</div>\n",
              "      <button class=\"colab-df-convert\" onclick=\"convertToInteractive('df-c1c37bcc-be5b-493e-833c-d5883bc1c678')\"\n",
              "              title=\"Convert this dataframe to an interactive table.\"\n",
              "              style=\"display:none;\">\n",
              "        \n",
              "  <svg xmlns=\"http://www.w3.org/2000/svg\" height=\"24px\"viewBox=\"0 0 24 24\"\n",
              "       width=\"24px\">\n",
              "    <path d=\"M0 0h24v24H0V0z\" fill=\"none\"/>\n",
              "    <path d=\"M18.56 5.44l.94 2.06.94-2.06 2.06-.94-2.06-.94-.94-2.06-.94 2.06-2.06.94zm-11 1L8.5 8.5l.94-2.06 2.06-.94-2.06-.94L8.5 2.5l-.94 2.06-2.06.94zm10 10l.94 2.06.94-2.06 2.06-.94-2.06-.94-.94-2.06-.94 2.06-2.06.94z\"/><path d=\"M17.41 7.96l-1.37-1.37c-.4-.4-.92-.59-1.43-.59-.52 0-1.04.2-1.43.59L10.3 9.45l-7.72 7.72c-.78.78-.78 2.05 0 2.83L4 21.41c.39.39.9.59 1.41.59.51 0 1.02-.2 1.41-.59l7.78-7.78 2.81-2.81c.8-.78.8-2.07 0-2.86zM5.41 20L4 18.59l7.72-7.72 1.47 1.35L5.41 20z\"/>\n",
              "  </svg>\n",
              "      </button>\n",
              "      \n",
              "  <style>\n",
              "    .colab-df-container {\n",
              "      display:flex;\n",
              "      flex-wrap:wrap;\n",
              "      gap: 12px;\n",
              "    }\n",
              "\n",
              "    .colab-df-convert {\n",
              "      background-color: #E8F0FE;\n",
              "      border: none;\n",
              "      border-radius: 50%;\n",
              "      cursor: pointer;\n",
              "      display: none;\n",
              "      fill: #1967D2;\n",
              "      height: 32px;\n",
              "      padding: 0 0 0 0;\n",
              "      width: 32px;\n",
              "    }\n",
              "\n",
              "    .colab-df-convert:hover {\n",
              "      background-color: #E2EBFA;\n",
              "      box-shadow: 0px 1px 2px rgba(60, 64, 67, 0.3), 0px 1px 3px 1px rgba(60, 64, 67, 0.15);\n",
              "      fill: #174EA6;\n",
              "    }\n",
              "\n",
              "    [theme=dark] .colab-df-convert {\n",
              "      background-color: #3B4455;\n",
              "      fill: #D2E3FC;\n",
              "    }\n",
              "\n",
              "    [theme=dark] .colab-df-convert:hover {\n",
              "      background-color: #434B5C;\n",
              "      box-shadow: 0px 1px 3px 1px rgba(0, 0, 0, 0.15);\n",
              "      filter: drop-shadow(0px 1px 2px rgba(0, 0, 0, 0.3));\n",
              "      fill: #FFFFFF;\n",
              "    }\n",
              "  </style>\n",
              "\n",
              "      <script>\n",
              "        const buttonEl =\n",
              "          document.querySelector('#df-c1c37bcc-be5b-493e-833c-d5883bc1c678 button.colab-df-convert');\n",
              "        buttonEl.style.display =\n",
              "          google.colab.kernel.accessAllowed ? 'block' : 'none';\n",
              "\n",
              "        async function convertToInteractive(key) {\n",
              "          const element = document.querySelector('#df-c1c37bcc-be5b-493e-833c-d5883bc1c678');\n",
              "          const dataTable =\n",
              "            await google.colab.kernel.invokeFunction('convertToInteractive',\n",
              "                                                     [key], {});\n",
              "          if (!dataTable) return;\n",
              "\n",
              "          const docLinkHtml = 'Like what you see? Visit the ' +\n",
              "            '<a target=\"_blank\" href=https://colab.research.google.com/notebooks/data_table.ipynb>data table notebook</a>'\n",
              "            + ' to learn more about interactive tables.';\n",
              "          element.innerHTML = '';\n",
              "          dataTable['output_type'] = 'display_data';\n",
              "          await google.colab.output.renderOutput(dataTable, element);\n",
              "          const docLink = document.createElement('div');\n",
              "          docLink.innerHTML = docLinkHtml;\n",
              "          element.appendChild(docLink);\n",
              "        }\n",
              "      </script>\n",
              "    </div>\n",
              "  </div>\n",
              "  "
            ]
          },
          "metadata": {},
          "execution_count": 211
        }
      ]
    },
    {
      "cell_type": "code",
      "source": [
        "plotagem = vendas_df['Preco Total'].groupby(vendas_df['Produto']).sum()\n",
        "display(plotagem)"
      ],
      "metadata": {
        "colab": {
          "base_uri": "https://localhost:8080/",
          "height": 173
        },
        "id": "zxibWmiLFhxh",
        "outputId": "5a36a67f-a4f1-4f5e-88e5-f5783675d96b"
      },
      "execution_count": null,
      "outputs": [
        {
          "output_type": "display_data",
          "data": {
            "text/plain": [
              "Produto\n",
              "Android       10822200\n",
              "Câmera         5890500\n",
              "Notebook      11371500\n",
              "SmartWatch     4172000\n",
              "Tablet         4673600\n",
              "Televisão     14827500\n",
              "iPhone        47562200\n",
              "Name: Preco Total, dtype: int64"
            ]
          },
          "metadata": {}
        }
      ]
    },
    {
      "cell_type": "code",
      "source": [
        "plt.figure()\n",
        "plotagem.plot(x=vendas_df['Produto'], y=vendas_df['Preco Unitario'])"
      ],
      "metadata": {
        "colab": {
          "base_uri": "https://localhost:8080/",
          "height": 482
        },
        "id": "OEEOV6fdHRJ1",
        "outputId": "9d654d89-b148-45f1-e74c-bc20cd61da14"
      },
      "execution_count": null,
      "outputs": [
        {
          "output_type": "execute_result",
          "data": {
            "text/plain": [
              "<Axes: xlabel='Produto'>"
            ]
          },
          "metadata": {},
          "execution_count": 255
        },
        {
          "output_type": "display_data",
          "data": {
            "text/plain": [
              "<Figure size 640x480 with 1 Axes>"
            ],
            "image/png": "[encoded data removed]"
          },
          "metadata": {}
        }
      ]
    },
    {
      "cell_type": "markdown",
      "source": [
        "* ‘bar’ ou ‘barh’ para plots de barra\n",
        "\n",
        "* ‘hist’ para histograma\n",
        "\n",
        "* ‘box’ para caixa\n",
        "\n",
        "* ‘kde’ para densidade \n",
        "\n",
        "* ‘area’ para plotagem de areas\n",
        "\n",
        "* ‘scatter’ for scatter plots\n",
        "\n",
        "* ‘hexbin’ for hexagonal bin plots\n",
        "\n",
        "* ‘pie’ for pie plots"
      ],
      "metadata": {
        "id": "-BBR5eo5KhM1"
      }
    },
    {
      "cell_type": "markdown",
      "source": [
        "###Barra"
      ],
      "metadata": {
        "id": "P5eocn6qM3OH"
      }
    },
    {
      "cell_type": "code",
      "source": [
        "plotagem.plot(kind='bar')\n",
        "#plotagem.plot.bar()\n"
      ],
      "metadata": {
        "colab": {
          "base_uri": "https://localhost:8080/",
          "height": 553
        },
        "id": "KNsWbggMLA-Z",
        "outputId": "4358d432-f69f-470d-f87b-bbdcd2b1860e"
      },
      "execution_count": null,
      "outputs": [
        {
          "output_type": "execute_result",
          "data": {
            "text/plain": [
              "<Axes: xlabel='Produto'>"
            ]
          },
          "metadata": {},
          "execution_count": 256
        },
        {
          "output_type": "display_data",
          "data": {
            "text/plain": [
              "<Figure size 640x480 with 1 Axes>"
            ],
            "image/png": "[encoded data removed]"
          },
          "metadata": {}
        }
      ]
    },
    {
      "cell_type": "code",
      "source": [
        "plotagem.plot(kind='barh')\n",
        "#plotagem.plot.barh()"
      ],
      "metadata": {
        "colab": {
          "base_uri": "https://localhost:8080/",
          "height": 465
        },
        "id": "URXSzB0LOShr",
        "outputId": "e6f0a6cb-791b-4a94-bb1f-24237213e4d5"
      },
      "execution_count": null,
      "outputs": [
        {
          "output_type": "execute_result",
          "data": {
            "text/plain": [
              "<Axes: ylabel='Produto'>"
            ]
          },
          "metadata": {},
          "execution_count": 266
        },
        {
          "output_type": "display_data",
          "data": {
            "text/plain": [
              "<Figure size 640x480 with 1 Axes>"
            ],
            "image/png": "[encoded data removed]"
          },
          "metadata": {}
        }
      ]
    },
    {
      "cell_type": "markdown",
      "source": [
        "###Histograma"
      ],
      "metadata": {
        "id": "by2ub1qnM5mG"
      }
    },
    {
      "cell_type": "code",
      "source": [
        "plotagem.plot(kind='hist')\n",
        "#plotagem.plot.hist()\n"
      ],
      "metadata": {
        "colab": {
          "base_uri": "https://localhost:8080/",
          "height": 465
        },
        "id": "umUMpcq_Kwd0",
        "outputId": "9daae59a-3a93-4667-a7d3-423e40305b5d"
      },
      "execution_count": null,
      "outputs": [
        {
          "output_type": "execute_result",
          "data": {
            "text/plain": [
              "<Axes: ylabel='Frequency'>"
            ]
          },
          "metadata": {},
          "execution_count": 257
        },
        {
          "output_type": "display_data",
          "data": {
            "text/plain": [
              "<Figure size 640x480 with 1 Axes>"
            ],
            "image/png": "[encoded data removed]"
          },
          "metadata": {}
        }
      ]
    },
    {
      "cell_type": "markdown",
      "source": [
        "###box"
      ],
      "metadata": {
        "id": "uwws9HzUM8eJ"
      }
    },
    {
      "cell_type": "code",
      "source": [
        "plotagem.plot(kind='box')\n",
        "#plotagem.plot.box()\n"
      ],
      "metadata": {
        "colab": {
          "base_uri": "https://localhost:8080/",
          "height": 462
        },
        "id": "AJM0HttaM-Dy",
        "outputId": "22fea718-1c61-42fe-991a-066f1da1fcaf"
      },
      "execution_count": null,
      "outputs": [
        {
          "output_type": "execute_result",
          "data": {
            "text/plain": [
              "<Axes: >"
            ]
          },
          "metadata": {},
          "execution_count": 258
        },
        {
          "output_type": "display_data",
          "data": {
            "text/plain": [
              "<Figure size 640x480 with 1 Axes>"
            ],
            "image/png": "[encoded data removed]"
          },
          "metadata": {}
        }
      ]
    },
    {
      "cell_type": "markdown",
      "source": [
        "###Densidade"
      ],
      "metadata": {
        "id": "cml3kk8eNQi0"
      }
    },
    {
      "cell_type": "code",
      "source": [
        "plotagem.plot(kind='kde')\n",
        "#plotagem.plot.kde()\n"
      ],
      "metadata": {
        "colab": {
          "base_uri": "https://localhost:8080/",
          "height": 480
        },
        "id": "hDGf_7nTNB9o",
        "outputId": "afbf455c-c153-4637-9308-c4e49a10d930"
      },
      "execution_count": null,
      "outputs": [
        {
          "output_type": "execute_result",
          "data": {
            "text/plain": [
              "<Axes: ylabel='Density'>"
            ]
          },
          "metadata": {},
          "execution_count": 259
        },
        {
          "output_type": "display_data",
          "data": {
            "text/plain": [
              "<Figure size 640x480 with 1 Axes>"
            ],
            "image/png": "[encoded data removed]"
          },
          "metadata": {}
        }
      ]
    },
    {
      "cell_type": "markdown",
      "source": [
        "###area"
      ],
      "metadata": {
        "id": "JLdAZtn7NTTh"
      }
    },
    {
      "cell_type": "code",
      "source": [
        "plotagem.plot(kind='area')\n",
        "#plotagem.plot.area()\n"
      ],
      "metadata": {
        "colab": {
          "base_uri": "https://localhost:8080/",
          "height": 482
        },
        "id": "TvvxC6MDNVTF",
        "outputId": "7c2bcb70-12be-4c47-83a3-95256ec9b814"
      },
      "execution_count": null,
      "outputs": [
        {
          "output_type": "execute_result",
          "data": {
            "text/plain": [
              "<Axes: xlabel='Produto'>"
            ]
          },
          "metadata": {},
          "execution_count": 260
        },
        {
          "output_type": "display_data",
          "data": {
            "text/plain": [
              "<Figure size 640x480 with 1 Axes>"
            ],
            "image/png": "[encoded data removed]"
          },
          "metadata": {}
        }
      ]
    },
    {
      "cell_type": "markdown",
      "source": [
        "###scatter"
      ],
      "metadata": {
        "id": "ATd6TkXxNcPC"
      }
    },
    {
      "cell_type": "code",
      "source": [
        "#plotagem.plot(kind='bar')\n",
        "plotagem.plot.scatter(x=vendas_df['Produto'], y=vendas_df['Quantidade Vendida'])"
      ],
      "metadata": {
        "colab": {
          "base_uri": "https://localhost:8080/",
          "height": 329
        },
        "id": "ItquT0_HNegQ",
        "outputId": "ffee0f2e-b183-4ae0-feb7-f9de4c195586"
      },
      "execution_count": null,
      "outputs": [
        {
          "output_type": "error",
          "ename": "ValueError",
          "evalue": "ignored",
          "traceback": [
            "\u001b[0;31m---------------------------------------------------------------------------\u001b[0m",
            "\u001b[0;31mValueError\u001b[0m                                Traceback (most recent call last)",
            "\u001b[0;32m<ipython-input-268-5c69481e8236>\u001b[0m in \u001b[0;36m<cell line: 2>\u001b[0;34m()\u001b[0m\n\u001b[1;32m      1\u001b[0m \u001b[0;31m#plotagem.plot(kind='bar')\u001b[0m\u001b[0;34m\u001b[0m\u001b[0;34m\u001b[0m\u001b[0m\n\u001b[0;32m----> 2\u001b[0;31m \u001b[0mplotagem\u001b[0m\u001b[0;34m.\u001b[0m\u001b[0mplot\u001b[0m\u001b[0;34m.\u001b[0m\u001b[0mscatter\u001b[0m\u001b[0;34m(\u001b[0m\u001b[0mx\u001b[0m\u001b[0;34m=\u001b[0m\u001b[0mvendas_df\u001b[0m\u001b[0;34m[\u001b[0m\u001b[0;34m'Produto'\u001b[0m\u001b[0;34m]\u001b[0m\u001b[0;34m,\u001b[0m \u001b[0my\u001b[0m\u001b[0;34m=\u001b[0m\u001b[0mvendas_df\u001b[0m\u001b[0;34m[\u001b[0m\u001b[0;34m'Quantidade Vendida'\u001b[0m\u001b[0;34m]\u001b[0m\u001b[0;34m)\u001b[0m\u001b[0;34m\u001b[0m\u001b[0;34m\u001b[0m\u001b[0m\n\u001b[0m",
            "\u001b[0;32m/usr/local/lib/python3.9/dist-packages/pandas/plotting/_core.py\u001b[0m in \u001b[0;36mscatter\u001b[0;34m(self, x, y, s, c, **kwargs)\u001b[0m\n\u001b[1;32m   1695\u001b[0m             ...                       colormap='viridis')\n\u001b[1;32m   1696\u001b[0m         \"\"\"\n\u001b[0;32m-> 1697\u001b[0;31m         \u001b[0;32mreturn\u001b[0m \u001b[0mself\u001b[0m\u001b[0;34m(\u001b[0m\u001b[0mkind\u001b[0m\u001b[0;34m=\u001b[0m\u001b[0;34m\"scatter\"\u001b[0m\u001b[0;34m,\u001b[0m \u001b[0mx\u001b[0m\u001b[0;34m=\u001b[0m\u001b[0mx\u001b[0m\u001b[0;34m,\u001b[0m \u001b[0my\u001b[0m\u001b[0;34m=\u001b[0m\u001b[0my\u001b[0m\u001b[0;34m,\u001b[0m \u001b[0ms\u001b[0m\u001b[0;34m=\u001b[0m\u001b[0ms\u001b[0m\u001b[0;34m,\u001b[0m \u001b[0mc\u001b[0m\u001b[0;34m=\u001b[0m\u001b[0mc\u001b[0m\u001b[0;34m,\u001b[0m \u001b[0;34m**\u001b[0m\u001b[0mkwargs\u001b[0m\u001b[0;34m)\u001b[0m\u001b[0;34m\u001b[0m\u001b[0;34m\u001b[0m\u001b[0m\n\u001b[0m\u001b[1;32m   1698\u001b[0m \u001b[0;34m\u001b[0m\u001b[0m\n\u001b[1;32m   1699\u001b[0m     def hexbin(\n",
            "\u001b[0;32m/usr/local/lib/python3.9/dist-packages/pandas/plotting/_core.py\u001b[0m in \u001b[0;36m__call__\u001b[0;34m(self, *args, **kwargs)\u001b[0m\n\u001b[1;32m    945\u001b[0m                 \u001b[0;32mreturn\u001b[0m \u001b[0mplot_backend\u001b[0m\u001b[0;34m.\u001b[0m\u001b[0mplot\u001b[0m\u001b[0;34m(\u001b[0m\u001b[0mdata\u001b[0m\u001b[0;34m,\u001b[0m \u001b[0mx\u001b[0m\u001b[0;34m=\u001b[0m\u001b[0mx\u001b[0m\u001b[0;34m,\u001b[0m \u001b[0my\u001b[0m\u001b[0;34m=\u001b[0m\u001b[0my\u001b[0m\u001b[0;34m,\u001b[0m \u001b[0mkind\u001b[0m\u001b[0;34m=\u001b[0m\u001b[0mkind\u001b[0m\u001b[0;34m,\u001b[0m \u001b[0;34m**\u001b[0m\u001b[0mkwargs\u001b[0m\u001b[0;34m)\u001b[0m\u001b[0;34m\u001b[0m\u001b[0;34m\u001b[0m\u001b[0m\n\u001b[1;32m    946\u001b[0m             \u001b[0;32melse\u001b[0m\u001b[0;34m:\u001b[0m\u001b[0;34m\u001b[0m\u001b[0;34m\u001b[0m\u001b[0m\n\u001b[0;32m--> 947\u001b[0;31m                 \u001b[0;32mraise\u001b[0m \u001b[0mValueError\u001b[0m\u001b[0;34m(\u001b[0m\u001b[0;34mf\"plot kind {kind} can only be used for data frames\"\u001b[0m\u001b[0;34m)\u001b[0m\u001b[0;34m\u001b[0m\u001b[0;34m\u001b[0m\u001b[0m\n\u001b[0m\u001b[1;32m    948\u001b[0m         \u001b[0;32melif\u001b[0m \u001b[0mkind\u001b[0m \u001b[0;32min\u001b[0m \u001b[0mself\u001b[0m\u001b[0;34m.\u001b[0m\u001b[0m_series_kinds\u001b[0m\u001b[0;34m:\u001b[0m\u001b[0;34m\u001b[0m\u001b[0;34m\u001b[0m\u001b[0m\n\u001b[1;32m    949\u001b[0m             \u001b[0;32mif\u001b[0m \u001b[0misinstance\u001b[0m\u001b[0;34m(\u001b[0m\u001b[0mdata\u001b[0m\u001b[0;34m,\u001b[0m \u001b[0mABCDataFrame\u001b[0m\u001b[0;34m)\u001b[0m\u001b[0;34m:\u001b[0m\u001b[0;34m\u001b[0m\u001b[0;34m\u001b[0m\u001b[0m\n",
            "\u001b[0;31mValueError\u001b[0m: plot kind scatter can only be used for data frames"
          ]
        }
      ]
    },
    {
      "cell_type": "code",
      "source": [
        "df = pd.DataFrame(numpy.random.rand(50, 4), columns=[\"a\", \"b\", \"c\", \"d\"])\n",
        "\n",
        "df.plot.scatter(x=\"a\", y=\"b\", c=\"c\", s=50);\n"
      ],
      "metadata": {
        "colab": {
          "base_uri": "https://localhost:8080/",
          "height": 449
        },
        "id": "BJfmxy3PSDkA",
        "outputId": "c8920fcf-19f7-40b6-b9f2-bae06bb480f7"
      },
      "execution_count": null,
      "outputs": [
        {
          "output_type": "display_data",
          "data": {
            "text/plain": [
              "<Figure size 640x480 with 2 Axes>"
            ],
            "image/png": "[encoded data removed]"
          },
          "metadata": {}
        }
      ]
    },
    {
      "cell_type": "code",
      "source": [
        "df = pd.DataFrame(numpy.random.randn(1000, 2), columns=[\"a\", \"b\"])\n",
        "\n",
        "df[\"b\"] = df[\"b\"] + numpy.arange(1000)\n",
        "\n",
        "df.plot.hexbin(x=\"a\", y=\"b\", gridsize=25);"
      ],
      "metadata": {
        "colab": {
          "base_uri": "https://localhost:8080/",
          "height": 455
        },
        "id": "h8_CEMlFYDgm",
        "outputId": "e4639120-2db6-4d41-e984-76f5571b2255"
      },
      "execution_count": null,
      "outputs": [
        {
          "output_type": "display_data",
          "data": {
            "text/plain": [
              "<Figure size 640x480 with 2 Axes>"
            ],
            "image/png": "[encoded data removed]"
          },
          "metadata": {}
        }
      ]
    },
    {
      "cell_type": "markdown",
      "source": [
        "#Visualização de tabelas"
      ],
      "metadata": {
        "id": "T-MR48jKYtV8"
      }
    },
    {
      "cell_type": "code",
      "source": [
        "weather_df = pd.DataFrame(numpy.random.rand(10,2)*5,\n",
        "                          index=pd.date_range(start=\"2021-01-01\", periods=10),\n",
        "                          columns=[\"Tokyo\", \"Beijing\"])\n",
        "\n",
        "def rain_condition(v):\n",
        "    if v < 1.75:\n",
        "        return \"Dry\"\n",
        "    elif v < 2.75:\n",
        "        return \"Rain\"\n",
        "    return \"Heavy Rain\"\n",
        "\n",
        "def make_pretty(styler):\n",
        "    styler.set_caption(\"Weather Conditions\")\n",
        "    styler.format(rain_condition)\n",
        "    styler.format_index(lambda v: v.strftime(\"%A\"))\n",
        "    styler.background_gradient(axis=None, vmin=1, vmax=5, cmap=\"YlGnBu\")\n",
        "    return styler\n",
        "\n",
        "weather_df"
      ],
      "metadata": {
        "colab": {
          "base_uri": "https://localhost:8080/",
          "height": 363
        },
        "id": "55fPTpG_Ysfs",
        "outputId": "54f239ee-331a-4f9b-925c-03ba71762b1a"
      },
      "execution_count": null,
      "outputs": [
        {
          "output_type": "execute_result",
          "data": {
            "text/plain": [
              "               Tokyo   Beijing\n",
              "2021-01-01  1.969529  3.618352\n",
              "2021-01-02  3.275981  4.149525\n",
              "2021-01-03  1.410851  1.603788\n",
              "2021-01-04  0.324638  2.004089\n",
              "2021-01-05  1.571187  0.710640\n",
              "2021-01-06  0.548336  3.375132\n",
              "2021-01-07  4.020044  1.696485\n",
              "2021-01-08  3.762857  3.037803\n",
              "2021-01-09  0.656918  0.669862\n",
              "2021-01-10  2.925908  1.180495"
            ],
            "text/html": [
              "\n",
              "  <div id=\"df-c7a18570-b6f6-4501-ab14-80f8e7906e2a\">\n",
              "    <div class=\"colab-df-container\">\n",
              "      <div>\n",
              "<style scoped>\n",
              "    .dataframe tbody tr th:only-of-type {\n",
              "        vertical-align: middle;\n",
              "    }\n",
              "\n",
              "    .dataframe tbody tr th {\n",
              "        vertical-align: top;\n",
              "    }\n",
              "\n",
              "    .dataframe thead th {\n",
              "        text-align: right;\n",
              "    }\n",
              "</style>\n",
              "<table border=\"1\" class=\"dataframe\">\n",
              "  <thead>\n",
              "    <tr style=\"text-align: right;\">\n",
              "      <th></th>\n",
              "      <th>Tokyo</th>\n",
              "      <th>Beijing</th>\n",
              "    </tr>\n",
              "  </thead>\n",
              "  <tbody>\n",
              "    <tr>\n",
              "      <th>2021-01-01</th>\n",
              "      <td>1.969529</td>\n",
              "      <td>3.618352</td>\n",
              "    </tr>\n",
              "    <tr>\n",
              "      <th>2021-01-02</th>\n",
              "      <td>3.275981</td>\n",
              "      <td>4.149525</td>\n",
              "    </tr>\n",
              "    <tr>\n",
              "      <th>2021-01-03</th>\n",
              "      <td>1.410851</td>\n",
              "      <td>1.603788</td>\n",
              "    </tr>\n",
              "    <tr>\n",
              "      <th>2021-01-04</th>\n",
              "      <td>0.324638</td>\n",
              "      <td>2.004089</td>\n",
              "    </tr>\n",
              "    <tr>\n",
              "      <th>2021-01-05</th>\n",
              "      <td>1.571187</td>\n",
              "      <td>0.710640</td>\n",
              "    </tr>\n",
              "    <tr>\n",
              "      <th>2021-01-06</th>\n",
              "      <td>0.548336</td>\n",
              "      <td>3.375132</td>\n",
              "    </tr>\n",
              "    <tr>\n",
              "      <th>2021-01-07</th>\n",
              "      <td>4.020044</td>\n",
              "      <td>1.696485</td>\n",
              "    </tr>\n",
              "    <tr>\n",
              "      <th>2021-01-08</th>\n",
              "      <td>3.762857</td>\n",
              "      <td>3.037803</td>\n",
              "    </tr>\n",
              "    <tr>\n",
              "      <th>2021-01-09</th>\n",
              "      <td>0.656918</td>\n",
              "      <td>0.669862</td>\n",
              "    </tr>\n",
              "    <tr>\n",
              "      <th>2021-01-10</th>\n",
              "      <td>2.925908</td>\n",
              "      <td>1.180495</td>\n",
              "    </tr>\n",
              "  </tbody>\n",
              "</table>\n",
              "</div>\n",
              "      <button class=\"colab-df-convert\" onclick=\"convertToInteractive('df-c7a18570-b6f6-4501-ab14-80f8e7906e2a')\"\n",
              "              title=\"Convert this dataframe to an interactive table.\"\n",
              "              style=\"display:none;\">\n",
              "        \n",
              "  <svg xmlns=\"http://www.w3.org/2000/svg\" height=\"24px\"viewBox=\"0 0 24 24\"\n",
              "       width=\"24px\">\n",
              "    <path d=\"M0 0h24v24H0V0z\" fill=\"none\"/>\n",
              "    <path d=\"M18.56 5.44l.94 2.06.94-2.06 2.06-.94-2.06-.94-.94-2.06-.94 2.06-2.06.94zm-11 1L8.5 8.5l.94-2.06 2.06-.94-2.06-.94L8.5 2.5l-.94 2.06-2.06.94zm10 10l.94 2.06.94-2.06 2.06-.94-2.06-.94-.94-2.06-.94 2.06-2.06.94z\"/><path d=\"M17.41 7.96l-1.37-1.37c-.4-.4-.92-.59-1.43-.59-.52 0-1.04.2-1.43.59L10.3 9.45l-7.72 7.72c-.78.78-.78 2.05 0 2.83L4 21.41c.39.39.9.59 1.41.59.51 0 1.02-.2 1.41-.59l7.78-7.78 2.81-2.81c.8-.78.8-2.07 0-2.86zM5.41 20L4 18.59l7.72-7.72 1.47 1.35L5.41 20z\"/>\n",
              "  </svg>\n",
              "      </button>\n",
              "      \n",
              "  <style>\n",
              "    .colab-df-container {\n",
              "      display:flex;\n",
              "      flex-wrap:wrap;\n",
              "      gap: 12px;\n",
              "    }\n",
              "\n",
              "    .colab-df-convert {\n",
              "      background-color: #E8F0FE;\n",
              "      border: none;\n",
              "      border-radius: 50%;\n",
              "      cursor: pointer;\n",
              "      display: none;\n",
              "      fill: #1967D2;\n",
              "      height: 32px;\n",
              "      padding: 0 0 0 0;\n",
              "      width: 32px;\n",
              "    }\n",
              "\n",
              "    .colab-df-convert:hover {\n",
              "      background-color: #E2EBFA;\n",
              "      box-shadow: 0px 1px 2px rgba(60, 64, 67, 0.3), 0px 1px 3px 1px rgba(60, 64, 67, 0.15);\n",
              "      fill: #174EA6;\n",
              "    }\n",
              "\n",
              "    [theme=dark] .colab-df-convert {\n",
              "      background-color: #3B4455;\n",
              "      fill: #D2E3FC;\n",
              "    }\n",
              "\n",
              "    [theme=dark] .colab-df-convert:hover {\n",
              "      background-color: #434B5C;\n",
              "      box-shadow: 0px 1px 3px 1px rgba(0, 0, 0, 0.15);\n",
              "      filter: drop-shadow(0px 1px 2px rgba(0, 0, 0, 0.3));\n",
              "      fill: #FFFFFF;\n",
              "    }\n",
              "  </style>\n",
              "\n",
              "      <script>\n",
              "        const buttonEl =\n",
              "          document.querySelector('#df-c7a18570-b6f6-4501-ab14-80f8e7906e2a button.colab-df-convert');\n",
              "        buttonEl.style.display =\n",
              "          google.colab.kernel.accessAllowed ? 'block' : 'none';\n",
              "\n",
              "        async function convertToInteractive(key) {\n",
              "          const element = document.querySelector('#df-c7a18570-b6f6-4501-ab14-80f8e7906e2a');\n",
              "          const dataTable =\n",
              "            await google.colab.kernel.invokeFunction('convertToInteractive',\n",
              "                                                     [key], {});\n",
              "          if (!dataTable) return;\n",
              "\n",
              "          const docLinkHtml = 'Like what you see? Visit the ' +\n",
              "            '<a target=\"_blank\" href=https://colab.research.google.com/notebooks/data_table.ipynb>data table notebook</a>'\n",
              "            + ' to learn more about interactive tables.';\n",
              "          element.innerHTML = '';\n",
              "          dataTable['output_type'] = 'display_data';\n",
              "          await google.colab.output.renderOutput(dataTable, element);\n",
              "          const docLink = document.createElement('div');\n",
              "          docLink.innerHTML = docLinkHtml;\n",
              "          element.appendChild(docLink);\n",
              "        }\n",
              "      </script>\n",
              "    </div>\n",
              "  </div>\n",
              "  "
            ]
          },
          "metadata": {},
          "execution_count": 276
        }
      ]
    },
    {
      "cell_type": "code",
      "source": [
        "weather_df.loc[\"2021-01-04\":\"2021-01-08\"].style.pipe(make_pretty)\n"
      ],
      "metadata": {
        "colab": {
          "base_uri": "https://localhost:8080/",
          "height": 224
        },
        "id": "kPHvgHsYY5kr",
        "outputId": "a4b79b19-7e07-411b-ddac-31d6506ff92c"
      },
      "execution_count": null,
      "outputs": [
        {
          "output_type": "execute_result",
          "data": {
            "text/plain": [
              "<pandas.io.formats.style.Styler at 0x7fb074e918e0>"
            ],
            "text/html": [
              "<style type=\"text/css\">\n",
              "#T_687f7_row0_col0, #T_687f7_row1_col1, #T_687f7_row2_col0 {\n",
              "  background-color: #ffffd9;\n",
              "  color: #000000;\n",
              "}\n",
              "#T_687f7_row0_col1 {\n",
              "  background-color: #c6e9b4;\n",
              "  color: #000000;\n",
              "}\n",
              "#T_687f7_row1_col0 {\n",
              "  background-color: #e8f6b1;\n",
              "  color: #000000;\n",
              "}\n",
              "#T_687f7_row2_col1 {\n",
              "  background-color: #259ac1;\n",
              "  color: #f1f1f1;\n",
              "}\n",
              "#T_687f7_row3_col0 {\n",
              "  background-color: #225ca7;\n",
              "  color: #f1f1f1;\n",
              "}\n",
              "#T_687f7_row3_col1 {\n",
              "  background-color: #dff2b2;\n",
              "  color: #000000;\n",
              "}\n",
              "#T_687f7_row4_col0 {\n",
              "  background-color: #2076b3;\n",
              "  color: #f1f1f1;\n",
              "}\n",
              "#T_687f7_row4_col1 {\n",
              "  background-color: #3eb3c4;\n",
              "  color: #f1f1f1;\n",
              "}\n",
              "</style>\n",
              "<table id=\"T_687f7\" class=\"dataframe\">\n",
              "  <caption>Weather Conditions</caption>\n",
              "  <thead>\n",
              "    <tr>\n",
              "      <th class=\"blank level0\" >&nbsp;</th>\n",
              "      <th id=\"T_687f7_level0_col0\" class=\"col_heading level0 col0\" >Tokyo</th>\n",
              "      <th id=\"T_687f7_level0_col1\" class=\"col_heading level0 col1\" >Beijing</th>\n",
              "    </tr>\n",
              "  </thead>\n",
              "  <tbody>\n",
              "    <tr>\n",
              "      <th id=\"T_687f7_level0_row0\" class=\"row_heading level0 row0\" >Monday</th>\n",
              "      <td id=\"T_687f7_row0_col0\" class=\"data row0 col0\" >Dry</td>\n",
              "      <td id=\"T_687f7_row0_col1\" class=\"data row0 col1\" >Rain</td>\n",
              "    </tr>\n",
              "    <tr>\n",
              "      <th id=\"T_687f7_level0_row1\" class=\"row_heading level0 row1\" >Tuesday</th>\n",
              "      <td id=\"T_687f7_row1_col0\" class=\"data row1 col0\" >Dry</td>\n",
              "      <td id=\"T_687f7_row1_col1\" class=\"data row1 col1\" >Dry</td>\n",
              "    </tr>\n",
              "    <tr>\n",
              "      <th id=\"T_687f7_level0_row2\" class=\"row_heading level0 row2\" >Wednesday</th>\n",
              "      <td id=\"T_687f7_row2_col0\" class=\"data row2 col0\" >Dry</td>\n",
              "      <td id=\"T_687f7_row2_col1\" class=\"data row2 col1\" >Heavy Rain</td>\n",
              "    </tr>\n",
              "    <tr>\n",
              "      <th id=\"T_687f7_level0_row3\" class=\"row_heading level0 row3\" >Thursday</th>\n",
              "      <td id=\"T_687f7_row3_col0\" class=\"data row3 col0\" >Heavy Rain</td>\n",
              "      <td id=\"T_687f7_row3_col1\" class=\"data row3 col1\" >Dry</td>\n",
              "    </tr>\n",
              "    <tr>\n",
              "      <th id=\"T_687f7_level0_row4\" class=\"row_heading level0 row4\" >Friday</th>\n",
              "      <td id=\"T_687f7_row4_col0\" class=\"data row4 col0\" >Heavy Rain</td>\n",
              "      <td id=\"T_687f7_row4_col1\" class=\"data row4 col1\" >Heavy Rain</td>\n",
              "    </tr>\n",
              "  </tbody>\n",
              "</table>\n"
            ]
          },
          "metadata": {},
          "execution_count": 277
        }
      ]
    },
    {
      "cell_type": "markdown",
      "source": [
        "#Como  importar dados a partir de links\n",
        "\n",
        "  Importação de dados"
      ],
      "metadata": {
        "id": "9GoEUtR2agsB"
      }
    },
    {
      "cell_type": "code",
      "source": [
        "url = (\n",
        "    \"https://raw.githubusercontent.com/pandas-dev\"\n",
        "    \"/pandas/main/pandas/tests/io/data/csv/tips.csv\"\n",
        ")\n",
        "\n",
        "\n",
        "tips = pd.read_csv(url)\n",
        "\n",
        "tips"
      ],
      "metadata": {
        "colab": {
          "base_uri": "https://localhost:8080/",
          "height": 424
        },
        "id": "OGnj7y-BaZc0",
        "outputId": "90db9f2c-caaf-4576-fda8-5c73ea4778a8"
      },
      "execution_count": null,
      "outputs": [
        {
          "output_type": "execute_result",
          "data": {
            "text/plain": [
              "     total_bill   tip     sex smoker   day    time  size\n",
              "0         16.99  1.01  Female     No   Sun  Dinner     2\n",
              "1         10.34  1.66    Male     No   Sun  Dinner     3\n",
              "2         21.01  3.50    Male     No   Sun  Dinner     3\n",
              "3         23.68  3.31    Male     No   Sun  Dinner     2\n",
              "4         24.59  3.61  Female     No   Sun  Dinner     4\n",
              "..          ...   ...     ...    ...   ...     ...   ...\n",
              "239       29.03  5.92    Male     No   Sat  Dinner     3\n",
              "240       27.18  2.00  Female    Yes   Sat  Dinner     2\n",
              "241       22.67  2.00    Male    Yes   Sat  Dinner     2\n",
              "242       17.82  1.75    Male     No   Sat  Dinner     2\n",
              "243       18.78  3.00  Female     No  Thur  Dinner     2\n",
              "\n",
              "[244 rows x 7 columns]"
            ],
            "text/html": [
              "\n",
              "  <div id=\"df-dc3e852c-8bf9-412c-bf9c-0775ed9b9ddf\">\n",
              "    <div class=\"colab-df-container\">\n",
              "      <div>\n",
              "<style scoped>\n",
              "    .dataframe tbody tr th:only-of-type {\n",
              "        vertical-align: middle;\n",
              "    }\n",
              "\n",
              "    .dataframe tbody tr th {\n",
              "        vertical-align: top;\n",
              "    }\n",
              "\n",
              "    .dataframe thead th {\n",
              "        text-align: right;\n",
              "    }\n",
              "</style>\n",
              "<table border=\"1\" class=\"dataframe\">\n",
              "  <thead>\n",
              "    <tr style=\"text-align: right;\">\n",
              "      <th></th>\n",
              "      <th>total_bill</th>\n",
              "      <th>tip</th>\n",
              "      <th>sex</th>\n",
              "      <th>smoker</th>\n",
              "      <th>day</th>\n",
              "      <th>time</th>\n",
              "      <th>size</th>\n",
              "    </tr>\n",
              "  </thead>\n",
              "  <tbody>\n",
              "    <tr>\n",
              "      <th>0</th>\n",
              "      <td>16.99</td>\n",
              "      <td>1.01</td>\n",
              "      <td>Female</td>\n",
              "      <td>No</td>\n",
              "      <td>Sun</td>\n",
              "      <td>Dinner</td>\n",
              "      <td>2</td>\n",
              "    </tr>\n",
              "    <tr>\n",
              "      <th>1</th>\n",
              "      <td>10.34</td>\n",
              "      <td>1.66</td>\n",
              "      <td>Male</td>\n",
              "      <td>No</td>\n",
              "      <td>Sun</td>\n",
              "      <td>Dinner</td>\n",
              "      <td>3</td>\n",
              "    </tr>\n",
              "    <tr>\n",
              "      <th>2</th>\n",
              "      <td>21.01</td>\n",
              "      <td>3.50</td>\n",
              "      <td>Male</td>\n",
              "      <td>No</td>\n",
              "      <td>Sun</td>\n",
              "      <td>Dinner</td>\n",
              "      <td>3</td>\n",
              "    </tr>\n",
              "    <tr>\n",
              "      <th>3</th>\n",
              "      <td>23.68</td>\n",
              "      <td>3.31</td>\n",
              "      <td>Male</td>\n",
              "      <td>No</td>\n",
              "      <td>Sun</td>\n",
              "      <td>Dinner</td>\n",
              "      <td>2</td>\n",
              "    </tr>\n",
              "    <tr>\n",
              "      <th>4</th>\n",
              "      <td>24.59</td>\n",
              "      <td>3.61</td>\n",
              "      <td>Female</td>\n",
              "      <td>No</td>\n",
              "      <td>Sun</td>\n",
              "      <td>Dinner</td>\n",
              "      <td>4</td>\n",
              "    </tr>\n",
              "    <tr>\n",
              "      <th>...</th>\n",
              "      <td>...</td>\n",
              "      <td>...</td>\n",
              "      <td>...</td>\n",
              "      <td>...</td>\n",
              "      <td>...</td>\n",
              "      <td>...</td>\n",
              "      <td>...</td>\n",
              "    </tr>\n",
              "    <tr>\n",
              "      <th>239</th>\n",
              "      <td>29.03</td>\n",
              "      <td>5.92</td>\n",
              "      <td>Male</td>\n",
              "      <td>No</td>\n",
              "      <td>Sat</td>\n",
              "      <td>Dinner</td>\n",
              "      <td>3</td>\n",
              "    </tr>\n",
              "    <tr>\n",
              "      <th>240</th>\n",
              "      <td>27.18</td>\n",
              "      <td>2.00</td>\n",
              "      <td>Female</td>\n",
              "      <td>Yes</td>\n",
              "      <td>Sat</td>\n",
              "      <td>Dinner</td>\n",
              "      <td>2</td>\n",
              "    </tr>\n",
              "    <tr>\n",
              "      <th>241</th>\n",
              "      <td>22.67</td>\n",
              "      <td>2.00</td>\n",
              "      <td>Male</td>\n",
              "      <td>Yes</td>\n",
              "      <td>Sat</td>\n",
              "      <td>Dinner</td>\n",
              "      <td>2</td>\n",
              "    </tr>\n",
              "    <tr>\n",
              "      <th>242</th>\n",
              "      <td>17.82</td>\n",
              "      <td>1.75</td>\n",
              "      <td>Male</td>\n",
              "      <td>No</td>\n",
              "      <td>Sat</td>\n",
              "      <td>Dinner</td>\n",
              "      <td>2</td>\n",
              "    </tr>\n",
              "    <tr>\n",
              "      <th>243</th>\n",
              "      <td>18.78</td>\n",
              "      <td>3.00</td>\n",
              "      <td>Female</td>\n",
              "      <td>No</td>\n",
              "      <td>Thur</td>\n",
              "      <td>Dinner</td>\n",
              "      <td>2</td>\n",
              "    </tr>\n",
              "  </tbody>\n",
              "</table>\n",
              "<p>244 rows × 7 columns</p>\n",
              "</div>\n",
              "      <button class=\"colab-df-convert\" onclick=\"convertToInteractive('df-dc3e852c-8bf9-412c-bf9c-0775ed9b9ddf')\"\n",
              "              title=\"Convert this dataframe to an interactive table.\"\n",
              "              style=\"display:none;\">\n",
              "        \n",
              "  <svg xmlns=\"http://www.w3.org/2000/svg\" height=\"24px\"viewBox=\"0 0 24 24\"\n",
              "       width=\"24px\">\n",
              "    <path d=\"M0 0h24v24H0V0z\" fill=\"none\"/>\n",
              "    <path d=\"M18.56 5.44l.94 2.06.94-2.06 2.06-.94-2.06-.94-.94-2.06-.94 2.06-2.06.94zm-11 1L8.5 8.5l.94-2.06 2.06-.94-2.06-.94L8.5 2.5l-.94 2.06-2.06.94zm10 10l.94 2.06.94-2.06 2.06-.94-2.06-.94-.94-2.06-.94 2.06-2.06.94z\"/><path d=\"M17.41 7.96l-1.37-1.37c-.4-.4-.92-.59-1.43-.59-.52 0-1.04.2-1.43.59L10.3 9.45l-7.72 7.72c-.78.78-.78 2.05 0 2.83L4 21.41c.39.39.9.59 1.41.59.51 0 1.02-.2 1.41-.59l7.78-7.78 2.81-2.81c.8-.78.8-2.07 0-2.86zM5.41 20L4 18.59l7.72-7.72 1.47 1.35L5.41 20z\"/>\n",
              "  </svg>\n",
              "      </button>\n",
              "      \n",
              "  <style>\n",
              "    .colab-df-container {\n",
              "      display:flex;\n",
              "      flex-wrap:wrap;\n",
              "      gap: 12px;\n",
              "    }\n",
              "\n",
              "    .colab-df-convert {\n",
              "      background-color: #E8F0FE;\n",
              "      border: none;\n",
              "      border-radius: 50%;\n",
              "      cursor: pointer;\n",
              "      display: none;\n",
              "      fill: #1967D2;\n",
              "      height: 32px;\n",
              "      padding: 0 0 0 0;\n",
              "      width: 32px;\n",
              "    }\n",
              "\n",
              "    .colab-df-convert:hover {\n",
              "      background-color: #E2EBFA;\n",
              "      box-shadow: 0px 1px 2px rgba(60, 64, 67, 0.3), 0px 1px 3px 1px rgba(60, 64, 67, 0.15);\n",
              "      fill: #174EA6;\n",
              "    }\n",
              "\n",
              "    [theme=dark] .colab-df-convert {\n",
              "      background-color: #3B4455;\n",
              "      fill: #D2E3FC;\n",
              "    }\n",
              "\n",
              "    [theme=dark] .colab-df-convert:hover {\n",
              "      background-color: #434B5C;\n",
              "      box-shadow: 0px 1px 3px 1px rgba(0, 0, 0, 0.15);\n",
              "      filter: drop-shadow(0px 1px 2px rgba(0, 0, 0, 0.3));\n",
              "      fill: #FFFFFF;\n",
              "    }\n",
              "  </style>\n",
              "\n",
              "      <script>\n",
              "        const buttonEl =\n",
              "          document.querySelector('#df-dc3e852c-8bf9-412c-bf9c-0775ed9b9ddf button.colab-df-convert');\n",
              "        buttonEl.style.display =\n",
              "          google.colab.kernel.accessAllowed ? 'block' : 'none';\n",
              "\n",
              "        async function convertToInteractive(key) {\n",
              "          const element = document.querySelector('#df-dc3e852c-8bf9-412c-bf9c-0775ed9b9ddf');\n",
              "          const dataTable =\n",
              "            await google.colab.kernel.invokeFunction('convertToInteractive',\n",
              "                                                     [key], {});\n",
              "          if (!dataTable) return;\n",
              "\n",
              "          const docLinkHtml = 'Like what you see? Visit the ' +\n",
              "            '<a target=\"_blank\" href=https://colab.research.google.com/notebooks/data_table.ipynb>data table notebook</a>'\n",
              "            + ' to learn more about interactive tables.';\n",
              "          element.innerHTML = '';\n",
              "          dataTable['output_type'] = 'display_data';\n",
              "          await google.colab.output.renderOutput(dataTable, element);\n",
              "          const docLink = document.createElement('div');\n",
              "          docLink.innerHTML = docLinkHtml;\n",
              "          element.appendChild(docLink);\n",
              "        }\n",
              "      </script>\n",
              "    </div>\n",
              "  </div>\n",
              "  "
            ]
          },
          "metadata": {},
          "execution_count": 16
        }
      ]
    }
  ]
}